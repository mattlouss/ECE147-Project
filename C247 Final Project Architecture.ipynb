{
 "cells": [
  {
   "cell_type": "markdown",
   "metadata": {
    "heading_collapsed": true,
    "lc_cell_meme": {
     "current": "ab236048-c59f-11ed-98f8-c0335e65711e",
     "next": "568d6af1-c29c-11ed-9150-c0335e65711e",
     "previous": null
    }
   },
   "source": [
    "## Import Packages and Data "
   ]
  },
  {
   "cell_type": "code",
   "execution_count": 1,
   "metadata": {
    "hidden": true,
    "lc_cell_meme": {
     "current": "568d6af1-c29c-11ed-9150-c0335e65711e",
     "execution_end_time": "2023-03-18T15:13:37.802127Z",
     "history": [
      {
       "current": "568d6af1-c29c-11ed-9150-c0335e65711e",
       "next": "568d6af2-c29c-11ed-9128-c0335e65711e",
       "previous": null
      }
     ],
     "next": "568d6af2-c29c-11ed-9128-c0335e65711e",
     "previous": "ab236048-c59f-11ed-98f8-c0335e65711e"
    }
   },
   "outputs": [],
   "source": [
    "import tensorflow as tf                  # TensorFlow\n",
    "import tensorflow.nn as nn               # nn contains useful neural network functions like softmax, relu, tanh\n",
    "from tensorflow import keras             # high level API for TensorFlow\n",
    "import tensorflow.keras.layers as layers # contains layers like RNN, CNN, LSTM\n",
    "import numpy as np                       # standard numerical python\n",
    "# used to partition datasets\n",
    "from sklearn.model_selection import train_test_split  \n",
    "\n",
    "#####\n",
    "\n",
    "import pandas as pd\n",
    "from keras.models import Sequential\n",
    "from keras.layers import Dense, Activation, Flatten,Dropout\n",
    "from keras.layers import Conv2D,LSTM,BatchNormalization,MaxPooling2D,Reshape,Bidirectional,GRU\n",
    "from keras.utils import to_categorical\n",
    "import matplotlib.pyplot as plt"
   ]
  },
  {
   "cell_type": "code",
   "execution_count": 2,
   "metadata": {
    "hidden": true,
    "lc_cell_meme": {
     "current": "568d6af2-c29c-11ed-9128-c0335e65711e",
     "execution_end_time": "2023-03-18T15:15:44.092376Z",
     "history": [
      {
       "current": "568d6af2-c29c-11ed-9128-c0335e65711e",
       "next": "568d6af3-c29c-11ed-894a-c0335e65711e",
       "previous": "568d6af1-c29c-11ed-9150-c0335e65711e"
      }
     ],
     "next": "568d6af4-c29c-11ed-ba8c-c0335e65711e",
     "previous": "568d6af1-c29c-11ed-9150-c0335e65711e"
    }
   },
   "outputs": [],
   "source": [
    "def data_split(X,Y,person):\n",
    "    num_persons = 9 \n",
    "    X_person = []\n",
    "    Y_person = [] \n",
    "    \n",
    "    for i in range(num_persons): \n",
    "        index = np.where(person == i)[0]\n",
    "\n",
    "        X_person.append(X[index, :, :]) \n",
    "        Y_person.append(Y[index]) \n",
    "        \n",
    "    return X_person, Y_person "
   ]
  },
  {
   "cell_type": "code",
   "execution_count": 13,
   "metadata": {
    "hidden": true,
    "lc_cell_meme": {
     "current": "568d6af4-c29c-11ed-ba8c-c0335e65711e",
     "execution_end_time": "2023-03-18T16:15:30.172406Z",
     "history": [
      {
       "current": "568d6af4-c29c-11ed-ba8c-c0335e65711e",
       "next": null,
       "previous": "568d6af3-c29c-11ed-894a-c0335e65711e"
      }
     ],
     "next": "ab236049-c59f-11ed-85a5-c0335e65711e",
     "previous": "568d6af2-c29c-11ed-9128-c0335e65711e"
    }
   },
   "outputs": [],
   "source": [
    "def data_prep(X,y,sub_sample,average,noise):\n",
    "    \n",
    "    total_X = None\n",
    "    total_y = None\n",
    "    \n",
    "    # Trimming the data (sample,22,1000) -> (sample,22,500)\n",
    "    X = X[:,:,0:500]\n",
    "    #print('Shape of X after trimming:',X.shape)\n",
    "    \n",
    "    # Maxpooling the data (sample,22,1000) -> (sample,22,500/sub_sample)\n",
    "    X_max = np.max(X.reshape(X.shape[0], X.shape[1], -1, sub_sample), axis=3)\n",
    "    \n",
    "    \n",
    "    total_X = X_max\n",
    "    total_y = y\n",
    "    #print('Shape of X after maxpooling:',total_X.shape)\n",
    "    \n",
    "    # Averaging + noise \n",
    "    X_average = np.mean(X.reshape(X.shape[0], X.shape[1], -1, average),axis=3)\n",
    "    X_average = X_average + np.random.normal(0.0, 0.5, X_average.shape)\n",
    "    \n",
    "    total_X = np.vstack((total_X, X_average))\n",
    "    total_y = np.hstack((total_y, y))\n",
    "    #print('Shape of X after averaging+noise and concatenating:',total_X.shape)\n",
    "    \n",
    "    # Subsampling\n",
    "    \n",
    "    for i in range(sub_sample):\n",
    "        \n",
    "        X_subsample = X[:, :, i::sub_sample] + \\\n",
    "                            (np.random.normal(0.0, 0.5, X[:, :,i::sub_sample].shape) if noise else 0.0)\n",
    "            \n",
    "        total_X = np.vstack((total_X, X_subsample))\n",
    "        total_y = np.hstack((total_y, y))\n",
    "        \n",
    "    \n",
    "    #print('Shape of X after subsampling and concatenating:',total_X.shape)\n",
    "    return total_X,total_y"
   ]
  },
  {
   "cell_type": "code",
   "execution_count": 14,
   "metadata": {
    "hidden": true,
    "lc_cell_meme": {
     "current": "ab236049-c59f-11ed-85a5-c0335e65711e",
     "execution_end_time": "2023-03-18T16:15:30.235950Z",
     "next": "ab238756-c59f-11ed-a937-c0335e65711e",
     "previous": "568d6af4-c29c-11ed-ba8c-c0335e65711e"
    }
   },
   "outputs": [],
   "source": [
    "def preprocessing(X, Y, X_test, Y_test):\n",
    "    ## Splits a dataset into training and validation sets and pre-processes them\n",
    "    \n",
    "    ## Determine the size of the input \n",
    "    train_size = X.shape[0] \n",
    "    valid_size = int(np.ceil(train_size/6))\n",
    "    \n",
    "    ind_valid = np.random.choice(train_size, valid_size, replace=False)\n",
    "    ind_train = np.array(list(set(range(train_size)).difference(set(ind_valid))))\n",
    "    \n",
    "    # Creating the training and validation sets using the generated indices\n",
    "    (X_train, X_valid) = X[ind_train], X[ind_valid] \n",
    "    (y_train, y_valid) = Y[ind_train], Y[ind_valid]\n",
    "      \n",
    "    ## Preprocessing the dataset\n",
    "    x_train,y_train = data_prep(X_train,y_train,2,2,True)\n",
    "    x_valid,y_valid = data_prep(X_valid,y_valid,2,2,True)\n",
    "    X_test_prep,y_test_prep = data_prep(X_test,Y_test,2,2,True)\n",
    "    \n",
    "    #print('Shape of training set:',x_train.shape)\n",
    "    #print('Shape of validation set:',x_valid.shape)\n",
    "    #print('Shape of training labels:',y_train.shape)\n",
    "    #print('Shape of validation labels:',y_valid.shape)\n",
    "    #print('Shape of testing set:',X_test_prep.shape)\n",
    "    #print('Shape of testing labels:',y_test_prep.shape)\n",
    "       \n",
    "    # Converting the labels to categorical variables for multiclass classification\n",
    "    y_train = to_categorical(y_train, 4)\n",
    "    y_valid = to_categorical(y_valid, 4)\n",
    "    y_test = to_categorical(y_test_prep, 4)\n",
    "    #print('Shape of training labels after categorical conversion:',y_train.shape)\n",
    "    #print('Shape of validation labels after categorical conversion:',y_valid.shape)\n",
    "    #print('Shape of test labels after categorical conversion:',y_test.shape)\n",
    "    \n",
    "    # Adding width of the segment to be 1\n",
    "    x_train = x_train.reshape(x_train.shape[0], x_train.shape[1], x_train.shape[2], 1)\n",
    "    x_valid = x_valid.reshape(x_valid.shape[0], x_valid.shape[1], x_train.shape[2], 1)\n",
    "    x_test = X_test_prep.reshape(X_test_prep.shape[0], X_test_prep.shape[1], X_test_prep.shape[2], 1)\n",
    "    #print('Shape of training set after adding width info:',x_train.shape)\n",
    "    #print('Shape of validation set after adding width info:',x_valid.shape)\n",
    "    #print('Shape of test set after adding width info:',x_test.shape)\n",
    "\n",
    "    # Reshaping the training and validation dataset\n",
    "    x_train = np.swapaxes(x_train, 1,3)\n",
    "    x_train = np.swapaxes(x_train, 1,2)\n",
    "    x_valid = np.swapaxes(x_valid, 1,3)\n",
    "    x_valid = np.swapaxes(x_valid, 1,2)\n",
    "    x_test = np.swapaxes(x_test, 1,3)\n",
    "    x_test = np.swapaxes(x_test, 1,2)\n",
    "    #print('Shape of training set after dimension reshaping:',x_train.shape)\n",
    "    #print('Shape of validation set after dimension reshaping:',x_valid.shape)\n",
    "    #print('Shape of test set after dimension reshaping:',x_test.shape)\n",
    "    \n",
    "    return y_train, y_valid, y_test, x_train, x_valid, x_test"
   ]
  },
  {
   "cell_type": "code",
   "execution_count": 5,
   "metadata": {
    "hidden": true,
    "lc_cell_meme": {
     "current": "ab238756-c59f-11ed-a937-c0335e65711e",
     "execution_end_time": "2023-03-18T15:15:47.518487Z",
     "history": [
      {
       "current": "ab238756-c59f-11ed-a937-c0335e65711e",
       "next": "ab238757-c59f-11ed-87d2-c0335e65711e",
       "previous": "ab236049-c59f-11ed-85a5-c0335e65711e"
      }
     ],
     "next": "e9d3341e-c59f-11ed-ac3c-c0335e65711e",
     "previous": "ab236049-c59f-11ed-85a5-c0335e65711e"
    }
   },
   "outputs": [],
   "source": [
    "## Loading the dataset\n",
    "X_test = np.load(\"X_test.npy\")\n",
    "Y_test = np.load(\"y_test.npy\")\n",
    "person_test = np.load(\"person_test.npy\")\n",
    "X_train_valid = np.load(\"X_train_valid.npy\")\n",
    "Y_train_valid = np.load(\"y_train_valid.npy\")\n",
    "person_train_valid = np.load(\"person_train_valid.npy\")\n",
    "\n",
    "## Adjust the dataset labels to be 0,1,2,3\n",
    "Y_train_valid -= 769\n",
    "Y_test -= 769 \n",
    "\n",
    "## Split the dataset into those belonging to individual people \n",
    "Xp_train_valid, Yp_train_valid = data_split(X_train_valid, Y_train_valid, person_train_valid)\n",
    "Xp_test, Yp_test = data_split(X_test, Y_test, person_test) "
   ]
  },
  {
   "cell_type": "markdown",
   "metadata": {
    "lc_cell_meme": {
     "current": "e9d3341e-c59f-11ed-ac3c-c0335e65711e",
     "next": "ab238757-c59f-11ed-87d2-c0335e65711e",
     "previous": "ab238756-c59f-11ed-a937-c0335e65711e"
    }
   },
   "source": [
    "## Preprocess Data "
   ]
  },
  {
   "cell_type": "code",
   "execution_count": null,
   "metadata": {
    "lc_cell_meme": {
     "current": "ab238757-c59f-11ed-87d2-c0335e65711e",
     "history": [
      {
       "current": "ab238757-c59f-11ed-87d2-c0335e65711e",
       "next": "ab238758-c59f-11ed-86c9-c0335e65711e",
       "previous": "ab238756-c59f-11ed-a937-c0335e65711e"
      }
     ],
     "next": "ab238758-c59f-11ed-86c9-c0335e65711e",
     "previous": "e9d3341e-c59f-11ed-ac3c-c0335e65711e"
    }
   },
   "outputs": [],
   "source": [
    "## Preprocess a single person dataset \n",
    "person = 0  #Set which person you'd like to look at (from 0 to 8)\n",
    "\n",
    "yp_train, yp_valid, yp_test, x_train, x_valid, x_test = preprocessing(Xp_train_valid[person], Yp_train_valid[person], Xp_test[person], Yp_test[person])"
   ]
  },
  {
   "cell_type": "code",
   "execution_count": null,
   "metadata": {
    "lc_cell_meme": {
     "current": "ab238758-c59f-11ed-86c9-c0335e65711e",
     "history": [
      {
       "current": "ab238758-c59f-11ed-86c9-c0335e65711e",
       "next": null,
       "previous": "ab238757-c59f-11ed-87d2-c0335e65711e"
      }
     ],
     "next": "e9d3341f-c59f-11ed-8425-c0335e65711e",
     "previous": "ab238757-c59f-11ed-87d2-c0335e65711e"
    }
   },
   "outputs": [],
   "source": [
    "## Preprocess the entire dataset \n",
    "y_train, y_valid, y_test, x_train, x_valid, x_test = preprocessing(X_train_valid, Y_train_valid, X_test, Y_test)"
   ]
  },
  {
   "cell_type": "markdown",
   "metadata": {
    "lc_cell_meme": {
     "current": "e9d3341f-c59f-11ed-8425-c0335e65711e",
     "history": [
      {
       "current": "e9d3341f-c59f-11ed-8425-c0335e65711e",
       "next": "e9d33420-c59f-11ed-a137-c0335e65711e",
       "previous": "ab238758-c59f-11ed-86c9-c0335e65711e"
      }
     ],
     "next": "aeb8f73e-c5ab-11ed-8ed9-c0335e65711e",
     "previous": "ab238758-c59f-11ed-86c9-c0335e65711e"
    }
   },
   "source": [
    "## Models "
   ]
  },
  {
   "cell_type": "code",
   "execution_count": 18,
   "metadata": {
    "lc_cell_meme": {
     "current": "aeb8f73e-c5ab-11ed-8ed9-c0335e65711e",
     "execution_end_time": "2023-03-18T16:41:16.135262Z",
     "next": "e9d33420-c59f-11ed-a137-c0335e65711e",
     "previous": "e9d3341f-c59f-11ed-8425-c0335e65711e"
    }
   },
   "outputs": [
    {
     "name": "stdout",
     "output_type": "stream",
     "text": [
      "Model: \"sequential_7\"\n",
      "_________________________________________________________________\n",
      " Layer (type)                Output Shape              Param #   \n",
      "=================================================================\n",
      " conv2d_14 (Conv2D)          (None, 250, 1, 25)        5525      \n",
      "                                                                 \n",
      " max_pooling2d_14 (MaxPoolin  (None, 84, 1, 25)        0         \n",
      " g2D)                                                            \n",
      "                                                                 \n",
      " batch_normalization_14 (Bat  (None, 84, 1, 25)        100       \n",
      " chNormalization)                                                \n",
      "                                                                 \n",
      " dropout_14 (Dropout)        (None, 84, 1, 25)         0         \n",
      "                                                                 \n",
      " conv2d_15 (Conv2D)          (None, 84, 1, 50)         12550     \n",
      "                                                                 \n",
      " max_pooling2d_15 (MaxPoolin  (None, 28, 1, 50)        0         \n",
      " g2D)                                                            \n",
      "                                                                 \n",
      " batch_normalization_15 (Bat  (None, 28, 1, 50)        200       \n",
      " chNormalization)                                                \n",
      "                                                                 \n",
      " dropout_15 (Dropout)        (None, 28, 1, 50)         0         \n",
      "                                                                 \n",
      " flatten_6 (Flatten)         (None, 1400)              0         \n",
      "                                                                 \n",
      " dense_9 (Dense)             (None, 100)               140100    \n",
      "                                                                 \n",
      " reshape_6 (Reshape)         (None, 100, 1)            0         \n",
      "                                                                 \n",
      " gru_13 (GRU)                (None, 100, 64)           12864     \n",
      "                                                                 \n",
      " dropout_16 (Dropout)        (None, 100, 64)           0         \n",
      "                                                                 \n",
      " gru_14 (GRU)                (None, 100, 32)           9408      \n",
      "                                                                 \n",
      " dropout_17 (Dropout)        (None, 100, 32)           0         \n",
      "                                                                 \n",
      " gru_15 (GRU)                (None, 10)                1320      \n",
      "                                                                 \n",
      " dense_10 (Dense)            (None, 4)                 44        \n",
      "                                                                 \n",
      "=================================================================\n",
      "Total params: 182,111\n",
      "Trainable params: 181,961\n",
      "Non-trainable params: 150\n",
      "_________________________________________________________________\n"
     ]
    }
   ],
   "source": [
    "## Preprocess the entire dataset \n",
    "y_train, y_valid, y_test, x_train, x_valid, x_test = preprocessing(X_train_valid, Y_train_valid, X_test, Y_test)\n",
    "\n",
    "# Building the CNN model using sequential class\n",
    "model = Sequential()\n",
    "\n",
    "# Conv. block 1\n",
    "model.add(Conv2D(filters=25, kernel_size=(10,1), padding='same', activation='elu', input_shape=(250,1,22)))\n",
    "model.add(MaxPooling2D(pool_size=(3,1), padding='same')) # Read the keras documentation\n",
    "model.add(BatchNormalization())\n",
    "model.add(Dropout(0.5))\n",
    "\n",
    "# Conv. block 2\n",
    "model.add(Conv2D(filters=50, kernel_size=(10,1), padding='same', activation='elu'))\n",
    "model.add(MaxPooling2D(pool_size=(3,1), padding='same'))\n",
    "model.add(BatchNormalization())\n",
    "model.add(Dropout(0.5))\n",
    "\n",
    "# Stacked GRUs \n",
    "model.add(Flatten()) \n",
    "model.add(Dense(100))\n",
    "model.add(Reshape((100,1)))\n",
    "model.add(GRU(64, return_sequences=True, recurrent_dropout=0.1, input_shape=(100,1))) \n",
    "model.add(Dropout(0.2))\n",
    "model.add(GRU(32, return_sequences=True, recurrent_dropout=0.1)) \n",
    "model.add(Dropout(0.2))\n",
    "model.add(GRU(10))\n",
    "\n",
    "# Output Layer with Softmax Activation\n",
    "model.add(Dense(4, activation='softmax')) # Output FC layer with softmax activation\n",
    "\n",
    "model.summary()"
   ]
  },
  {
   "cell_type": "code",
   "execution_count": 16,
   "metadata": {
    "lc_cell_meme": {
     "current": "e9d33420-c59f-11ed-a137-c0335e65711e",
     "execution_end_time": "2023-03-18T16:39:12.958358Z",
     "history": [
      {
       "current": "e9d33420-c59f-11ed-a137-c0335e65711e",
       "next": null,
       "previous": "e9d3341f-c59f-11ed-8425-c0335e65711e"
      },
      {
       "current": "e9d33420-c59f-11ed-a137-c0335e65711e",
       "next": "58475e65-c5a1-11ed-bb18-c0335e65711e",
       "previous": "e9d3341f-c59f-11ed-8425-c0335e65711e"
      }
     ],
     "next": "58475e65-c5a1-11ed-bb18-c0335e65711e",
     "previous": "aeb8f73e-c5ab-11ed-8ed9-c0335e65711e"
    }
   },
   "outputs": [
    {
     "name": "stdout",
     "output_type": "stream",
     "text": [
      "Model: \"sequential_6\"\n",
      "_________________________________________________________________\n",
      " Layer (type)                Output Shape              Param #   \n",
      "=================================================================\n",
      " conv2d_12 (Conv2D)          (None, 250, 1, 25)        5525      \n",
      "                                                                 \n",
      " max_pooling2d_12 (MaxPoolin  (None, 84, 1, 25)        0         \n",
      " g2D)                                                            \n",
      "                                                                 \n",
      " batch_normalization_12 (Bat  (None, 84, 1, 25)        100       \n",
      " chNormalization)                                                \n",
      "                                                                 \n",
      " dropout_12 (Dropout)        (None, 84, 1, 25)         0         \n",
      "                                                                 \n",
      " conv2d_13 (Conv2D)          (None, 84, 1, 50)         12550     \n",
      "                                                                 \n",
      " max_pooling2d_13 (MaxPoolin  (None, 28, 1, 50)        0         \n",
      " g2D)                                                            \n",
      "                                                                 \n",
      " batch_normalization_13 (Bat  (None, 28, 1, 50)        200       \n",
      " chNormalization)                                                \n",
      "                                                                 \n",
      " dropout_13 (Dropout)        (None, 28, 1, 50)         0         \n",
      "                                                                 \n",
      " flatten_5 (Flatten)         (None, 1400)              0         \n",
      "                                                                 \n",
      " dense_7 (Dense)             (None, 100)               140100    \n",
      "                                                                 \n",
      " reshape_5 (Reshape)         (None, 100, 1)            0         \n",
      "                                                                 \n",
      " gru_10 (GRU)                (None, 100, 32)           3360      \n",
      "                                                                 \n",
      " gru_11 (GRU)                (None, 100, 32)           6336      \n",
      "                                                                 \n",
      " gru_12 (GRU)                (None, 10)                1320      \n",
      "                                                                 \n",
      " dense_8 (Dense)             (None, 4)                 44        \n",
      "                                                                 \n",
      "=================================================================\n",
      "Total params: 169,535\n",
      "Trainable params: 169,385\n",
      "Non-trainable params: 150\n",
      "_________________________________________________________________\n",
      "Epoch 1/50\n",
      "111/111 [==============================] - 31s 207ms/step - loss: 1.2693 - accuracy: 0.3939 - val_loss: 1.1522 - val_accuracy: 0.4858 - lr: 0.0010\n",
      "Epoch 2/50\n",
      "111/111 [==============================] - 23s 208ms/step - loss: 1.1146 - accuracy: 0.4956 - val_loss: 1.1218 - val_accuracy: 0.4780 - lr: 0.0010\n",
      "Epoch 3/50\n",
      "111/111 [==============================] - 23s 207ms/step - loss: 1.0332 - accuracy: 0.5379 - val_loss: 1.1095 - val_accuracy: 0.5120 - lr: 0.0010\n",
      "Epoch 4/50\n",
      "111/111 [==============================] - 22s 203ms/step - loss: 0.9794 - accuracy: 0.5630 - val_loss: 1.1192 - val_accuracy: 0.5042 - lr: 0.0010\n",
      "Epoch 5/50\n",
      "111/111 [==============================] - 22s 200ms/step - loss: 0.9425 - accuracy: 0.5894 - val_loss: 1.1466 - val_accuracy: 0.4695 - lr: 0.0010\n",
      "Epoch 6/50\n",
      "111/111 [==============================] - 22s 200ms/step - loss: 0.8705 - accuracy: 0.6268 - val_loss: 1.0893 - val_accuracy: 0.5142 - lr: 0.0010\n",
      "Epoch 7/50\n",
      "111/111 [==============================] - 22s 201ms/step - loss: 0.8127 - accuracy: 0.6494 - val_loss: 1.1365 - val_accuracy: 0.4950 - lr: 0.0010\n",
      "Epoch 8/50\n",
      "111/111 [==============================] - 23s 207ms/step - loss: 0.7425 - accuracy: 0.6901 - val_loss: 1.1407 - val_accuracy: 0.5156 - lr: 0.0010\n",
      "Epoch 9/50\n",
      "111/111 [==============================] - 22s 198ms/step - loss: 0.7168 - accuracy: 0.7053 - val_loss: 1.1643 - val_accuracy: 0.5312 - lr: 0.0010\n",
      "Epoch 10/50\n",
      "111/111 [==============================] - 23s 207ms/step - loss: 0.6430 - accuracy: 0.7422 - val_loss: 1.2607 - val_accuracy: 0.5014 - lr: 0.0010\n",
      "Epoch 11/50\n",
      "111/111 [==============================] - 22s 197ms/step - loss: 0.6035 - accuracy: 0.7585 - val_loss: 1.1539 - val_accuracy: 0.5552 - lr: 0.0010\n",
      "Epoch 12/50\n",
      "111/111 [==============================] - 22s 197ms/step - loss: 0.5538 - accuracy: 0.7863 - val_loss: 1.2097 - val_accuracy: 0.5361 - lr: 0.0010\n",
      "Epoch 13/50\n",
      "111/111 [==============================] - 23s 204ms/step - loss: 0.5195 - accuracy: 0.7924 - val_loss: 1.2651 - val_accuracy: 0.5574 - lr: 0.0010\n",
      "Epoch 14/50\n",
      "111/111 [==============================] - 22s 198ms/step - loss: 0.4787 - accuracy: 0.8170 - val_loss: 1.2368 - val_accuracy: 0.5637 - lr: 0.0010\n",
      "Epoch 15/50\n",
      "111/111 [==============================] - 22s 196ms/step - loss: 0.4577 - accuracy: 0.8276 - val_loss: 1.2096 - val_accuracy: 0.5885 - lr: 0.0010\n",
      "Epoch 16/50\n",
      "111/111 [==============================] - 22s 196ms/step - loss: 0.4155 - accuracy: 0.8461 - val_loss: 1.2252 - val_accuracy: 0.5850 - lr: 0.0010\n",
      "Epoch 17/50\n",
      "111/111 [==============================] - 22s 200ms/step - loss: 0.3499 - accuracy: 0.8702 - val_loss: 1.2389 - val_accuracy: 0.5829 - lr: 3.0000e-04\n",
      "Epoch 18/50\n",
      "111/111 [==============================] - 22s 202ms/step - loss: 0.3415 - accuracy: 0.8763 - val_loss: 1.2632 - val_accuracy: 0.5737 - lr: 3.0000e-04\n",
      "Epoch 19/50\n",
      "111/111 [==============================] - 22s 201ms/step - loss: 0.3228 - accuracy: 0.8842 - val_loss: 1.2900 - val_accuracy: 0.5737 - lr: 3.0000e-04\n",
      "Epoch 20/50\n",
      "111/111 [==============================] - 22s 197ms/step - loss: 0.3127 - accuracy: 0.8854 - val_loss: 1.2946 - val_accuracy: 0.5899 - lr: 3.0000e-04\n",
      "Epoch 21/50\n",
      "111/111 [==============================] - 22s 198ms/step - loss: 0.3132 - accuracy: 0.8871 - val_loss: 1.2510 - val_accuracy: 0.5800 - lr: 3.0000e-04\n",
      "Epoch 22/50\n",
      "111/111 [==============================] - 22s 198ms/step - loss: 0.2924 - accuracy: 0.8970 - val_loss: 1.2862 - val_accuracy: 0.5850 - lr: 3.0000e-04\n",
      "Epoch 23/50\n",
      "111/111 [==============================] - 22s 200ms/step - loss: 0.2890 - accuracy: 0.8950 - val_loss: 1.3045 - val_accuracy: 0.5843 - lr: 3.0000e-04\n",
      "Epoch 24/50\n",
      "111/111 [==============================] - 23s 205ms/step - loss: 0.2783 - accuracy: 0.9015 - val_loss: 1.3428 - val_accuracy: 0.5807 - lr: 3.0000e-04\n",
      "Epoch 25/50\n",
      "111/111 [==============================] - 22s 198ms/step - loss: 0.2766 - accuracy: 0.8986 - val_loss: 1.3074 - val_accuracy: 0.5829 - lr: 3.0000e-04\n",
      "Epoch 26/50\n",
      "111/111 [==============================] - 22s 196ms/step - loss: 0.2741 - accuracy: 0.9003 - val_loss: 1.2823 - val_accuracy: 0.5914 - lr: 3.0000e-04\n",
      "Epoch 27/50\n",
      "111/111 [==============================] - 22s 198ms/step - loss: 0.2459 - accuracy: 0.9120 - val_loss: 1.2982 - val_accuracy: 0.5928 - lr: 9.0000e-05\n",
      "Epoch 28/50\n",
      "111/111 [==============================] - 22s 198ms/step - loss: 0.2605 - accuracy: 0.9065 - val_loss: 1.2810 - val_accuracy: 0.5935 - lr: 9.0000e-05\n",
      "Epoch 29/50\n",
      "111/111 [==============================] - 22s 201ms/step - loss: 0.2410 - accuracy: 0.9170 - val_loss: 1.2991 - val_accuracy: 0.5914 - lr: 9.0000e-05\n",
      "Epoch 30/50\n",
      "111/111 [==============================] - 22s 200ms/step - loss: 0.2370 - accuracy: 0.9164 - val_loss: 1.2993 - val_accuracy: 0.5928 - lr: 9.0000e-05\n",
      "Epoch 31/50\n",
      "111/111 [==============================] - 22s 198ms/step - loss: 0.2356 - accuracy: 0.9161 - val_loss: 1.3006 - val_accuracy: 0.5956 - lr: 9.0000e-05\n",
      "Epoch 32/50\n",
      "111/111 [==============================] - 22s 202ms/step - loss: 0.2403 - accuracy: 0.9149 - val_loss: 1.2894 - val_accuracy: 0.5977 - lr: 9.0000e-05\n",
      "Epoch 33/50\n",
      "111/111 [==============================] - 22s 197ms/step - loss: 0.2283 - accuracy: 0.9208 - val_loss: 1.2902 - val_accuracy: 0.5999 - lr: 9.0000e-05\n",
      "Epoch 34/50\n",
      "111/111 [==============================] - 22s 197ms/step - loss: 0.2151 - accuracy: 0.9247 - val_loss: 1.2916 - val_accuracy: 0.5999 - lr: 9.0000e-05\n",
      "Epoch 35/50\n"
     ]
    },
    {
     "name": "stdout",
     "output_type": "stream",
     "text": [
      "111/111 [==============================] - 23s 205ms/step - loss: 0.2291 - accuracy: 0.9224 - val_loss: 1.2877 - val_accuracy: 0.6119 - lr: 9.0000e-05\n",
      "Epoch 36/50\n",
      "111/111 [==============================] - 22s 202ms/step - loss: 0.2259 - accuracy: 0.9194 - val_loss: 1.3045 - val_accuracy: 0.5949 - lr: 9.0000e-05\n",
      "Epoch 37/50\n",
      "111/111 [==============================] - 24s 215ms/step - loss: 0.2175 - accuracy: 0.9237 - val_loss: 1.2991 - val_accuracy: 0.5970 - lr: 2.7000e-05\n",
      "Epoch 38/50\n",
      "111/111 [==============================] - 23s 210ms/step - loss: 0.2115 - accuracy: 0.9261 - val_loss: 1.2999 - val_accuracy: 0.6013 - lr: 2.7000e-05\n",
      "Epoch 39/50\n",
      "111/111 [==============================] - 22s 201ms/step - loss: 0.2299 - accuracy: 0.9176 - val_loss: 1.3024 - val_accuracy: 0.5956 - lr: 2.7000e-05\n",
      "Epoch 40/50\n",
      "111/111 [==============================] - 23s 209ms/step - loss: 0.2149 - accuracy: 0.9276 - val_loss: 1.2989 - val_accuracy: 0.6006 - lr: 2.7000e-05\n",
      "Epoch 41/50\n",
      "111/111 [==============================] - 23s 206ms/step - loss: 0.2194 - accuracy: 0.9247 - val_loss: 1.3028 - val_accuracy: 0.6013 - lr: 2.7000e-05\n",
      "Epoch 42/50\n",
      "111/111 [==============================] - 24s 218ms/step - loss: 0.2070 - accuracy: 0.9269 - val_loss: 1.3030 - val_accuracy: 0.6020 - lr: 2.7000e-05\n",
      "Epoch 43/50\n",
      "111/111 [==============================] - 22s 199ms/step - loss: 0.2110 - accuracy: 0.9265 - val_loss: 1.2940 - val_accuracy: 0.5970 - lr: 2.7000e-05\n",
      "Epoch 44/50\n",
      "111/111 [==============================] - 22s 199ms/step - loss: 0.2078 - accuracy: 0.9309 - val_loss: 1.2894 - val_accuracy: 0.5999 - lr: 2.7000e-05\n",
      "Epoch 45/50\n",
      "111/111 [==============================] - 23s 203ms/step - loss: 0.2217 - accuracy: 0.9222 - val_loss: 1.2892 - val_accuracy: 0.5984 - lr: 2.7000e-05\n",
      "Epoch 46/50\n",
      "111/111 [==============================] - 23s 204ms/step - loss: 0.2025 - accuracy: 0.9302 - val_loss: 1.2944 - val_accuracy: 0.6069 - lr: 2.7000e-05\n",
      "Epoch 47/50\n",
      "111/111 [==============================] - 22s 199ms/step - loss: 0.2122 - accuracy: 0.9255 - val_loss: 1.2968 - val_accuracy: 0.6041 - lr: 8.1000e-06\n",
      "Epoch 48/50\n",
      "111/111 [==============================] - 22s 200ms/step - loss: 0.2126 - accuracy: 0.9271 - val_loss: 1.2989 - val_accuracy: 0.6013 - lr: 8.1000e-06\n",
      "Epoch 49/50\n",
      "111/111 [==============================] - 22s 200ms/step - loss: 0.2219 - accuracy: 0.9232 - val_loss: 1.2972 - val_accuracy: 0.6013 - lr: 8.1000e-06\n",
      "Epoch 50/50\n",
      "111/111 [==============================] - 24s 216ms/step - loss: 0.2157 - accuracy: 0.9237 - val_loss: 1.2949 - val_accuracy: 0.6020 - lr: 8.1000e-06\n"
     ]
    },
    {
     "data": {
      "image/png": "[encoded data removed]",
      "text/plain": [
       "<Figure size 432x288 with 1 Axes>"
      ]
     },
     "metadata": {
      "needs_background": "light"
     },
     "output_type": "display_data"
    },
    {
     "data": {
      "image/png": "[encoded data removed]",
      "text/plain": [
       "<Figure size 432x288 with 1 Axes>"
      ]
     },
     "metadata": {
      "needs_background": "light"
     },
     "output_type": "display_data"
    },
    {
     "name": "stdout",
     "output_type": "stream",
     "text": [
      "Test accuracy of the hybrid CNN-LSTM model: 0.5665914416313171\n"
     ]
    }
   ],
   "source": [
    "## Preprocess the entire dataset \n",
    "y_train, y_valid, y_test, x_train, x_valid, x_test = preprocessing(X_train_valid, Y_train_valid, X_test, Y_test)\n",
    "\n",
    "# Building the CNN model using sequential class\n",
    "model = Sequential()\n",
    "\n",
    "# Conv. block 1\n",
    "model.add(Conv2D(filters=25, kernel_size=(10,1), padding='same', activation='elu', input_shape=(250,1,22)))\n",
    "model.add(MaxPooling2D(pool_size=(3,1), padding='same')) # Read the keras documentation\n",
    "model.add(BatchNormalization())\n",
    "model.add(Dropout(0.5))\n",
    "\n",
    "# Conv. block 2\n",
    "model.add(Conv2D(filters=50, kernel_size=(10,1), padding='same', activation='elu'))\n",
    "model.add(MaxPooling2D(pool_size=(3,1), padding='same'))\n",
    "model.add(BatchNormalization())\n",
    "model.add(Dropout(0.5))\n",
    "\n",
    "# Stacked GRUs \n",
    "model.add(Flatten()) \n",
    "model.add(Dense(100))\n",
    "model.add(Reshape((100,1)))\n",
    "model.add(GRU(64, return_sequences=True, recurrent_dropout=0.1, input_shape=(100,1))) \n",
    "model.add(Dropout(0.2))\n",
    "model.add(GRU(32, return_sequences=True, recurrent_dropout=0.1)) \n",
    "model.add(Dropout(0.2))\n",
    "model.add(GRU(10))\n",
    "\n",
    "# Output Layer with Softmax Activation\n",
    "model.add(Dense(4, activation='softmax')) # Output FC layer with softmax activation\n",
    "\n",
    "model.summary()\n",
    "\n",
    "lr = 1e-3\n",
    "epochs = 50\n",
    "model_optimizer = keras.optimizers.Adam(learning_rate=lr)\n",
    "\n",
    "# Compiling the model\n",
    "model.compile(loss='categorical_crossentropy',\n",
    "                 optimizer=model_optimizer,\n",
    "                 metrics=['accuracy'])\n",
    "\n",
    "# Use checkpoints to save best validation accuracy model \n",
    "#checkpoint_filepath = r\"C:\\Users\\zacha\\OneDrive - UCLA IT Services\\Documents\\ZW - Academic\\UCLA\\UCLA MAE GRAD CLASSES\\ECE C247 - Deep Learning\\Final_Project\\project\\tmp\\checkpoint\"\n",
    "#model_checkpoint_callback = tf.keras.callbacks.ModelCheckpoint(filepath=checkpoint_filepath, save_weights_only=True, monitor='val_accuracy', mode='max', save_best_only=True)\n",
    "\n",
    "lr_callback = tf.keras.callbacks.ReduceLROnPlateau(patience = 10, factor = 0.5)  # reduces by a factor of 0.5 if validation loss doesn't improve for 10 epochs\n",
    "\n",
    "# Training and validating the model\n",
    "model_results = model.fit(x_train,\n",
    "             y_train,\n",
    "             batch_size=64,\n",
    "             epochs=epochs,\n",
    "             validation_data=(x_valid, y_valid), \n",
    "             callbacks=[lr_callback],\n",
    "             verbose=True)\n",
    "\n",
    "# Plotting accuracy trajectory\n",
    "plt.plot(model_results.history['accuracy'])\n",
    "plt.plot(model_results.history['val_accuracy'])\n",
    "plt.title('Model accuracy trajectory')\n",
    "plt.ylabel('accuracy')\n",
    "plt.xlabel('epoch')\n",
    "plt.legend(['train', 'val'], loc='upper left')\n",
    "plt.show()\n",
    "\n",
    "# Plotting loss trajectory\n",
    "plt.plot(model_results.history['loss'],'o')\n",
    "plt.plot(model_results.history['val_loss'],'o')\n",
    "plt.title('Model loss trajectory')\n",
    "plt.ylabel('loss')\n",
    "plt.xlabel('epoch')\n",
    "plt.legend(['train', 'val'], loc='upper left')\n",
    "plt.show()\n",
    "\n",
    "# Testing model \n",
    "model_score = model.evaluate(x_test, y_test, verbose=0)\n",
    "print('Test accuracy of the hybrid CNN-LSTM model:',model_score[1])"
   ]
  },
  {
   "cell_type": "markdown",
   "metadata": {
    "lc_cell_meme": {
     "current": "58475e65-c5a1-11ed-bb18-c0335e65711e",
     "history": [
      {
       "current": "58475e65-c5a1-11ed-bb18-c0335e65711e",
       "next": "58475e66-c5a1-11ed-8432-c0335e65711e",
       "previous": "e9d33420-c59f-11ed-a137-c0335e65711e"
      },
      {
       "current": "58475e65-c5a1-11ed-bb18-c0335e65711e",
       "next": "4916f584-c5aa-11ed-8b3a-c0335e65711e",
       "previous": "e9d33420-c59f-11ed-a137-c0335e65711e"
      },
      {
       "current": "58475e65-c5a1-11ed-bb18-c0335e65711e",
       "next": "4916f584-c5aa-11ed-8b3a-c0335e65711e-1-f1ec",
       "previous": "e9d33420-c59f-11ed-a137-c0335e65711e"
      },
      {
       "current": "58475e65-c5a1-11ed-bb18-c0335e65711e",
       "next": "eb6cde56-c5c5-11ed-837d-c0335e65711e",
       "previous": "e9d33420-c59f-11ed-a137-c0335e65711e"
      }
     ],
     "next": "58475e66-c5a1-11ed-8432-c0335e65711e",
     "previous": "e9d33420-c59f-11ed-a137-c0335e65711e"
    }
   },
   "source": [
    "## Loop for Building and Running Models "
   ]
  },
  {
   "cell_type": "code",
   "execution_count": 26,
   "metadata": {
    "lc_cell_meme": {
     "current": "58475e66-c5a1-11ed-8432-c0335e65711e",
     "execution_end_time": "2023-03-18T19:47:43.862353Z",
     "history": [
      {
       "current": "58475e66-c5a1-11ed-8432-c0335e65711e",
       "next": null,
       "previous": "58475e65-c5a1-11ed-bb18-c0335e65711e"
      },
      {
       "current": "58475e66-c5a1-11ed-8432-c0335e65711e",
       "next": null,
       "previous": "4916f584-c5aa-11ed-8b3a-c0335e65711e"
      },
      {
       "current": "58475e66-c5a1-11ed-8432-c0335e65711e",
       "next": "a3c6a874-c5ad-11ed-8727-c0335e65711e",
       "previous": "4916f584-c5aa-11ed-8b3a-c0335e65711e"
      },
      {
       "current": "58475e66-c5a1-11ed-8432-c0335e65711e",
       "next": "a3c6a874-c5ad-11ed-8727-c0335e65711e-1-92bf",
       "previous": "4916f584-c5aa-11ed-8b3a-c0335e65711e"
      },
      {
       "current": "58475e66-c5a1-11ed-8432-c0335e65711e",
       "next": "a3c6a874-c5ad-11ed-8727-c0335e65711e-1-92bf",
       "previous": "4916f584-c5aa-11ed-8b3a-c0335e65711e-1-f1ec"
      }
     ],
     "next": "a99f83b8-c5c7-11ed-92b1-c0335e65711e",
     "previous": "58475e65-c5a1-11ed-bb18-c0335e65711e"
    }
   },
   "outputs": [],
   "source": [
    "def NN_model(num, Xtv, Ytv, Xt, Yt, lr=1e-3, epochs=50, batch=64, dropout=0.2):\n",
    "    ## Preprocess the dataset \n",
    "    y_train, y_valid, y_test, x_train, x_valid, x_test = preprocessing(Xtv, Ytv, Xt, Yt)\n",
    "    \n",
    "    ## Build the Model \n",
    "    model = Sequential() \n",
    "    \n",
    "    #Insert Model HERE \n",
    "    # Conv. block 1\n",
    "    model.add(Conv2D(filters=25, kernel_size=(10,1), padding='same', activation='elu', input_shape=(250,1,22)))\n",
    "    model.add(MaxPooling2D(pool_size=(3,1), padding='same')) # Read the keras documentation\n",
    "    model.add(BatchNormalization())\n",
    "    model.add(Dropout(0.5))\n",
    "    \n",
    "    # Conv. block 2\n",
    "    model.add(Conv2D(filters=50, kernel_size=(10,1), padding='same', activation='elu'))\n",
    "    model.add(MaxPooling2D(pool_size=(3,1), padding='same'))\n",
    "    model.add(BatchNormalization())\n",
    "    model.add(Dropout(0.5))\n",
    "    \n",
    "    # Stacked GRUs \n",
    "    model.add(Flatten()) \n",
    "    model.add(Dense(100))\n",
    "    model.add(Reshape((100,1)))\n",
    "    model.add(GRU(64, return_sequences=True, recurrent_dropout=0.1, input_shape=(100,1))) \n",
    "    model.add(Dropout(dropout))\n",
    "    model.add(GRU(32, return_sequences=True, recurrent_dropout=0.1)) \n",
    "    model.add(Dropout(dropout))\n",
    "    model.add(GRU(10))\n",
    "    \n",
    "    # Output Layer with Softmax Activation\n",
    "    model.add(Dense(4, activation='softmax')) # Output FC layer with softmax activation\n",
    "    \n",
    "    model.summary() \n",
    "    \n",
    "    ## Specify Model Parameters \n",
    "    model_optimizer = keras.optimizers.Adam(learning_rate = lr) \n",
    "    \n",
    "    ## Compiling, Training, and Validating the Model \n",
    "    model.compile(loss='categorical_crossentropy', optimizer=model_optimizer, metrics=['accuracy'])\n",
    "    \n",
    "    checkpoint_filepath = r'C:\\Users\\zacha\\OneDrive - UCLA IT Services\\Documents\\ZW - Academic\\UCLA\\UCLA MAE GRAD CLASSES\\ECE C247 - Deep Learning\\Final_Project\\project\\tmp\\checkpoint{0}'.format(num)\n",
    "    valacc_callback = tf.keras.callbacks.ModelCheckpoint(filepath=checkpoint_filepath, save_weights_only=True, monitor='val_accuracy', mode='max', save_best_only=True)\n",
    "    lr_callback = tf.keras.callbacks.ReduceLROnPlateau(patience = 10, factor = 0.5)  # reduces by a factor of 0.5 if validation loss doesn't improve for 10 epochs\n",
    "    model_results = model.fit(x_train, y_train,\n",
    "                    batch_size=batch,  #Default is 64\n",
    "                    epochs=epochs,\n",
    "                    validation_data=(x_valid, y_valid), \n",
    "                    callbacks=[valacc_callback, lr_callback], verbose=True)\n",
    "    \n",
    "    ## Visualizing the Accuracy and Loss Trajectory \n",
    "    # Plotting accuracy trajectory\n",
    "    plt.plot(model_results.history['accuracy'])\n",
    "    plt.plot(model_results.history['val_accuracy'])\n",
    "    plt.title('Model accuracy trajectory')\n",
    "    plt.ylabel('accuracy')\n",
    "    plt.xlabel('epoch')\n",
    "    plt.legend(['train', 'val'], loc='upper left')\n",
    "    plt.show()\n",
    "    \n",
    "    # Plotting loss trajectory\n",
    "    plt.plot(model_results.history['loss'],'o')\n",
    "    plt.plot(model_results.history['val_loss'],'o')\n",
    "    plt.title('Hybrid CNN-LSTM model loss trajectory')\n",
    "    plt.ylabel('loss')\n",
    "    plt.xlabel('epoch')\n",
    "    plt.legend(['train', 'val'], loc='upper left')\n",
    "    plt.show()\n",
    "    \n",
    "    ## Testing Performance of the Model \n",
    "    model_score = model.evaluate(x_test, y_test, verbose=0)\n",
    "    print('Test accuracy of the hybrid CNN-LSTM model:',model_score[1])\n",
    "    \n",
    "    # Load best validation accuracy weights \n",
    "    model.load_weights(checkpoint_filepath)\n",
    "    \n",
    "    model_score = model.evaluate(x_test, y_test, verbose=0)\n",
    "    print('Test accuracy of the hybrid CNN-LSTM model:',model_score[1])"
   ]
  },
  {
   "cell_type": "code",
   "execution_count": null,
   "metadata": {
    "code_folding": [],
    "lc_cell_meme": {
     "current": "a99f83b8-c5c7-11ed-92b1-c0335e65711e",
     "next": "a3c6a874-c5ad-11ed-8727-c0335e65711e-1-92bf",
     "previous": "58475e66-c5a1-11ed-8432-c0335e65711e"
    }
   },
   "outputs": [
    {
     "name": "stdout",
     "output_type": "stream",
     "text": [
      "Model: \"sequential_11\"\n",
      "_________________________________________________________________\n",
      " Layer (type)                Output Shape              Param #   \n",
      "=================================================================\n",
      " conv2d_22 (Conv2D)          (None, 250, 1, 25)        5525      \n",
      "                                                                 \n",
      " max_pooling2d_22 (MaxPoolin  (None, 84, 1, 25)        0         \n",
      " g2D)                                                            \n",
      "                                                                 \n",
      " batch_normalization_22 (Bat  (None, 84, 1, 25)        100       \n",
      " chNormalization)                                                \n",
      "                                                                 \n",
      " dropout_30 (Dropout)        (None, 84, 1, 25)         0         \n",
      "                                                                 \n",
      " conv2d_23 (Conv2D)          (None, 84, 1, 50)         12550     \n",
      "                                                                 \n",
      " max_pooling2d_23 (MaxPoolin  (None, 28, 1, 50)        0         \n",
      " g2D)                                                            \n",
      "                                                                 \n",
      " batch_normalization_23 (Bat  (None, 28, 1, 50)        200       \n",
      " chNormalization)                                                \n",
      "                                                                 \n",
      " dropout_31 (Dropout)        (None, 28, 1, 50)         0         \n",
      "                                                                 \n",
      " flatten_10 (Flatten)        (None, 1400)              0         \n",
      "                                                                 \n",
      " dense_17 (Dense)            (None, 100)               140100    \n",
      "                                                                 \n",
      " reshape_10 (Reshape)        (None, 100, 1)            0         \n",
      "                                                                 \n",
      " gru_25 (GRU)                (None, 100, 64)           12864     \n",
      "                                                                 \n",
      " dropout_32 (Dropout)        (None, 100, 64)           0         \n",
      "                                                                 \n",
      " gru_26 (GRU)                (None, 100, 32)           9408      \n",
      "                                                                 \n",
      " dropout_33 (Dropout)        (None, 100, 32)           0         \n",
      "                                                                 \n",
      " gru_27 (GRU)                (None, 10)                1320      \n",
      "                                                                 \n",
      " dense_18 (Dense)            (None, 4)                 44        \n",
      "                                                                 \n",
      "=================================================================\n",
      "Total params: 182,111\n",
      "Trainable params: 181,961\n",
      "Non-trainable params: 150\n",
      "_________________________________________________________________\n",
      "Epoch 1/50\n",
      "221/221 [==============================] - 57s 209ms/step - loss: 1.2677 - accuracy: 0.4062 - val_loss: 1.1442 - val_accuracy: 0.4731 - lr: 0.0010\n",
      "Epoch 2/50\n",
      "221/221 [==============================] - 44s 201ms/step - loss: 1.0858 - accuracy: 0.5402 - val_loss: 1.1738 - val_accuracy: 0.4844 - lr: 0.0010\n",
      "Epoch 3/50\n",
      "221/221 [==============================] - 46s 206ms/step - loss: 0.9539 - accuracy: 0.6175 - val_loss: 0.9996 - val_accuracy: 0.5885 - lr: 0.0010\n",
      "Epoch 4/50\n",
      "221/221 [==============================] - 43s 193ms/step - loss: 0.8996 - accuracy: 0.6473 - val_loss: 1.0177 - val_accuracy: 0.5814 - lr: 0.0010\n",
      "Epoch 5/50\n",
      "221/221 [==============================] - 45s 206ms/step - loss: 0.8184 - accuracy: 0.6884 - val_loss: 0.9658 - val_accuracy: 0.6048 - lr: 0.0010\n",
      "Epoch 6/50\n",
      "221/221 [==============================] - 45s 204ms/step - loss: 0.7133 - accuracy: 0.7323 - val_loss: 0.9426 - val_accuracy: 0.6452 - lr: 0.0010\n",
      "Epoch 7/50\n",
      "221/221 [==============================] - 45s 205ms/step - loss: 0.6364 - accuracy: 0.7667 - val_loss: 0.9740 - val_accuracy: 0.6381 - lr: 0.0010\n",
      "Epoch 8/50\n",
      "221/221 [==============================] - 44s 200ms/step - loss: 0.5605 - accuracy: 0.7963 - val_loss: 0.9084 - val_accuracy: 0.6572 - lr: 0.0010\n",
      "Epoch 9/50\n",
      "221/221 [==============================] - 45s 203ms/step - loss: 0.4966 - accuracy: 0.8185 - val_loss: 0.9734 - val_accuracy: 0.6629 - lr: 0.0010\n",
      "Epoch 10/50\n",
      "221/221 [==============================] - 44s 200ms/step - loss: 0.4492 - accuracy: 0.8371 - val_loss: 0.9968 - val_accuracy: 0.6579 - lr: 0.0010\n",
      "Epoch 11/50\n",
      "221/221 [==============================] - 44s 201ms/step - loss: 0.4116 - accuracy: 0.8523 - val_loss: 1.0451 - val_accuracy: 0.6424 - lr: 0.0010\n",
      "Epoch 12/50\n",
      "221/221 [==============================] - 45s 205ms/step - loss: 0.3642 - accuracy: 0.8707 - val_loss: 1.0091 - val_accuracy: 0.6622 - lr: 0.0010\n",
      "Epoch 13/50\n",
      "221/221 [==============================] - 43s 196ms/step - loss: 0.3435 - accuracy: 0.8768 - val_loss: 1.0631 - val_accuracy: 0.6381 - lr: 0.0010\n",
      "Epoch 14/50\n",
      "221/221 [==============================] - 43s 194ms/step - loss: 0.3241 - accuracy: 0.8824 - val_loss: 0.9727 - val_accuracy: 0.6771 - lr: 0.0010\n",
      "Epoch 15/50\n",
      "221/221 [==============================] - 45s 203ms/step - loss: 0.2860 - accuracy: 0.8929 - val_loss: 1.0779 - val_accuracy: 0.6544 - lr: 0.0010\n",
      "Epoch 16/50\n",
      "221/221 [==============================] - 43s 195ms/step - loss: 0.2809 - accuracy: 0.9011 - val_loss: 1.1310 - val_accuracy: 0.6112 - lr: 0.0010\n",
      "Epoch 17/50\n",
      "221/221 [==============================] - 43s 195ms/step - loss: 0.2559 - accuracy: 0.9042 - val_loss: 1.1190 - val_accuracy: 0.6523 - lr: 0.0010\n",
      "Epoch 18/50\n",
      "221/221 [==============================] - 42s 191ms/step - loss: 0.2408 - accuracy: 0.9125 - val_loss: 1.0967 - val_accuracy: 0.6636 - lr: 0.0010\n",
      "Epoch 19/50\n",
      "221/221 [==============================] - 43s 195ms/step - loss: 0.2083 - accuracy: 0.9291 - val_loss: 1.0743 - val_accuracy: 0.6459 - lr: 5.0000e-04\n",
      "Epoch 20/50\n",
      "221/221 [==============================] - 43s 193ms/step - loss: 0.1884 - accuracy: 0.9339 - val_loss: 1.1038 - val_accuracy: 0.6636 - lr: 5.0000e-04\n",
      "Epoch 21/50\n",
      "221/221 [==============================] - 42s 191ms/step - loss: 0.1773 - accuracy: 0.9364 - val_loss: 1.0888 - val_accuracy: 0.6735 - lr: 5.0000e-04\n",
      "Epoch 22/50\n",
      "221/221 [==============================] - 43s 195ms/step - loss: 0.1699 - accuracy: 0.9393 - val_loss: 1.1445 - val_accuracy: 0.6671 - lr: 5.0000e-04\n",
      "Epoch 23/50\n",
      "221/221 [==============================] - 42s 189ms/step - loss: 0.1580 - accuracy: 0.9455 - val_loss: 1.1478 - val_accuracy: 0.6593 - lr: 5.0000e-04\n",
      "Epoch 24/50\n",
      "221/221 [==============================] - 43s 193ms/step - loss: 0.1472 - accuracy: 0.9486 - val_loss: 1.1347 - val_accuracy: 0.6721 - lr: 5.0000e-04\n",
      "Epoch 25/50\n",
      "221/221 [==============================] - 43s 196ms/step - loss: 0.1505 - accuracy: 0.9464 - val_loss: 1.1394 - val_accuracy: 0.6636 - lr: 5.0000e-04\n",
      "Epoch 26/50\n",
      "221/221 [==============================] - 43s 196ms/step - loss: 0.1532 - accuracy: 0.9472 - val_loss: 1.1643 - val_accuracy: 0.6615 - lr: 5.0000e-04\n",
      "Epoch 27/50\n",
      "221/221 [==============================] - 44s 198ms/step - loss: 0.1448 - accuracy: 0.9498 - val_loss: 1.1334 - val_accuracy: 0.6565 - lr: 5.0000e-04\n",
      "Epoch 28/50\n",
      "221/221 [==============================] - 42s 190ms/step - loss: 0.1501 - accuracy: 0.9445 - val_loss: 1.1846 - val_accuracy: 0.6530 - lr: 5.0000e-04\n",
      "Epoch 29/50\n",
      "221/221 [==============================] - 44s 201ms/step - loss: 0.1348 - accuracy: 0.9498 - val_loss: 1.1904 - val_accuracy: 0.6622 - lr: 2.5000e-04\n",
      "Epoch 30/50\n",
      "221/221 [==============================] - 43s 195ms/step - loss: 0.1250 - accuracy: 0.9553 - val_loss: 1.1610 - val_accuracy: 0.6686 - lr: 2.5000e-04\n",
      "Epoch 31/50\n",
      "221/221 [==============================] - 42s 192ms/step - loss: 0.1170 - accuracy: 0.9598 - val_loss: 1.2294 - val_accuracy: 0.6558 - lr: 2.5000e-04\n",
      "Epoch 32/50\n",
      "221/221 [==============================] - 44s 200ms/step - loss: 0.1274 - accuracy: 0.9545 - val_loss: 1.2176 - val_accuracy: 0.6678 - lr: 2.5000e-04\n",
      "Epoch 33/50\n",
      "221/221 [==============================] - 44s 198ms/step - loss: 0.1183 - accuracy: 0.9610 - val_loss: 1.2537 - val_accuracy: 0.6608 - lr: 2.5000e-04\n"
     ]
    },
    {
     "name": "stdout",
     "output_type": "stream",
     "text": [
      "Epoch 34/50\n",
      "221/221 [==============================] - 48s 218ms/step - loss: 0.1079 - accuracy: 0.9621 - val_loss: 1.2961 - val_accuracy: 0.6615 - lr: 2.5000e-04\n",
      "Epoch 35/50\n",
      "221/221 [==============================] - 48s 215ms/step - loss: 0.0960 - accuracy: 0.9662 - val_loss: 1.2272 - val_accuracy: 0.6678 - lr: 2.5000e-04\n",
      "Epoch 36/50\n",
      "221/221 [==============================] - 51s 229ms/step - loss: 0.1075 - accuracy: 0.9630 - val_loss: 1.1982 - val_accuracy: 0.6671 - lr: 2.5000e-04\n",
      "Epoch 37/50\n",
      "221/221 [==============================] - 46s 209ms/step - loss: 0.1027 - accuracy: 0.9638 - val_loss: 1.2275 - val_accuracy: 0.6707 - lr: 2.5000e-04\n",
      "Epoch 38/50\n",
      "221/221 [==============================] - 44s 197ms/step - loss: 0.1037 - accuracy: 0.9623 - val_loss: 1.2612 - val_accuracy: 0.6792 - lr: 2.5000e-04\n",
      "Epoch 39/50\n",
      "221/221 [==============================] - 48s 217ms/step - loss: 0.1009 - accuracy: 0.9662 - val_loss: 1.2906 - val_accuracy: 0.6742 - lr: 1.2500e-04\n",
      "Epoch 40/50\n",
      "221/221 [==============================] - 45s 202ms/step - loss: 0.0973 - accuracy: 0.9662 - val_loss: 1.2405 - val_accuracy: 0.6700 - lr: 1.2500e-04\n",
      "Epoch 41/50\n",
      "221/221 [==============================] - 42s 192ms/step - loss: 0.0979 - accuracy: 0.9689 - val_loss: 1.2651 - val_accuracy: 0.6601 - lr: 1.2500e-04\n",
      "Epoch 42/50\n",
      "221/221 [==============================] - 43s 193ms/step - loss: 0.0930 - accuracy: 0.9672 - val_loss: 1.2128 - val_accuracy: 0.6714 - lr: 1.2500e-04\n",
      "Epoch 43/50\n",
      "221/221 [==============================] - 44s 198ms/step - loss: 0.0912 - accuracy: 0.9674 - val_loss: 1.2323 - val_accuracy: 0.6700 - lr: 1.2500e-04\n",
      "Epoch 44/50\n",
      "221/221 [==============================] - 43s 194ms/step - loss: 0.0887 - accuracy: 0.9698 - val_loss: 1.2722 - val_accuracy: 0.6671 - lr: 1.2500e-04\n",
      "Epoch 45/50\n",
      "221/221 [==============================] - 43s 193ms/step - loss: 0.0860 - accuracy: 0.9692 - val_loss: 1.2533 - val_accuracy: 0.6735 - lr: 1.2500e-04\n",
      "Epoch 46/50\n",
      "221/221 [==============================] - 44s 201ms/step - loss: 0.0844 - accuracy: 0.9706 - val_loss: 1.2462 - val_accuracy: 0.6678 - lr: 1.2500e-04\n",
      "Epoch 47/50\n",
      "221/221 [==============================] - 46s 208ms/step - loss: 0.0782 - accuracy: 0.9723 - val_loss: 1.2539 - val_accuracy: 0.6686 - lr: 1.2500e-04\n",
      "Epoch 48/50\n",
      "221/221 [==============================] - 47s 214ms/step - loss: 0.0812 - accuracy: 0.9733 - val_loss: 1.3017 - val_accuracy: 0.6565 - lr: 1.2500e-04\n",
      "Epoch 49/50\n",
      "221/221 [==============================] - 46s 209ms/step - loss: 0.0778 - accuracy: 0.9742 - val_loss: 1.2751 - val_accuracy: 0.6636 - lr: 6.2500e-05\n",
      "Epoch 50/50\n",
      "221/221 [==============================] - 53s 238ms/step - loss: 0.0833 - accuracy: 0.9730 - val_loss: 1.2708 - val_accuracy: 0.6693 - lr: 6.2500e-05\n"
     ]
    },
    {
     "data": {
      "image/png": "[encoded data removed]",
      "text/plain": [
       "<Figure size 432x288 with 1 Axes>"
      ]
     },
     "metadata": {
      "needs_background": "light"
     },
     "output_type": "display_data"
    },
    {
     "data": {
      "image/png": "[encoded data removed]",
      "text/plain": [
       "<Figure size 432x288 with 1 Axes>"
      ]
     },
     "metadata": {
      "needs_background": "light"
     },
     "output_type": "display_data"
    },
    {
     "name": "stdout",
     "output_type": "stream",
     "text": [
      "Test accuracy of the hybrid CNN-LSTM model: 0.6309255361557007\n",
      "Test accuracy of the hybrid CNN-LSTM model: 0.6286681890487671\n",
      "Model: \"sequential_12\"\n",
      "_________________________________________________________________\n",
      " Layer (type)                Output Shape              Param #   \n",
      "=================================================================\n",
      " conv2d_24 (Conv2D)          (None, 250, 1, 25)        5525      \n",
      "                                                                 \n",
      " max_pooling2d_24 (MaxPoolin  (None, 84, 1, 25)        0         \n",
      " g2D)                                                            \n",
      "                                                                 \n",
      " batch_normalization_24 (Bat  (None, 84, 1, 25)        100       \n",
      " chNormalization)                                                \n",
      "                                                                 \n",
      " dropout_34 (Dropout)        (None, 84, 1, 25)         0         \n",
      "                                                                 \n",
      " conv2d_25 (Conv2D)          (None, 84, 1, 50)         12550     \n",
      "                                                                 \n",
      " max_pooling2d_25 (MaxPoolin  (None, 28, 1, 50)        0         \n",
      " g2D)                                                            \n",
      "                                                                 \n",
      " batch_normalization_25 (Bat  (None, 28, 1, 50)        200       \n",
      " chNormalization)                                                \n",
      "                                                                 \n",
      " dropout_35 (Dropout)        (None, 28, 1, 50)         0         \n",
      "                                                                 \n",
      " flatten_11 (Flatten)        (None, 1400)              0         \n",
      "                                                                 \n",
      " dense_19 (Dense)            (None, 100)               140100    \n",
      "                                                                 \n",
      " reshape_11 (Reshape)        (None, 100, 1)            0         \n",
      "                                                                 \n",
      " gru_28 (GRU)                (None, 100, 64)           12864     \n",
      "                                                                 \n",
      " dropout_36 (Dropout)        (None, 100, 64)           0         \n",
      "                                                                 \n",
      " gru_29 (GRU)                (None, 100, 32)           9408      \n",
      "                                                                 \n",
      " dropout_37 (Dropout)        (None, 100, 32)           0         \n",
      "                                                                 \n",
      " gru_30 (GRU)                (None, 10)                1320      \n",
      "                                                                 \n",
      " dense_20 (Dense)            (None, 4)                 44        \n",
      "                                                                 \n",
      "=================================================================\n",
      "Total params: 182,111\n",
      "Trainable params: 181,961\n",
      "Non-trainable params: 150\n",
      "_________________________________________________________________\n",
      "Epoch 1/50\n",
      "221/221 [==============================] - 72s 230ms/step - loss: 1.2820 - accuracy: 0.3788 - val_loss: 1.1577 - val_accuracy: 0.5290 - lr: 0.0010\n",
      "Epoch 2/50\n",
      "221/221 [==============================] - 47s 211ms/step - loss: 1.1491 - accuracy: 0.4855 - val_loss: 1.0642 - val_accuracy: 0.5305 - lr: 0.0010\n",
      "Epoch 3/50\n",
      "221/221 [==============================] - 48s 218ms/step - loss: 1.0506 - accuracy: 0.5549 - val_loss: 1.0301 - val_accuracy: 0.5758 - lr: 0.0010\n",
      "Epoch 4/50\n",
      "221/221 [==============================] - 48s 215ms/step - loss: 0.9690 - accuracy: 0.6067 - val_loss: 1.0097 - val_accuracy: 0.5822 - lr: 0.0010\n",
      "Epoch 5/50\n",
      "221/221 [==============================] - 45s 205ms/step - loss: 0.8734 - accuracy: 0.6551 - val_loss: 0.9644 - val_accuracy: 0.5963 - lr: 0.0010\n",
      "Epoch 6/50\n",
      " 10/221 [>.............................] - ETA: 46s - loss: 0.8737 - accuracy: 0.6656"
     ]
    }
   ],
   "source": [
    "num = 0 \n",
    "\n",
    "batch = [32,64,128]  #256, 512\n",
    "dropout = [0.1, 0.3, 0.6] \n",
    "\n",
    "for b in batch:\n",
    "    for d in dropout: \n",
    "        NN_model(num, X_train_valid, Y_train_valid, X_test, Y_test, batch=b, dropout=d)\n",
    "        num += 1 "
   ]
  },
  {
   "cell_type": "markdown",
   "metadata": {
    "lc_cell_meme": {
     "current": "a3c6a874-c5ad-11ed-8727-c0335e65711e-1-92bf",
     "history": [
      {
       "current": "a3c6a874-c5ad-11ed-8727-c0335e65711e-1-92bf",
       "next": null,
       "previous": "58475e66-c5a1-11ed-8432-c0335e65711e"
      },
      {
       "current": "a3c6a874-c5ad-11ed-8727-c0335e65711e-1-92bf",
       "next": null,
       "previous": "58475e66-c5a1-11ed-8432-c0335e65711e"
      }
     ],
     "next": null,
     "previous": "a99f83b8-c5c7-11ed-92b1-c0335e65711e"
    }
   },
   "source": [
    "|Model#|Batch|Dropout|Epochs|LR|ValAcc|TestAcc| \n",
    "|------|-----|-------|------|--|------|-------|\n",
    "|0|32 |0.1|50|1e-3|\n",
    "|1|32 |0.3|50|1e-3|\n",
    "|2|32 |0.6|50|1e-3|\n",
    "|3|64 |0.1|50|1e-3|\n",
    "|4|64 |0.3|50|1e-3|\n",
    "|5|64 |0.6|50|1e-3|\n",
    "|6|128|0.1|50|1e-3|\n",
    "|7|128|0.3|50|1e-3|\n",
    "|8|128|0.6|50|1e-3|"
   ]
  }
 ],
 "metadata": {
  "kernelspec": {
   "display_name": "Python 3",
   "language": "python",
   "name": "python3"
  },
  "lc_notebook_meme": {
   "current": "568d6af0-c29c-11ed-ae6a-c0335e65711e",
   "lc_server_signature": {
    "current": {
     "notebook_dir": "C:\\Users\\zacha",
     "notebook_path": "/OneDrive - UCLA IT Services/Documents/ZW - Academic/UCLA/UCLA MAE GRAD CLASSES/ECE C247 - Deep Learning/Final_Project/project",
     "server_url": "http://localhost:8888/",
     "signature_id": "bb4c616e-a571-11eb-ac70-c0335e65711e"
    },
    "history": []
   }
  }
 },
 "nbformat": 4,
 "nbformat_minor": 2
}
