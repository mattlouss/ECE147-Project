{
 "cells": [
  {
   "cell_type": "markdown",
   "metadata": {
    "heading_collapsed": true,
    "lc_cell_meme": {
     "current": "ab236048-c59f-11ed-98f8-c0335e65711e-1-2b57",
     "history": [
      {
       "current": "ab236048-c59f-11ed-98f8-c0335e65711e-1-2b57",
       "next": "568d6af1-c29c-11ed-9150-c0335e65711e",
       "previous": null
      }
     ],
     "next": "568d6af1-c29c-11ed-9150-c0335e65711e-1-4789",
     "previous": null
    }
   },
   "source": [
    "## Import Packages and Data "
   ]
  },
  {
   "cell_type": "code",
   "execution_count": 2,
   "metadata": {
    "hidden": true,
    "lc_cell_meme": {
     "current": "568d6af1-c29c-11ed-9150-c0335e65711e-1-4789",
     "execution_end_time": "2023-03-18T15:13:37.802127Z",
     "history": [
      {
       "current": "568d6af1-c29c-11ed-9150-c0335e65711e",
       "next": "568d6af2-c29c-11ed-9128-c0335e65711e",
       "previous": null
      },
      {
       "current": "568d6af1-c29c-11ed-9150-c0335e65711e-1-4789",
       "next": "568d6af2-c29c-11ed-9128-c0335e65711e",
       "previous": "ab236048-c59f-11ed-98f8-c0335e65711e"
      }
     ],
     "next": "568d6af2-c29c-11ed-9128-c0335e65711e-1-36b5",
     "previous": "ab236048-c59f-11ed-98f8-c0335e65711e-1-2b57"
    }
   },
   "outputs": [],
   "source": [
    "import tensorflow as tf                  # TensorFlow\n",
    "import tensorflow.nn as nn               # nn contains useful neural network functions like softmax, relu, tanh\n",
    "from tensorflow import keras             # high level API for TensorFlow\n",
    "import tensorflow.keras.layers as layers # contains layers like RNN, CNN, LSTM\n",
    "import numpy as np                       # standard numerical python\n",
    "# used to partition datasets\n",
    "from sklearn.model_selection import train_test_split  \n",
    "\n",
    "#####\n",
    "\n",
    "import pandas as pd\n",
    "from keras.models import Sequential\n",
    "from keras.layers import Dense, Activation, Flatten,Dropout\n",
    "from keras.layers import Conv2D,LSTM,BatchNormalization,MaxPooling2D,Reshape,Bidirectional,GRU\n",
    "from keras.utils import to_categorical\n",
    "import matplotlib.pyplot as plt"
   ]
  },
  {
   "cell_type": "code",
   "execution_count": 3,
   "metadata": {
    "hidden": true,
    "lc_cell_meme": {
     "current": "568d6af2-c29c-11ed-9128-c0335e65711e-1-36b5",
     "execution_end_time": "2023-03-18T15:15:44.092376Z",
     "history": [
      {
       "current": "568d6af2-c29c-11ed-9128-c0335e65711e",
       "next": "568d6af3-c29c-11ed-894a-c0335e65711e",
       "previous": "568d6af1-c29c-11ed-9150-c0335e65711e"
      },
      {
       "current": "568d6af2-c29c-11ed-9128-c0335e65711e-1-36b5",
       "next": "568d6af4-c29c-11ed-ba8c-c0335e65711e",
       "previous": "568d6af1-c29c-11ed-9150-c0335e65711e"
      }
     ],
     "next": "568d6af4-c29c-11ed-ba8c-c0335e65711e-1-3d34",
     "previous": "568d6af1-c29c-11ed-9150-c0335e65711e-1-4789"
    }
   },
   "outputs": [],
   "source": [
    "def data_split(X,Y,person):\n",
    "    num_persons = 9 \n",
    "    X_person = []\n",
    "    Y_person = [] \n",
    "    \n",
    "    for i in range(num_persons): \n",
    "        index = np.where(person == i)[0]\n",
    "\n",
    "        X_person.append(X[index, :, :]) \n",
    "        Y_person.append(Y[index]) \n",
    "        \n",
    "    return X_person, Y_person "
   ]
  },
  {
   "cell_type": "code",
   "execution_count": 4,
   "metadata": {
    "hidden": true,
    "lc_cell_meme": {
     "current": "568d6af4-c29c-11ed-ba8c-c0335e65711e-1-3d34",
     "execution_end_time": "2023-03-18T16:15:30.172406Z",
     "history": [
      {
       "current": "568d6af4-c29c-11ed-ba8c-c0335e65711e",
       "next": null,
       "previous": "568d6af3-c29c-11ed-894a-c0335e65711e"
      },
      {
       "current": "568d6af4-c29c-11ed-ba8c-c0335e65711e-1-3d34",
       "next": "ab236049-c59f-11ed-85a5-c0335e65711e",
       "previous": "568d6af2-c29c-11ed-9128-c0335e65711e"
      }
     ],
     "next": "ab236049-c59f-11ed-85a5-c0335e65711e-1-115d",
     "previous": "568d6af2-c29c-11ed-9128-c0335e65711e-1-36b5"
    }
   },
   "outputs": [],
   "source": [
    "def data_prep(X,y,sub_sample,average,noise):\n",
    "    \n",
    "    total_X = None\n",
    "    total_y = None\n",
    "    \n",
    "    # Trimming the data (sample,22,1000) -> (sample,22,500)\n",
    "    X = X[:,:,0:500]\n",
    "    #print('Shape of X after trimming:',X.shape)\n",
    "    \n",
    "    # Maxpooling the data (sample,22,1000) -> (sample,22,500/sub_sample)\n",
    "    X_max = np.max(X.reshape(X.shape[0], X.shape[1], -1, sub_sample), axis=3)\n",
    "    \n",
    "    \n",
    "    total_X = X_max\n",
    "    total_y = y\n",
    "    #print('Shape of X after maxpooling:',total_X.shape)\n",
    "    \n",
    "    # Averaging + noise \n",
    "    X_average = np.mean(X.reshape(X.shape[0], X.shape[1], -1, average),axis=3)\n",
    "    X_average = X_average + np.random.normal(0.0, 0.5, X_average.shape)\n",
    "    \n",
    "    total_X = np.vstack((total_X, X_average))\n",
    "    total_y = np.hstack((total_y, y))\n",
    "    #print('Shape of X after averaging+noise and concatenating:',total_X.shape)\n",
    "    \n",
    "    # Subsampling\n",
    "    \n",
    "    for i in range(sub_sample):\n",
    "        \n",
    "        X_subsample = X[:, :, i::sub_sample] + \\\n",
    "                            (np.random.normal(0.0, 0.5, X[:, :,i::sub_sample].shape) if noise else 0.0)\n",
    "            \n",
    "        total_X = np.vstack((total_X, X_subsample))\n",
    "        total_y = np.hstack((total_y, y))\n",
    "        \n",
    "    \n",
    "    #print('Shape of X after subsampling and concatenating:',total_X.shape)\n",
    "    return total_X,total_y"
   ]
  },
  {
   "cell_type": "code",
   "execution_count": 5,
   "metadata": {
    "hidden": true,
    "lc_cell_meme": {
     "current": "ab236049-c59f-11ed-85a5-c0335e65711e-1-115d",
     "execution_end_time": "2023-03-18T16:15:30.235950Z",
     "history": [
      {
       "current": "ab236049-c59f-11ed-85a5-c0335e65711e-1-115d",
       "next": "ab238756-c59f-11ed-a937-c0335e65711e",
       "previous": "568d6af4-c29c-11ed-ba8c-c0335e65711e"
      }
     ],
     "next": "ab238756-c59f-11ed-a937-c0335e65711e-1-cb80",
     "previous": "568d6af4-c29c-11ed-ba8c-c0335e65711e-1-3d34"
    }
   },
   "outputs": [],
   "source": [
    "def preprocessing(X, Y, X_test, Y_test):\n",
    "    ## Splits a dataset into training and validation sets and pre-processes them\n",
    "    \n",
    "    ## Determine the size of the input \n",
    "    train_size = X.shape[0] \n",
    "    valid_size = int(np.ceil(train_size/6))\n",
    "    \n",
    "    ind_valid = np.random.choice(train_size, valid_size, replace=False)\n",
    "    ind_train = np.array(list(set(range(train_size)).difference(set(ind_valid))))\n",
    "    \n",
    "    # Creating the training and validation sets using the generated indices\n",
    "    (X_train, X_valid) = X[ind_train], X[ind_valid] \n",
    "    (y_train, y_valid) = Y[ind_train], Y[ind_valid]\n",
    "      \n",
    "    ## Preprocessing the dataset\n",
    "    x_train,y_train = data_prep(X_train,y_train,2,2,True)\n",
    "    x_valid,y_valid = data_prep(X_valid,y_valid,2,2,True)\n",
    "    X_test_prep,y_test_prep = data_prep(X_test,Y_test,2,2,True)\n",
    "    \n",
    "    #print('Shape of training set:',x_train.shape)\n",
    "    #print('Shape of validation set:',x_valid.shape)\n",
    "    #print('Shape of training labels:',y_train.shape)\n",
    "    #print('Shape of validation labels:',y_valid.shape)\n",
    "    #print('Shape of testing set:',X_test_prep.shape)\n",
    "    #print('Shape of testing labels:',y_test_prep.shape)\n",
    "       \n",
    "    # Converting the labels to categorical variables for multiclass classification\n",
    "    y_train = to_categorical(y_train, 4)\n",
    "    y_valid = to_categorical(y_valid, 4)\n",
    "    y_test = to_categorical(y_test_prep, 4)\n",
    "    #print('Shape of training labels after categorical conversion:',y_train.shape)\n",
    "    #print('Shape of validation labels after categorical conversion:',y_valid.shape)\n",
    "    #print('Shape of test labels after categorical conversion:',y_test.shape)\n",
    "    \n",
    "    # Adding width of the segment to be 1\n",
    "    x_train = x_train.reshape(x_train.shape[0], x_train.shape[1], x_train.shape[2], 1)\n",
    "    x_valid = x_valid.reshape(x_valid.shape[0], x_valid.shape[1], x_train.shape[2], 1)\n",
    "    x_test = X_test_prep.reshape(X_test_prep.shape[0], X_test_prep.shape[1], X_test_prep.shape[2], 1)\n",
    "    #print('Shape of training set after adding width info:',x_train.shape)\n",
    "    #print('Shape of validation set after adding width info:',x_valid.shape)\n",
    "    #print('Shape of test set after adding width info:',x_test.shape)\n",
    "\n",
    "    # Reshaping the training and validation dataset\n",
    "    x_train = np.swapaxes(x_train, 1,3)\n",
    "    x_train = np.swapaxes(x_train, 1,2)\n",
    "    x_valid = np.swapaxes(x_valid, 1,3)\n",
    "    x_valid = np.swapaxes(x_valid, 1,2)\n",
    "    x_test = np.swapaxes(x_test, 1,3)\n",
    "    x_test = np.swapaxes(x_test, 1,2)\n",
    "    #print('Shape of training set after dimension reshaping:',x_train.shape)\n",
    "    #print('Shape of validation set after dimension reshaping:',x_valid.shape)\n",
    "    #print('Shape of test set after dimension reshaping:',x_test.shape)\n",
    "    \n",
    "    return y_train, y_valid, y_test, x_train, x_valid, x_test"
   ]
  },
  {
   "cell_type": "code",
   "execution_count": 6,
   "metadata": {
    "hidden": true,
    "lc_cell_meme": {
     "current": "ab238756-c59f-11ed-a937-c0335e65711e-1-cb80",
     "execution_end_time": "2023-03-18T15:15:47.518487Z",
     "history": [
      {
       "current": "ab238756-c59f-11ed-a937-c0335e65711e",
       "next": "ab238757-c59f-11ed-87d2-c0335e65711e",
       "previous": "ab236049-c59f-11ed-85a5-c0335e65711e"
      },
      {
       "current": "ab238756-c59f-11ed-a937-c0335e65711e-1-cb80",
       "next": "e9d3341e-c59f-11ed-ac3c-c0335e65711e",
       "previous": "ab236049-c59f-11ed-85a5-c0335e65711e"
      }
     ],
     "next": "e9d3341e-c59f-11ed-ac3c-c0335e65711e-1-ef10",
     "previous": "ab236049-c59f-11ed-85a5-c0335e65711e-1-115d"
    }
   },
   "outputs": [],
   "source": [
    "## Loading the dataset\n",
    "X_test = np.load(\"X_test.npy\")\n",
    "Y_test = np.load(\"y_test.npy\")\n",
    "person_test = np.load(\"person_test.npy\")\n",
    "X_train_valid = np.load(\"X_train_valid.npy\")\n",
    "Y_train_valid = np.load(\"y_train_valid.npy\")\n",
    "person_train_valid = np.load(\"person_train_valid.npy\")\n",
    "\n",
    "## Adjust the dataset labels to be 0,1,2,3\n",
    "Y_train_valid -= 769\n",
    "Y_test -= 769 \n",
    "\n",
    "## Split the dataset into those belonging to individual people \n",
    "Xp_train_valid, Yp_train_valid = data_split(X_train_valid, Y_train_valid, person_train_valid)\n",
    "Xp_test, Yp_test = data_split(X_test, Y_test, person_test) "
   ]
  },
  {
   "cell_type": "markdown",
   "metadata": {
    "lc_cell_meme": {
     "current": "e9d3341e-c59f-11ed-ac3c-c0335e65711e-1-ef10",
     "history": [
      {
       "current": "e9d3341e-c59f-11ed-ac3c-c0335e65711e-1-ef10",
       "next": "ab238757-c59f-11ed-87d2-c0335e65711e",
       "previous": "ab238756-c59f-11ed-a937-c0335e65711e"
      }
     ],
     "next": "ab238757-c59f-11ed-87d2-c0335e65711e-1-18c3",
     "previous": "ab238756-c59f-11ed-a937-c0335e65711e-1-cb80"
    }
   },
   "source": [
    "## Preprocess Data "
   ]
  },
  {
   "cell_type": "code",
   "execution_count": 7,
   "metadata": {
    "lc_cell_meme": {
     "current": "ab238757-c59f-11ed-87d2-c0335e65711e-1-18c3",
     "history": [
      {
       "current": "ab238757-c59f-11ed-87d2-c0335e65711e",
       "next": "ab238758-c59f-11ed-86c9-c0335e65711e",
       "previous": "ab238756-c59f-11ed-a937-c0335e65711e"
      },
      {
       "current": "ab238757-c59f-11ed-87d2-c0335e65711e-1-18c3",
       "next": "ab238758-c59f-11ed-86c9-c0335e65711e",
       "previous": "e9d3341e-c59f-11ed-ac3c-c0335e65711e"
      }
     ],
     "next": "ab238758-c59f-11ed-86c9-c0335e65711e-1-6483",
     "previous": "e9d3341e-c59f-11ed-ac3c-c0335e65711e-1-ef10"
    }
   },
   "outputs": [],
   "source": [
    "## Preprocess a single person dataset \n",
    "person = 0  #Set which person you'd like to look at (from 0 to 8)\n",
    "yp_train, yp_valid, yp_test, xp_train, xp_valid, xp_test = preprocessing(Xp_train_valid[person], Yp_train_valid[person], Xp_test[person], Yp_test[person])"
   ]
  },
  {
   "cell_type": "code",
   "execution_count": 8,
   "metadata": {
    "lc_cell_meme": {
     "current": "ab238758-c59f-11ed-86c9-c0335e65711e-1-6483",
     "history": [
      {
       "current": "ab238758-c59f-11ed-86c9-c0335e65711e",
       "next": null,
       "previous": "ab238757-c59f-11ed-87d2-c0335e65711e"
      },
      {
       "current": "ab238758-c59f-11ed-86c9-c0335e65711e-1-6483",
       "next": "e9d3341f-c59f-11ed-8425-c0335e65711e",
       "previous": "ab238757-c59f-11ed-87d2-c0335e65711e"
      }
     ],
     "next": "e9d3341f-c59f-11ed-8425-c0335e65711e-1-6eb2",
     "previous": "ab238757-c59f-11ed-87d2-c0335e65711e-1-18c3"
    }
   },
   "outputs": [],
   "source": [
    "## Preprocess the entire dataset \n",
    "y_train, y_valid, y_test, x_train, x_valid, x_test = preprocessing(X_train_valid, Y_train_valid, X_test, Y_test)"
   ]
  },
  {
   "cell_type": "markdown",
   "metadata": {
    "lc_cell_meme": {
     "current": "e9d3341f-c59f-11ed-8425-c0335e65711e-1-6eb2",
     "history": [
      {
       "current": "e9d3341f-c59f-11ed-8425-c0335e65711e",
       "next": "e9d33420-c59f-11ed-a137-c0335e65711e",
       "previous": "ab238758-c59f-11ed-86c9-c0335e65711e"
      },
      {
       "current": "e9d3341f-c59f-11ed-8425-c0335e65711e-1-6eb2",
       "next": "aeb8f73e-c5ab-11ed-8ed9-c0335e65711e",
       "previous": "ab238758-c59f-11ed-86c9-c0335e65711e"
      }
     ],
     "next": "b369bee2-c797-11ed-8334-c0335e65711e",
     "previous": "ab238758-c59f-11ed-86c9-c0335e65711e-1-6483"
    }
   },
   "source": [
    "## Models "
   ]
  },
  {
   "cell_type": "markdown",
   "metadata": {
    "lc_cell_meme": {
     "current": "b369bee2-c797-11ed-8334-c0335e65711e",
     "next": "b369bee3-c797-11ed-93d7-c0335e65711e",
     "previous": "e9d3341f-c59f-11ed-8425-c0335e65711e-1-6eb2"
    }
   },
   "source": [
    "### Basic CNN"
   ]
  },
  {
   "cell_type": "code",
   "execution_count": 10,
   "metadata": {
    "lc_cell_meme": {
     "current": "b369bee3-c797-11ed-93d7-c0335e65711e",
     "next": "b369bee4-c797-11ed-8e60-c0335e65711e",
     "previous": "b369bee2-c797-11ed-8334-c0335e65711e"
    }
   },
   "outputs": [
    {
     "name": "stdout",
     "output_type": "stream",
     "text": [
      "Model: \"sequential_1\"\n",
      "_________________________________________________________________\n",
      " Layer (type)                Output Shape              Param #   \n",
      "=================================================================\n",
      " conv2d_4 (Conv2D)           (None, 250, 1, 25)        5525      \n",
      "                                                                 \n",
      " max_pooling2d_4 (MaxPooling  (None, 84, 1, 25)        0         \n",
      " 2D)                                                             \n",
      "                                                                 \n",
      " batch_normalization_4 (Batc  (None, 84, 1, 25)        100       \n",
      " hNormalization)                                                 \n",
      "                                                                 \n",
      " dropout_4 (Dropout)         (None, 84, 1, 25)         0         \n",
      "                                                                 \n",
      " conv2d_5 (Conv2D)           (None, 84, 1, 50)         12550     \n",
      "                                                                 \n",
      " max_pooling2d_5 (MaxPooling  (None, 84, 1, 50)        0         \n",
      " 2D)                                                             \n",
      "                                                                 \n",
      " batch_normalization_5 (Batc  (None, 84, 1, 50)        200       \n",
      " hNormalization)                                                 \n",
      "                                                                 \n",
      " dropout_5 (Dropout)         (None, 84, 1, 50)         0         \n",
      "                                                                 \n",
      " conv2d_6 (Conv2D)           (None, 84, 1, 100)        50100     \n",
      "                                                                 \n",
      " max_pooling2d_6 (MaxPooling  (None, 28, 1, 100)       0         \n",
      " 2D)                                                             \n",
      "                                                                 \n",
      " batch_normalization_6 (Batc  (None, 28, 1, 100)       400       \n",
      " hNormalization)                                                 \n",
      "                                                                 \n",
      " dropout_6 (Dropout)         (None, 28, 1, 100)        0         \n",
      "                                                                 \n",
      " conv2d_7 (Conv2D)           (None, 28, 1, 200)        200200    \n",
      "                                                                 \n",
      " max_pooling2d_7 (MaxPooling  (None, 10, 1, 200)       0         \n",
      " 2D)                                                             \n",
      "                                                                 \n",
      " batch_normalization_7 (Batc  (None, 10, 1, 200)       800       \n",
      " hNormalization)                                                 \n",
      "                                                                 \n",
      " dropout_7 (Dropout)         (None, 10, 1, 200)        0         \n",
      "                                                                 \n",
      " flatten_1 (Flatten)         (None, 2000)              0         \n",
      "                                                                 \n",
      " dense_1 (Dense)             (None, 4)                 8004      \n",
      "                                                                 \n",
      "=================================================================\n",
      "Total params: 277,879\n",
      "Trainable params: 277,129\n",
      "Non-trainable params: 750\n",
      "_________________________________________________________________\n"
     ]
    }
   ],
   "source": [
    "# Building the CNN model using sequential class\n",
    "basic_cnn_model = Sequential()\n",
    "\n",
    "# Conv. block 1\n",
    "basic_cnn_model.add(Conv2D(filters=25, kernel_size=(10,1), padding='same', activation='elu', input_shape=(250,1,22)))\n",
    "basic_cnn_model.add(MaxPooling2D(pool_size=(3,1), padding='same')) # Read the keras documentation\n",
    "basic_cnn_model.add(BatchNormalization())\n",
    "basic_cnn_model.add(Dropout(0.5))\n",
    "\n",
    "# Conv. block 2\n",
    "basic_cnn_model.add(Conv2D(filters=50, kernel_size=(10,1), padding='same', activation='elu'))\n",
    "basic_cnn_model.add(MaxPooling2D(pool_size=(1,1), padding='same'))\n",
    "basic_cnn_model.add(BatchNormalization())\n",
    "basic_cnn_model.add(Dropout(0.5))\n",
    "\n",
    "# Conv. block 3\n",
    "basic_cnn_model.add(Conv2D(filters=100, kernel_size=(10,1), padding='same', activation='elu'))\n",
    "basic_cnn_model.add(MaxPooling2D(pool_size=(3,1), padding='same'))\n",
    "basic_cnn_model.add(BatchNormalization())\n",
    "basic_cnn_model.add(Dropout(0.5))\n",
    "\n",
    "# Conv. block 4\n",
    "basic_cnn_model.add(Conv2D(filters=200, kernel_size=(10,1), padding='same', activation='elu'))\n",
    "basic_cnn_model.add(MaxPooling2D(pool_size=(3,1), padding='same'))\n",
    "basic_cnn_model.add(BatchNormalization())\n",
    "basic_cnn_model.add(Dropout(0.5))\n",
    "\n",
    "# Output layer with Softmax activation\n",
    "basic_cnn_model.add(Flatten()) # Flattens the input\n",
    "basic_cnn_model.add(Dense(4, activation='softmax')) # Output FC layer with softmax activation\n",
    "\n",
    "\n",
    "# Printing the model summary\n",
    "basic_cnn_model.summary()\n"
   ]
  },
  {
   "cell_type": "markdown",
   "metadata": {
    "lc_cell_meme": {
     "current": "b369bee4-c797-11ed-8e60-c0335e65711e",
     "next": "b369bee5-c797-11ed-950a-c0335e65711e",
     "previous": "b369bee3-c797-11ed-93d7-c0335e65711e"
    }
   },
   "source": [
    "### Train Basic CNN on Subject 1"
   ]
  },
  {
   "cell_type": "code",
   "execution_count": 11,
   "metadata": {
    "lc_cell_meme": {
     "current": "b369bee5-c797-11ed-950a-c0335e65711e",
     "next": "b369bee6-c797-11ed-818d-c0335e65711e",
     "previous": "b369bee4-c797-11ed-8e60-c0335e65711e"
    }
   },
   "outputs": [
    {
     "name": "stdout",
     "output_type": "stream",
     "text": [
      "Epoch 1/50\n",
      "13/13 [==============================] - 4s 137ms/step - loss: 2.2842 - accuracy: 0.3173 - val_loss: 5.5901 - val_accuracy: 0.2562 - lr: 0.0010\n",
      "Epoch 2/50\n",
      "13/13 [==============================] - 1s 108ms/step - loss: 1.8389 - accuracy: 0.4124 - val_loss: 2.7711 - val_accuracy: 0.3375 - lr: 0.0010\n",
      "Epoch 3/50\n",
      "13/13 [==============================] - 1s 112ms/step - loss: 1.7062 - accuracy: 0.4442 - val_loss: 2.2151 - val_accuracy: 0.3500 - lr: 0.0010\n",
      "Epoch 4/50\n",
      "13/13 [==============================] - 1s 113ms/step - loss: 1.5094 - accuracy: 0.4670 - val_loss: 1.9930 - val_accuracy: 0.3562 - lr: 0.0010\n",
      "Epoch 5/50\n",
      "13/13 [==============================] - 1s 115ms/step - loss: 1.4460 - accuracy: 0.5089 - val_loss: 1.8449 - val_accuracy: 0.3812 - lr: 0.0010\n",
      "Epoch 6/50\n",
      "13/13 [==============================] - 1s 108ms/step - loss: 1.2716 - accuracy: 0.5495 - val_loss: 1.6252 - val_accuracy: 0.4313 - lr: 0.0010\n",
      "Epoch 7/50\n",
      "13/13 [==============================] - 2s 123ms/step - loss: 1.1875 - accuracy: 0.5850 - val_loss: 1.4517 - val_accuracy: 0.4563 - lr: 0.0010\n",
      "Epoch 8/50\n",
      "13/13 [==============================] - 5s 405ms/step - loss: 0.9393 - accuracy: 0.6510 - val_loss: 1.2689 - val_accuracy: 0.4500 - lr: 0.0010\n",
      "Epoch 9/50\n",
      "13/13 [==============================] - 4s 339ms/step - loss: 0.8920 - accuracy: 0.6904 - val_loss: 1.3225 - val_accuracy: 0.4750 - lr: 0.0010\n",
      "Epoch 10/50\n",
      "13/13 [==============================] - 5s 374ms/step - loss: 0.7879 - accuracy: 0.7221 - val_loss: 1.2863 - val_accuracy: 0.4812 - lr: 0.0010\n",
      "Epoch 11/50\n",
      "13/13 [==============================] - 3s 262ms/step - loss: 0.6869 - accuracy: 0.7602 - val_loss: 1.2271 - val_accuracy: 0.5625 - lr: 0.0010\n",
      "Epoch 12/50\n",
      "13/13 [==============================] - 4s 322ms/step - loss: 0.6142 - accuracy: 0.7690 - val_loss: 1.4477 - val_accuracy: 0.5375 - lr: 0.0010\n",
      "Epoch 13/50\n",
      "13/13 [==============================] - 3s 238ms/step - loss: 0.5769 - accuracy: 0.7944 - val_loss: 1.7189 - val_accuracy: 0.5875 - lr: 0.0010\n",
      "Epoch 14/50\n",
      "13/13 [==============================] - 3s 195ms/step - loss: 0.5973 - accuracy: 0.7754 - val_loss: 1.4964 - val_accuracy: 0.4938 - lr: 0.0010\n",
      "Epoch 15/50\n",
      "13/13 [==============================] - 3s 205ms/step - loss: 0.5360 - accuracy: 0.8109 - val_loss: 1.4215 - val_accuracy: 0.5312 - lr: 0.0010\n",
      "Epoch 16/50\n",
      "13/13 [==============================] - 3s 200ms/step - loss: 0.4198 - accuracy: 0.8414 - val_loss: 1.2051 - val_accuracy: 0.5625 - lr: 0.0010\n",
      "Epoch 17/50\n",
      "13/13 [==============================] - 3s 205ms/step - loss: 0.4057 - accuracy: 0.8503 - val_loss: 1.5178 - val_accuracy: 0.5188 - lr: 0.0010\n",
      "Epoch 18/50\n",
      "13/13 [==============================] - 2s 187ms/step - loss: 0.3765 - accuracy: 0.8566 - val_loss: 1.4383 - val_accuracy: 0.5625 - lr: 0.0010\n",
      "Epoch 19/50\n",
      "13/13 [==============================] - 2s 189ms/step - loss: 0.3489 - accuracy: 0.8655 - val_loss: 1.7353 - val_accuracy: 0.5250 - lr: 0.0010\n",
      "Epoch 20/50\n",
      "13/13 [==============================] - 2s 182ms/step - loss: 0.2738 - accuracy: 0.8997 - val_loss: 1.5026 - val_accuracy: 0.5250 - lr: 0.0010\n",
      "Epoch 21/50\n",
      "13/13 [==============================] - 2s 181ms/step - loss: 0.2805 - accuracy: 0.8997 - val_loss: 1.6221 - val_accuracy: 0.5250 - lr: 0.0010\n",
      "Epoch 22/50\n",
      "13/13 [==============================] - 3s 208ms/step - loss: 0.2439 - accuracy: 0.8921 - val_loss: 1.4898 - val_accuracy: 0.5250 - lr: 0.0010\n",
      "Epoch 23/50\n",
      "13/13 [==============================] - 3s 224ms/step - loss: 0.2710 - accuracy: 0.8972 - val_loss: 1.7589 - val_accuracy: 0.5500 - lr: 0.0010\n",
      "Epoch 24/50\n",
      "13/13 [==============================] - 2s 182ms/step - loss: 0.2630 - accuracy: 0.9023 - val_loss: 1.3491 - val_accuracy: 0.5938 - lr: 0.0010\n",
      "Epoch 25/50\n",
      "13/13 [==============================] - 2s 189ms/step - loss: 0.2206 - accuracy: 0.9251 - val_loss: 1.5877 - val_accuracy: 0.5562 - lr: 0.0010\n",
      "Epoch 26/50\n",
      "13/13 [==============================] - 2s 184ms/step - loss: 0.1921 - accuracy: 0.9264 - val_loss: 1.3365 - val_accuracy: 0.6625 - lr: 0.0010\n",
      "Epoch 27/50\n",
      "13/13 [==============================] - 2s 180ms/step - loss: 0.1987 - accuracy: 0.9150 - val_loss: 1.3616 - val_accuracy: 0.6687 - lr: 5.0000e-04\n",
      "Epoch 28/50\n",
      "13/13 [==============================] - 2s 182ms/step - loss: 0.1449 - accuracy: 0.9454 - val_loss: 1.4802 - val_accuracy: 0.6313 - lr: 5.0000e-04\n",
      "Epoch 29/50\n",
      "13/13 [==============================] - 2s 185ms/step - loss: 0.1477 - accuracy: 0.9505 - val_loss: 1.5309 - val_accuracy: 0.6438 - lr: 5.0000e-04\n",
      "Epoch 30/50\n",
      "13/13 [==============================] - 2s 190ms/step - loss: 0.1402 - accuracy: 0.9581 - val_loss: 1.5930 - val_accuracy: 0.6125 - lr: 5.0000e-04\n",
      "Epoch 31/50\n",
      "13/13 [==============================] - 2s 182ms/step - loss: 0.1342 - accuracy: 0.9530 - val_loss: 1.5146 - val_accuracy: 0.5938 - lr: 5.0000e-04\n",
      "Epoch 32/50\n",
      "13/13 [==============================] - 2s 180ms/step - loss: 0.1073 - accuracy: 0.9645 - val_loss: 1.4422 - val_accuracy: 0.6313 - lr: 5.0000e-04\n",
      "Epoch 33/50\n",
      "13/13 [==============================] - 2s 178ms/step - loss: 0.1456 - accuracy: 0.9518 - val_loss: 1.3728 - val_accuracy: 0.6250 - lr: 5.0000e-04\n",
      "Epoch 34/50\n",
      "13/13 [==============================] - 2s 185ms/step - loss: 0.1205 - accuracy: 0.9619 - val_loss: 1.4528 - val_accuracy: 0.5938 - lr: 5.0000e-04\n",
      "Epoch 35/50\n",
      "13/13 [==============================] - 2s 186ms/step - loss: 0.1231 - accuracy: 0.9543 - val_loss: 1.6019 - val_accuracy: 0.5938 - lr: 5.0000e-04\n",
      "Epoch 36/50\n",
      "13/13 [==============================] - 4s 322ms/step - loss: 0.1182 - accuracy: 0.9543 - val_loss: 1.6621 - val_accuracy: 0.6313 - lr: 5.0000e-04\n",
      "Epoch 37/50\n",
      "13/13 [==============================] - 4s 295ms/step - loss: 0.1195 - accuracy: 0.9543 - val_loss: 1.5819 - val_accuracy: 0.6062 - lr: 2.5000e-04\n",
      "Epoch 38/50\n",
      "13/13 [==============================] - 2s 155ms/step - loss: 0.0855 - accuracy: 0.9683 - val_loss: 1.5406 - val_accuracy: 0.5938 - lr: 2.5000e-04\n",
      "Epoch 39/50\n",
      "13/13 [==============================] - 2s 184ms/step - loss: 0.1179 - accuracy: 0.9480 - val_loss: 1.4929 - val_accuracy: 0.6000 - lr: 2.5000e-04\n",
      "Epoch 40/50\n",
      "13/13 [==============================] - 2s 153ms/step - loss: 0.0966 - accuracy: 0.9645 - val_loss: 1.5275 - val_accuracy: 0.6125 - lr: 2.5000e-04\n",
      "Epoch 41/50\n",
      "13/13 [==============================] - 2s 180ms/step - loss: 0.1084 - accuracy: 0.9607 - val_loss: 1.5098 - val_accuracy: 0.6187 - lr: 2.5000e-04\n",
      "Epoch 42/50\n",
      "13/13 [==============================] - 2s 190ms/step - loss: 0.1227 - accuracy: 0.9581 - val_loss: 1.4799 - val_accuracy: 0.6062 - lr: 2.5000e-04\n",
      "Epoch 43/50\n",
      "13/13 [==============================] - 4s 274ms/step - loss: 0.0999 - accuracy: 0.9657 - val_loss: 1.5470 - val_accuracy: 0.6125 - lr: 2.5000e-04\n",
      "Epoch 44/50\n",
      "13/13 [==============================] - 3s 256ms/step - loss: 0.0903 - accuracy: 0.9695 - val_loss: 1.5393 - val_accuracy: 0.6000 - lr: 2.5000e-04\n",
      "Epoch 45/50\n",
      "13/13 [==============================] - 4s 297ms/step - loss: 0.0782 - accuracy: 0.9772 - val_loss: 1.5070 - val_accuracy: 0.6062 - lr: 2.5000e-04\n",
      "Epoch 46/50\n",
      "13/13 [==============================] - 2s 187ms/step - loss: 0.0934 - accuracy: 0.9746 - val_loss: 1.4772 - val_accuracy: 0.6062 - lr: 2.5000e-04\n",
      "Epoch 47/50\n",
      "13/13 [==============================] - 2s 149ms/step - loss: 0.0940 - accuracy: 0.9670 - val_loss: 1.4886 - val_accuracy: 0.6062 - lr: 1.2500e-04\n",
      "Epoch 48/50\n",
      "13/13 [==============================] - 2s 139ms/step - loss: 0.0790 - accuracy: 0.9645 - val_loss: 1.5175 - val_accuracy: 0.6062 - lr: 1.2500e-04\n",
      "Epoch 49/50\n",
      "13/13 [==============================] - 2s 138ms/step - loss: 0.0968 - accuracy: 0.9670 - val_loss: 1.5542 - val_accuracy: 0.5938 - lr: 1.2500e-04\n",
      "Epoch 50/50\n",
      "13/13 [==============================] - 2s 142ms/step - loss: 0.0937 - accuracy: 0.9708 - val_loss: 1.5509 - val_accuracy: 0.6187 - lr: 1.2500e-04\n"
     ]
    },
    {
     "data": {
      "image/png": "[encoded data removed]",
      "text/plain": [
       "<Figure size 640x480 with 1 Axes>"
      ]
     },
     "metadata": {},
     "output_type": "display_data"
    },
    {
     "data": {
      "image/png": "[encoded data removed]",
      "text/plain": [
       "<Figure size 640x480 with 1 Axes>"
      ]
     },
     "metadata": {},
     "output_type": "display_data"
    },
    {
     "name": "stdout",
     "output_type": "stream",
     "text": [
      "Test accuracy of the basic CNN model on Subject 1: 0.6650000214576721\n"
     ]
    }
   ],
   "source": [
    "# Model parameters\n",
    "lr = 1e-3\n",
    "epochs = 50\n",
    "cnn_optimizer = keras.optimizers.Adam(learning_rate=lr)\n",
    "lr_callback = tf.keras.callbacks.ReduceLROnPlateau(patience = 10, factor = 0.5)  # reduces by a factor of 0.5 if validation loss doesn't improve for 10 epochs\n",
    "\n",
    "person = 0  #Set which person you'd like to look at (from 0 to 8)\n",
    "yp_train, yp_valid, yp_test, xp_train, xp_valid, xp_test = preprocessing(Xp_train_valid[person], Yp_train_valid[person], Xp_test[person], Yp_test[person])\n",
    "\n",
    "# Compiling the model\n",
    "basic_cnn_model.compile(loss='categorical_crossentropy',\n",
    "                 optimizer=cnn_optimizer,\n",
    "                 metrics=['accuracy'])\n",
    "\n",
    "# Training and validating the model\n",
    "basic_cnn_model_results = basic_cnn_model.fit(xp_train,\n",
    "             yp_train,\n",
    "             batch_size=64,\n",
    "             epochs=epochs,\n",
    "             validation_data=(xp_valid, yp_valid), \n",
    "             callbacks=[lr_callback], \n",
    "             verbose=True)\n",
    "\n",
    "# Plotting accuracy trajectory\n",
    "plt.plot(basic_cnn_model_results.history['accuracy'])\n",
    "plt.plot(basic_cnn_model_results.history['val_accuracy'])\n",
    "plt.title('Basic CNN model accuracy trajectory')\n",
    "plt.ylabel('accuracy')\n",
    "plt.xlabel('epoch')\n",
    "plt.legend(['train', 'val'], loc='upper left')\n",
    "plt.show()\n",
    "\n",
    "# Plotting loss trajectory\n",
    "plt.plot(basic_cnn_model_results.history['loss'],'o')\n",
    "plt.plot(basic_cnn_model_results.history['val_loss'],'o')\n",
    "plt.title('Basic CNN model loss trajectory')\n",
    "plt.ylabel('loss')\n",
    "plt.xlabel('epoch')\n",
    "plt.legend(['train', 'val'], loc='upper left')\n",
    "plt.show()\n",
    "\n",
    "## Testing the basic CNN model\n",
    "cnn_score = basic_cnn_model.evaluate(xp_test, yp_test, verbose=0)\n",
    "print('Test accuracy of the basic CNN model on Subject 1:',cnn_score[1])"
   ]
  },
  {
   "cell_type": "markdown",
   "metadata": {
    "lc_cell_meme": {
     "current": "b369bee6-c797-11ed-818d-c0335e65711e",
     "next": "b369bee7-c797-11ed-b967-c0335e65711e",
     "previous": "b369bee5-c797-11ed-950a-c0335e65711e"
    }
   },
   "source": [
    "### Train Basic CNN on all subjects"
   ]
  },
  {
   "cell_type": "code",
   "execution_count": 12,
   "metadata": {
    "lc_cell_meme": {
     "current": "b369bee7-c797-11ed-b967-c0335e65711e",
     "next": "b369bee8-c797-11ed-bf26-c0335e65711e",
     "previous": "b369bee6-c797-11ed-818d-c0335e65711e"
    }
   },
   "outputs": [
    {
     "name": "stdout",
     "output_type": "stream",
     "text": [
      "Epoch 1/50\n",
      "111/111 [==============================] - 30s 256ms/step - loss: 1.6272 - accuracy: 0.4718 - val_loss: 1.2281 - val_accuracy: 0.5035 - lr: 0.0010\n",
      "Epoch 2/50\n",
      "111/111 [==============================] - 25s 229ms/step - loss: 1.1837 - accuracy: 0.5349 - val_loss: 1.2280 - val_accuracy: 0.5078 - lr: 0.0010\n",
      "Epoch 3/50\n",
      "111/111 [==============================] - 23s 211ms/step - loss: 1.0584 - accuracy: 0.5840 - val_loss: 1.0703 - val_accuracy: 0.5475 - lr: 0.0010\n",
      "Epoch 4/50\n",
      "111/111 [==============================] - 20s 184ms/step - loss: 0.9627 - accuracy: 0.6210 - val_loss: 1.0514 - val_accuracy: 0.5751 - lr: 0.0010\n",
      "Epoch 5/50\n",
      "111/111 [==============================] - 19s 168ms/step - loss: 0.9071 - accuracy: 0.6410 - val_loss: 1.1262 - val_accuracy: 0.5489 - lr: 0.0010\n",
      "Epoch 6/50\n",
      "111/111 [==============================] - 18s 160ms/step - loss: 0.8339 - accuracy: 0.6731 - val_loss: 1.0027 - val_accuracy: 0.5992 - lr: 0.0010\n",
      "Epoch 7/50\n",
      "111/111 [==============================] - 22s 197ms/step - loss: 0.7808 - accuracy: 0.6883 - val_loss: 0.9156 - val_accuracy: 0.6331 - lr: 0.0010\n",
      "Epoch 8/50\n",
      "111/111 [==============================] - 21s 185ms/step - loss: 0.7320 - accuracy: 0.7137 - val_loss: 0.9983 - val_accuracy: 0.5921 - lr: 0.0010\n",
      "Epoch 9/50\n",
      "111/111 [==============================] - 23s 210ms/step - loss: 0.7405 - accuracy: 0.6996 - val_loss: 0.9284 - val_accuracy: 0.6339 - lr: 0.0010\n",
      "Epoch 10/50\n",
      "111/111 [==============================] - 35s 319ms/step - loss: 0.6986 - accuracy: 0.7281 - val_loss: 0.9543 - val_accuracy: 0.6395 - lr: 0.0010\n",
      "Epoch 11/50\n",
      "111/111 [==============================] - 25s 224ms/step - loss: 0.6549 - accuracy: 0.7438 - val_loss: 0.9291 - val_accuracy: 0.6289 - lr: 0.0010\n",
      "Epoch 12/50\n",
      "111/111 [==============================] - 19s 167ms/step - loss: 0.6148 - accuracy: 0.7605 - val_loss: 0.9498 - val_accuracy: 0.6218 - lr: 0.0010\n",
      "Epoch 13/50\n",
      "111/111 [==============================] - 19s 170ms/step - loss: 0.5846 - accuracy: 0.7758 - val_loss: 0.9189 - val_accuracy: 0.6487 - lr: 0.0010\n",
      "Epoch 14/50\n",
      "111/111 [==============================] - 23s 206ms/step - loss: 0.5646 - accuracy: 0.7801 - val_loss: 1.0184 - val_accuracy: 0.6409 - lr: 0.0010\n",
      "Epoch 15/50\n",
      "111/111 [==============================] - 17s 158ms/step - loss: 0.5509 - accuracy: 0.7843 - val_loss: 0.9321 - val_accuracy: 0.6303 - lr: 0.0010\n",
      "Epoch 16/50\n",
      "111/111 [==============================] - 17s 157ms/step - loss: 0.5373 - accuracy: 0.7919 - val_loss: 0.9579 - val_accuracy: 0.6416 - lr: 0.0010\n",
      "Epoch 17/50\n",
      "111/111 [==============================] - 18s 164ms/step - loss: 0.5335 - accuracy: 0.7934 - val_loss: 0.9821 - val_accuracy: 0.6424 - lr: 0.0010\n",
      "Epoch 18/50\n",
      "111/111 [==============================] - 17s 153ms/step - loss: 0.4575 - accuracy: 0.8255 - val_loss: 0.9113 - val_accuracy: 0.6501 - lr: 5.0000e-04\n",
      "Epoch 19/50\n",
      "111/111 [==============================] - 16s 148ms/step - loss: 0.4352 - accuracy: 0.8265 - val_loss: 0.9084 - val_accuracy: 0.6615 - lr: 5.0000e-04\n",
      "Epoch 20/50\n",
      "111/111 [==============================] - 17s 155ms/step - loss: 0.4142 - accuracy: 0.8419 - val_loss: 0.9056 - val_accuracy: 0.6664 - lr: 5.0000e-04\n",
      "Epoch 21/50\n",
      "111/111 [==============================] - 16s 148ms/step - loss: 0.4176 - accuracy: 0.8378 - val_loss: 0.9233 - val_accuracy: 0.6516 - lr: 5.0000e-04\n",
      "Epoch 22/50\n",
      "111/111 [==============================] - 17s 150ms/step - loss: 0.3933 - accuracy: 0.8480 - val_loss: 0.9415 - val_accuracy: 0.6579 - lr: 5.0000e-04\n",
      "Epoch 23/50\n",
      "111/111 [==============================] - 17s 151ms/step - loss: 0.3865 - accuracy: 0.8512 - val_loss: 0.9314 - val_accuracy: 0.6608 - lr: 5.0000e-04\n",
      "Epoch 24/50\n",
      "111/111 [==============================] - 17s 158ms/step - loss: 0.3665 - accuracy: 0.8638 - val_loss: 0.9996 - val_accuracy: 0.6381 - lr: 5.0000e-04\n",
      "Epoch 25/50\n",
      "111/111 [==============================] - 19s 171ms/step - loss: 0.3760 - accuracy: 0.8567 - val_loss: 0.9280 - val_accuracy: 0.6530 - lr: 5.0000e-04\n",
      "Epoch 26/50\n",
      "111/111 [==============================] - 21s 190ms/step - loss: 0.3605 - accuracy: 0.8669 - val_loss: 0.9113 - val_accuracy: 0.6636 - lr: 5.0000e-04\n",
      "Epoch 27/50\n",
      "111/111 [==============================] - 17s 152ms/step - loss: 0.3604 - accuracy: 0.8621 - val_loss: 0.9824 - val_accuracy: 0.6388 - lr: 5.0000e-04\n",
      "Epoch 28/50\n",
      "111/111 [==============================] - 18s 160ms/step - loss: 0.3585 - accuracy: 0.8646 - val_loss: 0.9726 - val_accuracy: 0.6353 - lr: 5.0000e-04\n",
      "Epoch 29/50\n",
      "111/111 [==============================] - 17s 151ms/step - loss: 0.3501 - accuracy: 0.8659 - val_loss: 0.9883 - val_accuracy: 0.6424 - lr: 5.0000e-04\n",
      "Epoch 30/50\n",
      "111/111 [==============================] - 18s 165ms/step - loss: 0.3312 - accuracy: 0.8732 - val_loss: 0.9764 - val_accuracy: 0.6409 - lr: 5.0000e-04\n",
      "Epoch 31/50\n",
      "111/111 [==============================] - 18s 164ms/step - loss: 0.3025 - accuracy: 0.8919 - val_loss: 0.9592 - val_accuracy: 0.6452 - lr: 2.5000e-04\n",
      "Epoch 32/50\n",
      "111/111 [==============================] - 19s 169ms/step - loss: 0.3026 - accuracy: 0.8849 - val_loss: 0.9481 - val_accuracy: 0.6438 - lr: 2.5000e-04\n",
      "Epoch 33/50\n",
      "111/111 [==============================] - 18s 160ms/step - loss: 0.2988 - accuracy: 0.8876 - val_loss: 0.9430 - val_accuracy: 0.6480 - lr: 2.5000e-04\n",
      "Epoch 34/50\n",
      "111/111 [==============================] - 18s 163ms/step - loss: 0.2844 - accuracy: 0.8957 - val_loss: 0.9448 - val_accuracy: 0.6508 - lr: 2.5000e-04\n",
      "Epoch 35/50\n",
      "111/111 [==============================] - 18s 164ms/step - loss: 0.2910 - accuracy: 0.8896 - val_loss: 0.9440 - val_accuracy: 0.6523 - lr: 2.5000e-04\n",
      "Epoch 36/50\n",
      "111/111 [==============================] - 17s 150ms/step - loss: 0.2832 - accuracy: 0.8922 - val_loss: 0.9442 - val_accuracy: 0.6438 - lr: 2.5000e-04\n",
      "Epoch 37/50\n",
      "111/111 [==============================] - 18s 160ms/step - loss: 0.2763 - accuracy: 0.8937 - val_loss: 0.9460 - val_accuracy: 0.6424 - lr: 2.5000e-04\n",
      "Epoch 38/50\n",
      "111/111 [==============================] - 19s 167ms/step - loss: 0.2684 - accuracy: 0.9027 - val_loss: 0.9755 - val_accuracy: 0.6466 - lr: 2.5000e-04\n",
      "Epoch 39/50\n",
      "111/111 [==============================] - 18s 162ms/step - loss: 0.2813 - accuracy: 0.8932 - val_loss: 0.9857 - val_accuracy: 0.6530 - lr: 2.5000e-04\n",
      "Epoch 40/50\n",
      "111/111 [==============================] - 17s 154ms/step - loss: 0.2762 - accuracy: 0.8990 - val_loss: 0.9797 - val_accuracy: 0.6537 - lr: 2.5000e-04\n",
      "Epoch 41/50\n",
      "111/111 [==============================] - 18s 160ms/step - loss: 0.2644 - accuracy: 0.9015 - val_loss: 0.9626 - val_accuracy: 0.6508 - lr: 1.2500e-04\n",
      "Epoch 42/50\n",
      "111/111 [==============================] - 18s 165ms/step - loss: 0.2412 - accuracy: 0.9123 - val_loss: 0.9761 - val_accuracy: 0.6438 - lr: 1.2500e-04\n",
      "Epoch 43/50\n",
      "111/111 [==============================] - 19s 168ms/step - loss: 0.2383 - accuracy: 0.9098 - val_loss: 0.9682 - val_accuracy: 0.6558 - lr: 1.2500e-04\n",
      "Epoch 44/50\n",
      "111/111 [==============================] - 19s 175ms/step - loss: 0.2386 - accuracy: 0.9119 - val_loss: 0.9725 - val_accuracy: 0.6537 - lr: 1.2500e-04\n",
      "Epoch 45/50\n",
      "111/111 [==============================] - 20s 179ms/step - loss: 0.2411 - accuracy: 0.9105 - val_loss: 0.9857 - val_accuracy: 0.6530 - lr: 1.2500e-04\n",
      "Epoch 46/50\n",
      "111/111 [==============================] - 23s 211ms/step - loss: 0.2425 - accuracy: 0.9086 - val_loss: 1.0002 - val_accuracy: 0.6452 - lr: 1.2500e-04\n",
      "Epoch 47/50\n",
      "111/111 [==============================] - 20s 185ms/step - loss: 0.2406 - accuracy: 0.9120 - val_loss: 0.9795 - val_accuracy: 0.6487 - lr: 1.2500e-04\n",
      "Epoch 48/50\n",
      "111/111 [==============================] - 27s 244ms/step - loss: 0.2351 - accuracy: 0.9137 - val_loss: 0.9800 - val_accuracy: 0.6473 - lr: 1.2500e-04\n",
      "Epoch 49/50\n",
      "111/111 [==============================] - 29s 262ms/step - loss: 0.2490 - accuracy: 0.9072 - val_loss: 0.9547 - val_accuracy: 0.6678 - lr: 1.2500e-04\n",
      "Epoch 50/50\n",
      "111/111 [==============================] - 29s 263ms/step - loss: 0.2436 - accuracy: 0.9061 - val_loss: 0.9607 - val_accuracy: 0.6657 - lr: 1.2500e-04\n"
     ]
    },
    {
     "data": {
      "image/png": "[encoded data removed]",
      "text/plain": [
       "<Figure size 640x480 with 1 Axes>"
      ]
     },
     "metadata": {},
     "output_type": "display_data"
    },
    {
     "data": {
      "image/png": "[encoded data removed]",
      "text/plain": [
       "<Figure size 640x480 with 1 Axes>"
      ]
     },
     "metadata": {},
     "output_type": "display_data"
    },
    {
     "name": "stdout",
     "output_type": "stream",
     "text": [
      "Test accuracy of the basic CNN model on all subjects: 0.694695234298706\n"
     ]
    }
   ],
   "source": [
    "# Model parameters\n",
    "lr = 1e-3\n",
    "epochs = 50\n",
    "cnn_optimizer = keras.optimizers.Adam(learning_rate=lr)\n",
    "lr_callback = tf.keras.callbacks.ReduceLROnPlateau(patience = 10, factor = 0.5)  # reduces by a factor of 0.5 if validation loss doesn't improve for 10 epochs\n",
    "\n",
    "## Preprocess the entire dataset \n",
    "y_train, y_valid, y_test, x_train, x_valid, x_test = preprocessing(X_train_valid, Y_train_valid, X_test, Y_test)\n",
    "\n",
    "# Compiling the model\n",
    "basic_cnn_model.compile(loss='categorical_crossentropy',\n",
    "                 optimizer=cnn_optimizer,\n",
    "                 metrics=['accuracy'])\n",
    "\n",
    "# Training and validating the model\n",
    "basic_cnn_model_results = basic_cnn_model.fit(x_train,\n",
    "             y_train,\n",
    "             batch_size=64,\n",
    "             epochs=epochs,\n",
    "             validation_data=(x_valid, y_valid), \n",
    "             callbacks=[lr_callback], \n",
    "             verbose=True)\n",
    "\n",
    "# Plotting accuracy trajectory\n",
    "plt.plot(basic_cnn_model_results.history['accuracy'])\n",
    "plt.plot(basic_cnn_model_results.history['val_accuracy'])\n",
    "plt.title('Basic CNN model accuracy trajectory')\n",
    "plt.ylabel('accuracy')\n",
    "plt.xlabel('epoch')\n",
    "plt.legend(['train', 'val'], loc='upper left')\n",
    "plt.show()\n",
    "\n",
    "# Plotting loss trajectory\n",
    "plt.plot(basic_cnn_model_results.history['loss'],'o')\n",
    "plt.plot(basic_cnn_model_results.history['val_loss'],'o')\n",
    "plt.title('Basic CNN model loss trajectory')\n",
    "plt.ylabel('loss')\n",
    "plt.xlabel('epoch')\n",
    "plt.legend(['train', 'val'], loc='upper left')\n",
    "plt.show()\n",
    "\n",
    "## Testing the basic CNN model\n",
    "cnn_score = basic_cnn_model.evaluate(x_test, y_test, verbose=0)\n",
    "print('Test accuracy of the basic CNN model on all subjects:',cnn_score[1])"
   ]
  },
  {
   "cell_type": "markdown",
   "metadata": {
    "lc_cell_meme": {
     "current": "b369bee8-c797-11ed-bf26-c0335e65711e",
     "next": "b369bee9-c797-11ed-92af-c0335e65711e",
     "previous": "b369bee7-c797-11ed-b967-c0335e65711e"
    }
   },
   "source": [
    "### Test on Subject 1 after training on all subjects"
   ]
  },
  {
   "cell_type": "code",
   "execution_count": 13,
   "metadata": {
    "lc_cell_meme": {
     "current": "b369bee9-c797-11ed-92af-c0335e65711e",
     "next": "b369beea-c797-11ed-ad39-c0335e65711e",
     "previous": "b369bee8-c797-11ed-bf26-c0335e65711e"
    }
   },
   "outputs": [
    {
     "name": "stdout",
     "output_type": "stream",
     "text": [
      "Test accuracy of the basic CNN model on Subject 1, trained on all subjects: 0.6700000166893005\n"
     ]
    }
   ],
   "source": [
    "# Testing model \n",
    "model_score = basic_cnn_model.evaluate(xp_test, yp_test, verbose=0)\n",
    "print('Test accuracy of the basic CNN model on Subject 1, trained on all subjects:',model_score[1])"
   ]
  },
  {
   "cell_type": "markdown",
   "metadata": {
    "lc_cell_meme": {
     "current": "b369beea-c797-11ed-ad39-c0335e65711e",
     "next": "b369beeb-c797-11ed-8673-c0335e65711e",
     "previous": "b369bee9-c797-11ed-92af-c0335e65711e"
    }
   },
   "source": [
    "### ResCNN"
   ]
  },
  {
   "cell_type": "code",
   "execution_count": 14,
   "metadata": {
    "lc_cell_meme": {
     "current": "b369beeb-c797-11ed-8673-c0335e65711e",
     "next": "b369beec-c797-11ed-b96d-c0335e65711e",
     "previous": "b369beea-c797-11ed-ad39-c0335e65711e"
    }
   },
   "outputs": [
    {
     "name": "stdout",
     "output_type": "stream",
     "text": [
      "Model: \"eeg_resnet\"\n",
      "__________________________________________________________________________________________________\n",
      " Layer (type)                   Output Shape         Param #     Connected to                     \n",
      "==================================================================================================\n",
      " eeg (InputLayer)               [(None, 250, 1, 22)  0           []                               \n",
      "                                ]                                                                 \n",
      "                                                                                                  \n",
      " conv1 (Conv2D)                 (None, 250, 1, 25)   5525        ['eeg[0][0]']                    \n",
      "                                                                                                  \n",
      " max_pooling2d_8 (MaxPooling2D)  (None, 84, 1, 25)   0           ['conv1[0][0]']                  \n",
      "                                                                                                  \n",
      " batch_normalization_8 (BatchNo  (None, 84, 1, 25)   100         ['max_pooling2d_8[0][0]']        \n",
      " rmalization)                                                                                     \n",
      "                                                                                                  \n",
      " dropout_8 (Dropout)            (None, 84, 1, 25)    0           ['batch_normalization_8[0][0]']  \n",
      "                                                                                                  \n",
      " conv2 (Conv2D)                 (None, 84, 1, 25)    6275        ['dropout_8[0][0]']              \n",
      "                                                                                                  \n",
      " max_pooling2d_9 (MaxPooling2D)  (None, 84, 1, 25)   0           ['conv2[0][0]']                  \n",
      "                                                                                                  \n",
      " batch_normalization_9 (BatchNo  (None, 84, 1, 25)   100         ['max_pooling2d_9[0][0]']        \n",
      " rmalization)                                                                                     \n",
      "                                                                                                  \n",
      " dropout_9 (Dropout)            (None, 84, 1, 25)    0           ['batch_normalization_9[0][0]']  \n",
      "                                                                                                  \n",
      " add (Add)                      (None, 84, 1, 25)    0           ['dropout_8[0][0]',              \n",
      "                                                                  'dropout_9[0][0]']              \n",
      "                                                                                                  \n",
      " conv3 (Conv2D)                 (None, 84, 1, 50)    12550       ['add[0][0]']                    \n",
      "                                                                                                  \n",
      " max_pooling2d_10 (MaxPooling2D  (None, 28, 1, 50)   0           ['conv3[0][0]']                  \n",
      " )                                                                                                \n",
      "                                                                                                  \n",
      " batch_normalization_10 (BatchN  (None, 28, 1, 50)   200         ['max_pooling2d_10[0][0]']       \n",
      " ormalization)                                                                                    \n",
      "                                                                                                  \n",
      " dropout_10 (Dropout)           (None, 28, 1, 50)    0           ['batch_normalization_10[0][0]'] \n",
      "                                                                                                  \n",
      " conv4 (Conv2D)                 (None, 28, 1, 50)    25050       ['dropout_10[0][0]']             \n",
      "                                                                                                  \n",
      " max_pooling2d_11 (MaxPooling2D  (None, 28, 1, 50)   0           ['conv4[0][0]']                  \n",
      " )                                                                                                \n",
      "                                                                                                  \n",
      " batch_normalization_11 (BatchN  (None, 28, 1, 50)   200         ['max_pooling2d_11[0][0]']       \n",
      " ormalization)                                                                                    \n",
      "                                                                                                  \n",
      " dropout_11 (Dropout)           (None, 28, 1, 50)    0           ['batch_normalization_11[0][0]'] \n",
      "                                                                                                  \n",
      " add_1 (Add)                    (None, 28, 1, 50)    0           ['dropout_10[0][0]',             \n",
      "                                                                  'dropout_11[0][0]']             \n",
      "                                                                                                  \n",
      " conv5 (Conv2D)                 (None, 28, 1, 100)   50100       ['add_1[0][0]']                  \n",
      "                                                                                                  \n",
      " max_pooling2d_12 (MaxPooling2D  (None, 10, 1, 100)  0           ['conv5[0][0]']                  \n",
      " )                                                                                                \n",
      "                                                                                                  \n",
      " batch_normalization_12 (BatchN  (None, 10, 1, 100)  400         ['max_pooling2d_12[0][0]']       \n",
      " ormalization)                                                                                    \n",
      "                                                                                                  \n",
      " dropout_12 (Dropout)           (None, 10, 1, 100)   0           ['batch_normalization_12[0][0]'] \n",
      "                                                                                                  \n",
      " flatten_2 (Flatten)            (None, 1000)         0           ['dropout_12[0][0]']             \n",
      "                                                                                                  \n",
      " dense_2 (Dense)                (None, 4)            4004        ['flatten_2[0][0]']              \n",
      "                                                                                                  \n",
      "==================================================================================================\n",
      "Total params: 104,504\n",
      "Trainable params: 104,004\n",
      "Non-trainable params: 500\n",
      "__________________________________________________________________________________________________\n"
     ]
    }
   ],
   "source": [
    "# Building the CNN model using sequential class\n",
    "inputs = keras.Input(shape=(250,1,22), name='eeg')\n",
    "\n",
    "# Conv. block 1\n",
    "block_1 = Conv2D(filters=25, kernel_size=(10,1), padding='same', activation='elu', name='conv1')(inputs)\n",
    "block_1 = MaxPooling2D(pool_size=(3,1), padding='same')(block_1)\n",
    "block_1 = BatchNormalization()(block_1)\n",
    "block_1 = Dropout(0.5)(block_1)\n",
    "\n",
    "# Conv. block 2\n",
    "block_2 = Conv2D(filters=25, kernel_size=(10,1), padding='same', activation='elu', name='conv2')(block_1)\n",
    "block_2 = MaxPooling2D(pool_size=(1,1), padding='same')(block_2)\n",
    "block_2 = BatchNormalization()(block_2)\n",
    "block_2 = Dropout(0.5)(block_2)\n",
    "\n",
    "# Conv. block 3\n",
    "block_3 = keras.layers.add([block_1, block_2])\n",
    "block_3 = Conv2D(filters=50, kernel_size=(10,1), padding='same', activation='elu', name='conv3')(block_3)\n",
    "block_3 = MaxPooling2D(pool_size=(3,1), padding='same')(block_3)\n",
    "block_3 = BatchNormalization()(block_3)\n",
    "block_3 = Dropout(0.5)(block_3)\n",
    "\n",
    "# Conv. block 4\n",
    "block_4 = Conv2D(filters=50, kernel_size=(10,1), padding='same', activation='elu', name='conv4')(block_3)\n",
    "block_4 = MaxPooling2D(pool_size=(1,1), padding='same')(block_4)\n",
    "block_4 = BatchNormalization()(block_4)\n",
    "block_4 = Dropout(0.5)(block_4)\n",
    "\n",
    "# Conv. block 5\n",
    "block_5 = keras.layers.add([block_3, block_4])\n",
    "block_5 = Conv2D(filters=100, kernel_size=(10,1), padding='same', activation='elu', name='conv5')(block_5)\n",
    "block_5 = MaxPooling2D(pool_size=(3,1), padding='same')(block_5)\n",
    "block_5 = BatchNormalization()(block_5)\n",
    "block_5 = Dropout(0.5)(block_5)\n",
    "\n",
    "# Output layer with Softmax activation\n",
    "x = keras.layers.Flatten()(block_5)\n",
    "\n",
    "# Output layer with Softmax activation \n",
    "probs = keras.layers.Dense(4, activation='softmax')(x) # Output FC layer with softmax activation\n",
    "\n",
    "# Printing the model summary\n",
    "res_cnn_model = keras.Model(inputs=inputs, outputs=probs, name='eeg_resnet')\n",
    "res_cnn_model.summary()"
   ]
  },
  {
   "cell_type": "markdown",
   "metadata": {
    "lc_cell_meme": {
     "current": "b369beec-c797-11ed-b96d-c0335e65711e",
     "next": "b369beed-c797-11ed-b03f-c0335e65711e",
     "previous": "b369beeb-c797-11ed-8673-c0335e65711e"
    }
   },
   "source": [
    "### Train on Subject 1"
   ]
  },
  {
   "cell_type": "code",
   "execution_count": 15,
   "metadata": {
    "lc_cell_meme": {
     "current": "b369beed-c797-11ed-b03f-c0335e65711e",
     "next": "b369beee-c797-11ed-bab2-c0335e65711e",
     "previous": "b369beec-c797-11ed-b96d-c0335e65711e"
    }
   },
   "outputs": [
    {
     "name": "stdout",
     "output_type": "stream",
     "text": [
      "Epoch 1/50\n",
      "13/13 [==============================] - 10s 326ms/step - loss: 2.2476 - accuracy: 0.2779 - val_loss: 12.7368 - val_accuracy: 0.2812 - lr: 0.0010\n",
      "Epoch 2/50\n",
      "13/13 [==============================] - 3s 232ms/step - loss: 1.8667 - accuracy: 0.3934 - val_loss: 11.5374 - val_accuracy: 0.2750 - lr: 0.0010\n",
      "Epoch 3/50\n",
      "13/13 [==============================] - 2s 146ms/step - loss: 1.7412 - accuracy: 0.4289 - val_loss: 8.3760 - val_accuracy: 0.2750 - lr: 0.0010\n",
      "Epoch 4/50\n",
      "13/13 [==============================] - 2s 194ms/step - loss: 1.5617 - accuracy: 0.4569 - val_loss: 4.3318 - val_accuracy: 0.3187 - lr: 0.0010\n",
      "Epoch 5/50\n",
      "13/13 [==============================] - 2s 189ms/step - loss: 1.4864 - accuracy: 0.4772 - val_loss: 3.7984 - val_accuracy: 0.3375 - lr: 0.0010\n",
      "Epoch 6/50\n",
      "13/13 [==============================] - 2s 174ms/step - loss: 1.2824 - accuracy: 0.5292 - val_loss: 3.0283 - val_accuracy: 0.3562 - lr: 0.0010\n",
      "Epoch 7/50\n",
      "13/13 [==============================] - 2s 187ms/step - loss: 1.1400 - accuracy: 0.5571 - val_loss: 2.3771 - val_accuracy: 0.3812 - lr: 0.0010\n",
      "Epoch 8/50\n",
      "13/13 [==============================] - 2s 182ms/step - loss: 1.0238 - accuracy: 0.6244 - val_loss: 2.0335 - val_accuracy: 0.4688 - lr: 0.0010\n",
      "Epoch 9/50\n",
      "13/13 [==============================] - 2s 180ms/step - loss: 0.9439 - accuracy: 0.6497 - val_loss: 1.5746 - val_accuracy: 0.5688 - lr: 0.0010\n",
      "Epoch 10/50\n",
      "13/13 [==============================] - 2s 184ms/step - loss: 0.8987 - accuracy: 0.6612 - val_loss: 1.4301 - val_accuracy: 0.5188 - lr: 0.0010\n",
      "Epoch 11/50\n",
      "13/13 [==============================] - 2s 185ms/step - loss: 0.8657 - accuracy: 0.6612 - val_loss: 1.3312 - val_accuracy: 0.5562 - lr: 0.0010\n",
      "Epoch 12/50\n",
      "13/13 [==============================] - 2s 164ms/step - loss: 0.7297 - accuracy: 0.7208 - val_loss: 1.2614 - val_accuracy: 0.5938 - lr: 0.0010\n",
      "Epoch 13/50\n",
      "13/13 [==============================] - 2s 140ms/step - loss: 0.6209 - accuracy: 0.7373 - val_loss: 1.2282 - val_accuracy: 0.6000 - lr: 0.0010\n",
      "Epoch 14/50\n",
      "13/13 [==============================] - 2s 185ms/step - loss: 0.6253 - accuracy: 0.7487 - val_loss: 1.2020 - val_accuracy: 0.5500 - lr: 0.0010\n",
      "Epoch 15/50\n",
      "13/13 [==============================] - 3s 214ms/step - loss: 0.6189 - accuracy: 0.7513 - val_loss: 1.1046 - val_accuracy: 0.5750 - lr: 0.0010\n",
      "Epoch 16/50\n",
      "13/13 [==============================] - 3s 201ms/step - loss: 0.5044 - accuracy: 0.7995 - val_loss: 1.1996 - val_accuracy: 0.5688 - lr: 0.0010\n",
      "Epoch 17/50\n",
      "13/13 [==============================] - 2s 176ms/step - loss: 0.5009 - accuracy: 0.8058 - val_loss: 1.1922 - val_accuracy: 0.6000 - lr: 0.0010\n",
      "Epoch 18/50\n",
      "13/13 [==============================] - 2s 178ms/step - loss: 0.4725 - accuracy: 0.8223 - val_loss: 1.2255 - val_accuracy: 0.5688 - lr: 0.0010\n",
      "Epoch 19/50\n",
      "13/13 [==============================] - 2s 174ms/step - loss: 0.4583 - accuracy: 0.8388 - val_loss: 1.2850 - val_accuracy: 0.5500 - lr: 0.0010\n",
      "Epoch 20/50\n",
      "13/13 [==============================] - 2s 165ms/step - loss: 0.3853 - accuracy: 0.8693 - val_loss: 1.2795 - val_accuracy: 0.5750 - lr: 0.0010\n",
      "Epoch 21/50\n",
      "13/13 [==============================] - 2s 173ms/step - loss: 0.3782 - accuracy: 0.8604 - val_loss: 1.1955 - val_accuracy: 0.5688 - lr: 0.0010\n",
      "Epoch 22/50\n",
      "13/13 [==============================] - 2s 156ms/step - loss: 0.3900 - accuracy: 0.8490 - val_loss: 1.4294 - val_accuracy: 0.5813 - lr: 0.0010\n",
      "Epoch 23/50\n",
      "13/13 [==============================] - 2s 145ms/step - loss: 0.3434 - accuracy: 0.8756 - val_loss: 1.3892 - val_accuracy: 0.5250 - lr: 0.0010\n",
      "Epoch 24/50\n",
      "13/13 [==============================] - 2s 171ms/step - loss: 0.3402 - accuracy: 0.8693 - val_loss: 1.3308 - val_accuracy: 0.5750 - lr: 0.0010\n",
      "Epoch 25/50\n",
      "13/13 [==============================] - 2s 167ms/step - loss: 0.3643 - accuracy: 0.8693 - val_loss: 1.3706 - val_accuracy: 0.6250 - lr: 0.0010\n",
      "Epoch 26/50\n",
      "13/13 [==============================] - 3s 259ms/step - loss: 0.2769 - accuracy: 0.9074 - val_loss: 1.1639 - val_accuracy: 0.6187 - lr: 5.0000e-04\n",
      "Epoch 27/50\n",
      "13/13 [==============================] - 3s 196ms/step - loss: 0.2640 - accuracy: 0.9074 - val_loss: 1.1701 - val_accuracy: 0.5750 - lr: 5.0000e-04\n",
      "Epoch 28/50\n",
      "13/13 [==============================] - 3s 198ms/step - loss: 0.2543 - accuracy: 0.9112 - val_loss: 1.1885 - val_accuracy: 0.6250 - lr: 5.0000e-04\n",
      "Epoch 29/50\n",
      "13/13 [==============================] - 2s 174ms/step - loss: 0.2603 - accuracy: 0.9036 - val_loss: 1.0580 - val_accuracy: 0.6438 - lr: 5.0000e-04\n",
      "Epoch 30/50\n",
      "13/13 [==============================] - 2s 170ms/step - loss: 0.2970 - accuracy: 0.8909 - val_loss: 1.0954 - val_accuracy: 0.6438 - lr: 5.0000e-04\n",
      "Epoch 31/50\n",
      "13/13 [==============================] - 3s 252ms/step - loss: 0.2292 - accuracy: 0.9201 - val_loss: 1.1110 - val_accuracy: 0.5938 - lr: 5.0000e-04\n",
      "Epoch 32/50\n",
      "13/13 [==============================] - 2s 171ms/step - loss: 0.2414 - accuracy: 0.9061 - val_loss: 1.1094 - val_accuracy: 0.5938 - lr: 5.0000e-04\n",
      "Epoch 33/50\n",
      "13/13 [==============================] - 2s 150ms/step - loss: 0.2456 - accuracy: 0.9010 - val_loss: 1.3397 - val_accuracy: 0.5938 - lr: 5.0000e-04\n",
      "Epoch 34/50\n",
      "13/13 [==============================] - 3s 210ms/step - loss: 0.2302 - accuracy: 0.9162 - val_loss: 1.2047 - val_accuracy: 0.6062 - lr: 5.0000e-04\n",
      "Epoch 35/50\n",
      "13/13 [==============================] - 3s 221ms/step - loss: 0.2564 - accuracy: 0.9048 - val_loss: 1.2124 - val_accuracy: 0.5875 - lr: 5.0000e-04\n",
      "Epoch 36/50\n",
      "13/13 [==============================] - 3s 201ms/step - loss: 0.1967 - accuracy: 0.9391 - val_loss: 1.2490 - val_accuracy: 0.5875 - lr: 5.0000e-04\n",
      "Epoch 37/50\n",
      "13/13 [==============================] - 2s 180ms/step - loss: 0.2380 - accuracy: 0.9188 - val_loss: 1.1904 - val_accuracy: 0.5938 - lr: 5.0000e-04\n",
      "Epoch 38/50\n",
      "13/13 [==============================] - 3s 199ms/step - loss: 0.2017 - accuracy: 0.9188 - val_loss: 1.3336 - val_accuracy: 0.5875 - lr: 5.0000e-04\n",
      "Epoch 39/50\n",
      "13/13 [==============================] - 2s 183ms/step - loss: 0.1779 - accuracy: 0.9442 - val_loss: 1.3632 - val_accuracy: 0.6187 - lr: 5.0000e-04\n",
      "Epoch 40/50\n",
      "13/13 [==============================] - 3s 203ms/step - loss: 0.2102 - accuracy: 0.9302 - val_loss: 1.3183 - val_accuracy: 0.6250 - lr: 2.5000e-04\n",
      "Epoch 41/50\n",
      "13/13 [==============================] - 2s 173ms/step - loss: 0.1901 - accuracy: 0.9340 - val_loss: 1.2964 - val_accuracy: 0.6187 - lr: 2.5000e-04\n",
      "Epoch 42/50\n",
      "13/13 [==============================] - 2s 141ms/step - loss: 0.1708 - accuracy: 0.9404 - val_loss: 1.3684 - val_accuracy: 0.6313 - lr: 2.5000e-04\n",
      "Epoch 43/50\n",
      "13/13 [==============================] - 2s 166ms/step - loss: 0.2049 - accuracy: 0.9277 - val_loss: 1.3094 - val_accuracy: 0.6250 - lr: 2.5000e-04\n",
      "Epoch 44/50\n",
      "13/13 [==============================] - 2s 169ms/step - loss: 0.1628 - accuracy: 0.9340 - val_loss: 1.2343 - val_accuracy: 0.6187 - lr: 2.5000e-04\n",
      "Epoch 45/50\n",
      "13/13 [==============================] - 2s 175ms/step - loss: 0.1891 - accuracy: 0.9378 - val_loss: 1.2854 - val_accuracy: 0.6187 - lr: 2.5000e-04\n",
      "Epoch 46/50\n",
      "13/13 [==============================] - 3s 242ms/step - loss: 0.1705 - accuracy: 0.9365 - val_loss: 1.3435 - val_accuracy: 0.6313 - lr: 2.5000e-04\n",
      "Epoch 47/50\n",
      "13/13 [==============================] - 3s 200ms/step - loss: 0.1728 - accuracy: 0.9302 - val_loss: 1.2430 - val_accuracy: 0.6187 - lr: 2.5000e-04\n",
      "Epoch 48/50\n",
      "13/13 [==============================] - 2s 181ms/step - loss: 0.1420 - accuracy: 0.9505 - val_loss: 1.1731 - val_accuracy: 0.6125 - lr: 2.5000e-04\n",
      "Epoch 49/50\n",
      "13/13 [==============================] - 3s 218ms/step - loss: 0.1505 - accuracy: 0.9365 - val_loss: 1.2817 - val_accuracy: 0.6313 - lr: 2.5000e-04\n",
      "Epoch 50/50\n",
      "13/13 [==============================] - 2s 169ms/step - loss: 0.1737 - accuracy: 0.9378 - val_loss: 1.3566 - val_accuracy: 0.6313 - lr: 1.2500e-04\n"
     ]
    },
    {
     "data": {
      "image/png": "[encoded data removed]",
      "text/plain": [
       "<Figure size 640x480 with 1 Axes>"
      ]
     },
     "metadata": {},
     "output_type": "display_data"
    },
    {
     "data": {
      "image/png": "[encoded data removed]",
      "text/plain": [
       "<Figure size 640x480 with 1 Axes>"
      ]
     },
     "metadata": {},
     "output_type": "display_data"
    },
    {
     "name": "stdout",
     "output_type": "stream",
     "text": [
      "Test accuracy of the ResCNN model on Subject 1: 0.625\n"
     ]
    }
   ],
   "source": [
    "lr = 1e-3\n",
    "epochs = 50\n",
    "model_optimizer = keras.optimizers.Adam(learning_rate=lr)\n",
    "\n",
    "# Compiling the model\n",
    "res_cnn_model.compile(loss='categorical_crossentropy',\n",
    "                 optimizer=model_optimizer,\n",
    "                 metrics=['accuracy'])\n",
    "\n",
    "lr_callback = tf.keras.callbacks.ReduceLROnPlateau(patience = 10, factor = 0.5)  # reduces by a factor of 0.5 if validation loss doesn't improve for 10 epochs\n",
    "\n",
    "## Preprocess a single person dataset \n",
    "person = 0  #Set which person you'd like to look at (from 0 to 8)\n",
    "yp_train, yp_valid, yp_test, xp_train, xp_valid, xp_test = preprocessing(Xp_train_valid[person], Yp_train_valid[person], Xp_test[person], Yp_test[person])\n",
    "\n",
    "# Training and validating the model on Subject 1 (person 0)\n",
    "model_results = res_cnn_model.fit(xp_train,\n",
    "             yp_train,\n",
    "             batch_size=64,\n",
    "             epochs=epochs,\n",
    "             validation_data=(xp_valid, yp_valid), \n",
    "             callbacks=[lr_callback],\n",
    "             verbose=True)\n",
    "\n",
    "# Plotting accuracy trajectory\n",
    "plt.plot(model_results.history['accuracy'])\n",
    "plt.plot(model_results.history['val_accuracy'])\n",
    "plt.title('ResCNN model accuracy trajectory')\n",
    "plt.ylabel('accuracy')\n",
    "plt.xlabel('epoch')\n",
    "plt.legend(['train', 'val'], loc='upper left')\n",
    "plt.show()\n",
    "\n",
    "# Plotting loss trajectory\n",
    "plt.plot(model_results.history['loss'],'o')\n",
    "plt.plot(model_results.history['val_loss'],'o')\n",
    "plt.title('ResCNN model loss trajectory')\n",
    "plt.ylabel('loss')\n",
    "plt.xlabel('epoch')\n",
    "plt.legend(['train', 'val'], loc='upper left')\n",
    "plt.show()\n",
    "\n",
    "# Testing model \n",
    "model_score = res_cnn_model.evaluate(xp_test, yp_test, verbose=0)\n",
    "print('Test accuracy of the ResCNN model on Subject 1:',model_score[1])"
   ]
  },
  {
   "cell_type": "markdown",
   "metadata": {
    "lc_cell_meme": {
     "current": "b369beee-c797-11ed-bab2-c0335e65711e",
     "next": "b369beef-c797-11ed-944f-c0335e65711e",
     "previous": "b369beed-c797-11ed-b03f-c0335e65711e"
    }
   },
   "source": [
    "### Train on all subjects"
   ]
  },
  {
   "cell_type": "code",
   "execution_count": 16,
   "metadata": {
    "lc_cell_meme": {
     "current": "b369beef-c797-11ed-944f-c0335e65711e",
     "next": "b369bef0-c797-11ed-bf1f-c0335e65711e",
     "previous": "b369beee-c797-11ed-bab2-c0335e65711e"
    }
   },
   "outputs": [
    {
     "name": "stdout",
     "output_type": "stream",
     "text": [
      "Epoch 1/50\n",
      "111/111 [==============================] - 28s 194ms/step - loss: 1.5269 - accuracy: 0.4628 - val_loss: 1.0128 - val_accuracy: 0.5779 - lr: 0.0010\n",
      "Epoch 2/50\n",
      "111/111 [==============================] - 20s 182ms/step - loss: 1.1577 - accuracy: 0.5294 - val_loss: 0.9975 - val_accuracy: 0.5829 - lr: 0.0010\n",
      "Epoch 3/50\n",
      "111/111 [==============================] - 20s 180ms/step - loss: 1.0578 - accuracy: 0.5671 - val_loss: 0.9507 - val_accuracy: 0.5871 - lr: 0.0010\n",
      "Epoch 4/50\n",
      "111/111 [==============================] - 20s 180ms/step - loss: 0.9986 - accuracy: 0.5968 - val_loss: 0.9398 - val_accuracy: 0.5963 - lr: 0.0010\n",
      "Epoch 5/50\n",
      "111/111 [==============================] - 20s 184ms/step - loss: 0.9225 - accuracy: 0.6237 - val_loss: 0.9028 - val_accuracy: 0.6424 - lr: 0.0010\n",
      "Epoch 6/50\n",
      "111/111 [==============================] - 19s 171ms/step - loss: 0.8798 - accuracy: 0.6454 - val_loss: 0.8855 - val_accuracy: 0.6424 - lr: 0.0010\n",
      "Epoch 7/50\n",
      "111/111 [==============================] - 19s 168ms/step - loss: 0.8337 - accuracy: 0.6701 - val_loss: 0.8091 - val_accuracy: 0.6565 - lr: 0.0010\n",
      "Epoch 8/50\n",
      "111/111 [==============================] - 22s 196ms/step - loss: 0.8022 - accuracy: 0.6810 - val_loss: 0.8164 - val_accuracy: 0.6537 - lr: 0.0010\n",
      "Epoch 9/50\n",
      "111/111 [==============================] - 20s 184ms/step - loss: 0.7709 - accuracy: 0.6951 - val_loss: 0.7827 - val_accuracy: 0.6806 - lr: 0.0010\n",
      "Epoch 10/50\n",
      "111/111 [==============================] - 20s 182ms/step - loss: 0.7439 - accuracy: 0.7020 - val_loss: 0.7870 - val_accuracy: 0.6813 - lr: 0.0010\n",
      "Epoch 11/50\n",
      "111/111 [==============================] - 20s 178ms/step - loss: 0.7381 - accuracy: 0.7074 - val_loss: 0.7896 - val_accuracy: 0.6728 - lr: 0.0010\n",
      "Epoch 12/50\n",
      "111/111 [==============================] - 27s 241ms/step - loss: 0.7015 - accuracy: 0.7263 - val_loss: 0.7860 - val_accuracy: 0.6813 - lr: 0.0010\n",
      "Epoch 13/50\n",
      "111/111 [==============================] - 23s 210ms/step - loss: 0.6932 - accuracy: 0.7294 - val_loss: 0.7326 - val_accuracy: 0.6905 - lr: 0.0010\n",
      "Epoch 14/50\n",
      "111/111 [==============================] - 20s 181ms/step - loss: 0.6730 - accuracy: 0.7345 - val_loss: 0.7489 - val_accuracy: 0.6834 - lr: 0.0010\n",
      "Epoch 15/50\n",
      "111/111 [==============================] - 22s 196ms/step - loss: 0.6384 - accuracy: 0.7496 - val_loss: 0.7431 - val_accuracy: 0.6877 - lr: 0.0010\n",
      "Epoch 16/50\n",
      "111/111 [==============================] - 20s 183ms/step - loss: 0.6171 - accuracy: 0.7543 - val_loss: 0.7421 - val_accuracy: 0.6976 - lr: 0.0010\n",
      "Epoch 17/50\n",
      "111/111 [==============================] - 21s 189ms/step - loss: 0.6176 - accuracy: 0.7578 - val_loss: 0.7293 - val_accuracy: 0.6891 - lr: 0.0010\n",
      "Epoch 18/50\n",
      "111/111 [==============================] - 19s 172ms/step - loss: 0.6227 - accuracy: 0.7555 - val_loss: 0.7770 - val_accuracy: 0.6763 - lr: 0.0010\n",
      "Epoch 19/50\n",
      "111/111 [==============================] - 20s 180ms/step - loss: 0.5947 - accuracy: 0.7710 - val_loss: 0.7348 - val_accuracy: 0.7040 - lr: 0.0010\n",
      "Epoch 20/50\n",
      "111/111 [==============================] - 19s 172ms/step - loss: 0.5806 - accuracy: 0.7758 - val_loss: 0.6951 - val_accuracy: 0.7238 - lr: 0.0010\n",
      "Epoch 21/50\n",
      "111/111 [==============================] - 18s 164ms/step - loss: 0.5698 - accuracy: 0.7771 - val_loss: 0.7497 - val_accuracy: 0.6856 - lr: 0.0010\n",
      "Epoch 22/50\n",
      "111/111 [==============================] - 19s 176ms/step - loss: 0.5481 - accuracy: 0.7839 - val_loss: 0.6882 - val_accuracy: 0.7167 - lr: 0.0010\n",
      "Epoch 23/50\n",
      "111/111 [==============================] - 19s 175ms/step - loss: 0.5417 - accuracy: 0.7858 - val_loss: 0.7367 - val_accuracy: 0.6983 - lr: 0.0010\n",
      "Epoch 24/50\n",
      "111/111 [==============================] - 18s 165ms/step - loss: 0.5382 - accuracy: 0.7897 - val_loss: 0.7361 - val_accuracy: 0.7280 - lr: 0.0010\n",
      "Epoch 25/50\n",
      "111/111 [==============================] - 22s 201ms/step - loss: 0.5299 - accuracy: 0.7926 - val_loss: 0.7796 - val_accuracy: 0.6926 - lr: 0.0010\n",
      "Epoch 26/50\n",
      "111/111 [==============================] - 23s 208ms/step - loss: 0.5210 - accuracy: 0.8021 - val_loss: 0.7109 - val_accuracy: 0.7089 - lr: 0.0010\n",
      "Epoch 27/50\n",
      "111/111 [==============================] - 23s 209ms/step - loss: 0.5026 - accuracy: 0.8016 - val_loss: 0.6709 - val_accuracy: 0.7493 - lr: 0.0010\n",
      "Epoch 28/50\n",
      "111/111 [==============================] - 27s 240ms/step - loss: 0.4882 - accuracy: 0.8140 - val_loss: 0.7114 - val_accuracy: 0.7238 - lr: 0.0010\n",
      "Epoch 29/50\n",
      "111/111 [==============================] - 24s 215ms/step - loss: 0.4981 - accuracy: 0.8066 - val_loss: 0.6840 - val_accuracy: 0.7557 - lr: 0.0010\n",
      "Epoch 30/50\n",
      "111/111 [==============================] - 21s 187ms/step - loss: 0.4921 - accuracy: 0.8106 - val_loss: 0.7000 - val_accuracy: 0.7089 - lr: 0.0010\n",
      "Epoch 31/50\n",
      "111/111 [==============================] - 20s 185ms/step - loss: 0.4813 - accuracy: 0.8136 - val_loss: 0.6837 - val_accuracy: 0.7118 - lr: 0.0010\n",
      "Epoch 32/50\n",
      "111/111 [==============================] - 20s 176ms/step - loss: 0.4439 - accuracy: 0.8290 - val_loss: 0.6710 - val_accuracy: 0.7344 - lr: 0.0010\n",
      "Epoch 33/50\n",
      "111/111 [==============================] - 20s 178ms/step - loss: 0.4550 - accuracy: 0.8263 - val_loss: 0.6818 - val_accuracy: 0.7422 - lr: 0.0010\n",
      "Epoch 34/50\n",
      "111/111 [==============================] - 18s 166ms/step - loss: 0.4212 - accuracy: 0.8377 - val_loss: 0.7071 - val_accuracy: 0.7139 - lr: 0.0010\n",
      "Epoch 35/50\n",
      "111/111 [==============================] - 11s 97ms/step - loss: 0.4399 - accuracy: 0.8307 - val_loss: 0.7435 - val_accuracy: 0.7153 - lr: 0.0010\n",
      "Epoch 36/50\n",
      "111/111 [==============================] - 10s 89ms/step - loss: 0.4124 - accuracy: 0.8400 - val_loss: 0.6404 - val_accuracy: 0.7465 - lr: 0.0010\n",
      "Epoch 37/50\n",
      "111/111 [==============================] - 10s 88ms/step - loss: 0.4039 - accuracy: 0.8444 - val_loss: 0.6972 - val_accuracy: 0.7252 - lr: 0.0010\n",
      "Epoch 38/50\n",
      "111/111 [==============================] - 10s 94ms/step - loss: 0.4122 - accuracy: 0.8424 - val_loss: 0.6938 - val_accuracy: 0.7309 - lr: 0.0010\n",
      "Epoch 39/50\n",
      "111/111 [==============================] - 9s 83ms/step - loss: 0.4121 - accuracy: 0.8424 - val_loss: 0.6702 - val_accuracy: 0.7443 - lr: 0.0010\n",
      "Epoch 40/50\n",
      "111/111 [==============================] - 10s 86ms/step - loss: 0.4153 - accuracy: 0.8390 - val_loss: 0.7305 - val_accuracy: 0.7110 - lr: 0.0010\n",
      "Epoch 41/50\n",
      "111/111 [==============================] - 10s 87ms/step - loss: 0.4224 - accuracy: 0.8346 - val_loss: 0.7013 - val_accuracy: 0.7203 - lr: 0.0010\n",
      "Epoch 42/50\n",
      "111/111 [==============================] - 10s 92ms/step - loss: 0.3933 - accuracy: 0.8534 - val_loss: 0.7057 - val_accuracy: 0.7132 - lr: 0.0010\n",
      "Epoch 43/50\n",
      "111/111 [==============================] - 11s 95ms/step - loss: 0.3930 - accuracy: 0.8512 - val_loss: 0.7140 - val_accuracy: 0.7203 - lr: 0.0010\n",
      "Epoch 44/50\n",
      "111/111 [==============================] - 9s 82ms/step - loss: 0.3878 - accuracy: 0.8495 - val_loss: 0.7547 - val_accuracy: 0.7380 - lr: 0.0010\n",
      "Epoch 45/50\n",
      "111/111 [==============================] - 9s 82ms/step - loss: 0.3702 - accuracy: 0.8541 - val_loss: 0.7169 - val_accuracy: 0.7295 - lr: 0.0010\n",
      "Epoch 46/50\n",
      "111/111 [==============================] - 9s 84ms/step - loss: 0.3555 - accuracy: 0.8654 - val_loss: 0.7285 - val_accuracy: 0.7245 - lr: 0.0010\n",
      "Epoch 47/50\n",
      "111/111 [==============================] - 9s 85ms/step - loss: 0.3356 - accuracy: 0.8729 - val_loss: 0.6886 - val_accuracy: 0.7337 - lr: 5.0000e-04\n",
      "Epoch 48/50\n",
      "111/111 [==============================] - 10s 88ms/step - loss: 0.3226 - accuracy: 0.8784 - val_loss: 0.6980 - val_accuracy: 0.7415 - lr: 5.0000e-04\n",
      "Epoch 49/50\n",
      "111/111 [==============================] - 10s 89ms/step - loss: 0.2979 - accuracy: 0.8886 - val_loss: 0.7291 - val_accuracy: 0.7132 - lr: 5.0000e-04\n",
      "Epoch 50/50\n",
      "111/111 [==============================] - 13s 121ms/step - loss: 0.2925 - accuracy: 0.8925 - val_loss: 0.6972 - val_accuracy: 0.7387 - lr: 5.0000e-04\n"
     ]
    },
    {
     "data": {
      "image/png": "[encoded data removed]",
      "text/plain": [
       "<Figure size 640x480 with 1 Axes>"
      ]
     },
     "metadata": {},
     "output_type": "display_data"
    },
    {
     "data": {
      "image/png": "[encoded data removed]",
      "text/plain": [
       "<Figure size 640x480 with 1 Axes>"
      ]
     },
     "metadata": {},
     "output_type": "display_data"
    },
    {
     "name": "stdout",
     "output_type": "stream",
     "text": [
      "Test accuracy of the ResCNN model on all subjects: 0.7133182883262634\n"
     ]
    }
   ],
   "source": [
    "lr = 1e-3\n",
    "epochs = 50\n",
    "model_optimizer = keras.optimizers.Adam(learning_rate=lr)\n",
    "\n",
    "# Compiling the model\n",
    "res_cnn_model.compile(loss='categorical_crossentropy',\n",
    "                 optimizer=model_optimizer,\n",
    "                 metrics=['accuracy'])\n",
    "\n",
    "lr_callback = tf.keras.callbacks.ReduceLROnPlateau(patience = 10, factor = 0.5)  # reduces by a factor of 0.5 if validation loss doesn't improve for 10 epochs\n",
    "\n",
    "## Preprocess the entire dataset \n",
    "y_train, y_valid, y_test, x_train, x_valid, x_test = preprocessing(X_train_valid, Y_train_valid, X_test, Y_test)\n",
    "\n",
    "# Training and validating the model\n",
    "model_results = res_cnn_model.fit(x_train,\n",
    "             y_train,\n",
    "             batch_size=64,\n",
    "             epochs=epochs,\n",
    "             validation_data=(x_valid, y_valid), \n",
    "             callbacks=[lr_callback],\n",
    "             verbose=True)\n",
    "\n",
    "# Plotting accuracy trajectory\n",
    "plt.plot(model_results.history['accuracy'])\n",
    "plt.plot(model_results.history['val_accuracy'])\n",
    "plt.title('ResCNN model accuracy trajectory')\n",
    "plt.ylabel('accuracy')\n",
    "plt.xlabel('epoch')\n",
    "plt.legend(['train', 'val'], loc='upper left')\n",
    "plt.show()\n",
    "\n",
    "# Plotting loss trajectory\n",
    "plt.plot(model_results.history['loss'],'o')\n",
    "plt.plot(model_results.history['val_loss'],'o')\n",
    "plt.title('ResCNN model loss trajectory')\n",
    "plt.ylabel('loss')\n",
    "plt.xlabel('epoch')\n",
    "plt.legend(['train', 'val'], loc='upper left')\n",
    "plt.show()\n",
    "\n",
    "# Testing model \n",
    "model_score = res_cnn_model.evaluate(x_test, y_test, verbose=0)\n",
    "print('Test accuracy of the ResCNN model on all subjects:',model_score[1])"
   ]
  },
  {
   "cell_type": "markdown",
   "metadata": {
    "lc_cell_meme": {
     "current": "b369bef0-c797-11ed-bf1f-c0335e65711e",
     "next": "b369bef1-c797-11ed-8972-c0335e65711e",
     "previous": "b369beef-c797-11ed-944f-c0335e65711e"
    }
   },
   "source": [
    "### Test on Subject 1 after training on all subjects"
   ]
  },
  {
   "cell_type": "code",
   "execution_count": 17,
   "metadata": {
    "lc_cell_meme": {
     "current": "b369bef1-c797-11ed-8972-c0335e65711e",
     "next": "b369bef2-c797-11ed-8b02-c0335e65711e",
     "previous": "b369bef0-c797-11ed-bf1f-c0335e65711e"
    }
   },
   "outputs": [
    {
     "name": "stdout",
     "output_type": "stream",
     "text": [
      "Test accuracy of the ResCNN model on Subject 1, trained on all subjects: 0.6899999976158142\n"
     ]
    }
   ],
   "source": [
    "# Testing model \n",
    "model_score = res_cnn_model.evaluate(xp_test, yp_test, verbose=0)\n",
    "print('Test accuracy of the ResCNN model on Subject 1, trained on all subjects:',model_score[1])"
   ]
  },
  {
   "cell_type": "code",
   "execution_count": null,
   "metadata": {
    "lc_cell_meme": {
     "current": "b369bef2-c797-11ed-8b02-c0335e65711e",
     "next": "aeb8f73e-c5ab-11ed-8ed9-c0335e65711e-1-b396",
     "previous": "b369bef1-c797-11ed-8972-c0335e65711e"
    }
   },
   "outputs": [],
   "source": []
  },
  {
   "cell_type": "code",
   "execution_count": 11,
   "metadata": {
    "lc_cell_meme": {
     "current": "aeb8f73e-c5ab-11ed-8ed9-c0335e65711e-1-b396",
     "execution_end_time": "2023-03-18T16:41:16.135262Z",
     "history": [
      {
       "current": "aeb8f73e-c5ab-11ed-8ed9-c0335e65711e-1-b396",
       "next": "e9d33420-c59f-11ed-a137-c0335e65711e",
       "previous": "e9d3341f-c59f-11ed-8425-c0335e65711e"
      }
     ],
     "next": "e9d33420-c59f-11ed-a137-c0335e65711e-1-5eb8",
     "previous": "b369bef2-c797-11ed-8b02-c0335e65711e"
    }
   },
   "outputs": [
    {
     "name": "stdout",
     "output_type": "stream",
     "text": [
      "Model: \"sequential\"\n",
      "_________________________________________________________________\n",
      " Layer (type)                Output Shape              Param #   \n",
      "=================================================================\n",
      " conv2d (Conv2D)             (None, 250, 1, 25)        5525      \n",
      "                                                                 \n",
      " max_pooling2d_3 (MaxPooling  (None, 84, 1, 25)        0         \n",
      " 2D)                                                             \n",
      "                                                                 \n",
      " batch_normalization_4 (Batc  (None, 84, 1, 25)        100       \n",
      " hNormalization)                                                 \n",
      "                                                                 \n",
      " dropout_4 (Dropout)         (None, 84, 1, 25)         0         \n",
      "                                                                 \n",
      " conv2d_1 (Conv2D)           (None, 84, 1, 50)         12550     \n",
      "                                                                 \n",
      " max_pooling2d_4 (MaxPooling  (None, 28, 1, 50)        0         \n",
      " 2D)                                                             \n",
      "                                                                 \n",
      " batch_normalization_5 (Batc  (None, 28, 1, 50)        200       \n",
      " hNormalization)                                                 \n",
      "                                                                 \n",
      " dropout_5 (Dropout)         (None, 28, 1, 50)         0         \n",
      "                                                                 \n",
      " flatten_1 (Flatten)         (None, 1400)              0         \n",
      "                                                                 \n",
      " dense_1 (Dense)             (None, 100)               140100    \n",
      "                                                                 \n",
      " reshape (Reshape)           (None, 100, 1)            0         \n",
      "                                                                 \n",
      " gru (GRU)                   (None, 100, 64)           12864     \n",
      "                                                                 \n",
      " dropout_6 (Dropout)         (None, 100, 64)           0         \n",
      "                                                                 \n",
      " gru_1 (GRU)                 (None, 100, 32)           9408      \n",
      "                                                                 \n",
      " dropout_7 (Dropout)         (None, 100, 32)           0         \n",
      "                                                                 \n",
      " gru_2 (GRU)                 (None, 10)                1320      \n",
      "                                                                 \n",
      " dense_2 (Dense)             (None, 4)                 44        \n",
      "                                                                 \n",
      "=================================================================\n",
      "Total params: 182,111\n",
      "Trainable params: 181,961\n",
      "Non-trainable params: 150\n",
      "_________________________________________________________________\n"
     ]
    }
   ],
   "source": [
    "## Preprocess the entire dataset \n",
    "y_train, y_valid, y_test, x_train, x_valid, x_test = preprocessing(X_train_valid, Y_train_valid, X_test, Y_test)\n",
    "\n",
    "# Building the CNN model using sequential class\n",
    "model = Sequential()\n",
    "\n",
    "# Conv. block 1\n",
    "model.add(Conv2D(filters=25, kernel_size=(10,1), padding='same', activation='elu', input_shape=(250,1,22)))\n",
    "model.add(MaxPooling2D(pool_size=(3,1), padding='same')) # Read the keras documentation\n",
    "model.add(BatchNormalization())\n",
    "model.add(Dropout(0.5))\n",
    "\n",
    "# Conv. block 2\n",
    "model.add(Conv2D(filters=50, kernel_size=(10,1), padding='same', activation='elu'))\n",
    "model.add(MaxPooling2D(pool_size=(3,1), padding='same'))\n",
    "model.add(BatchNormalization())\n",
    "model.add(Dropout(0.5))\n",
    "\n",
    "# Stacked GRUs \n",
    "model.add(Flatten()) \n",
    "model.add(Dense(100))\n",
    "model.add(Reshape((100,1)))\n",
    "model.add(GRU(64, return_sequences=True, recurrent_dropout=0.1, input_shape=(100,1))) \n",
    "model.add(Dropout(0.2))\n",
    "model.add(GRU(32, return_sequences=True, recurrent_dropout=0.1)) \n",
    "model.add(Dropout(0.2))\n",
    "model.add(GRU(10))\n",
    "\n",
    "# Output Layer with Softmax Activation\n",
    "model.add(Dense(4, activation='softmax')) # Output FC layer with softmax activation\n",
    "\n",
    "model.summary()"
   ]
  },
  {
   "cell_type": "code",
   "execution_count": 12,
   "metadata": {
    "lc_cell_meme": {
     "current": "e9d33420-c59f-11ed-a137-c0335e65711e-1-5eb8",
     "execution_end_time": "2023-03-18T16:39:12.958358Z",
     "history": [
      {
       "current": "e9d33420-c59f-11ed-a137-c0335e65711e",
       "next": null,
       "previous": "e9d3341f-c59f-11ed-8425-c0335e65711e"
      },
      {
       "current": "e9d33420-c59f-11ed-a137-c0335e65711e",
       "next": "58475e65-c5a1-11ed-bb18-c0335e65711e",
       "previous": "e9d3341f-c59f-11ed-8425-c0335e65711e"
      },
      {
       "current": "e9d33420-c59f-11ed-a137-c0335e65711e-1-5eb8",
       "next": "58475e65-c5a1-11ed-bb18-c0335e65711e",
       "previous": "aeb8f73e-c5ab-11ed-8ed9-c0335e65711e"
      }
     ],
     "next": "58475e65-c5a1-11ed-bb18-c0335e65711e-1-a772",
     "previous": "aeb8f73e-c5ab-11ed-8ed9-c0335e65711e-1-b396"
    }
   },
   "outputs": [
    {
     "name": "stdout",
     "output_type": "stream",
     "text": [
      "Model: \"sequential_1\"\n",
      "_________________________________________________________________\n",
      " Layer (type)                Output Shape              Param #   \n",
      "=================================================================\n",
      " conv2d_2 (Conv2D)           (None, 250, 1, 25)        5525      \n",
      "                                                                 \n",
      " max_pooling2d_5 (MaxPooling  (None, 84, 1, 25)        0         \n",
      " 2D)                                                             \n",
      "                                                                 \n",
      " batch_normalization_6 (Batc  (None, 84, 1, 25)        100       \n",
      " hNormalization)                                                 \n",
      "                                                                 \n",
      " dropout_8 (Dropout)         (None, 84, 1, 25)         0         \n",
      "                                                                 \n",
      " conv2d_3 (Conv2D)           (None, 84, 1, 50)         12550     \n",
      "                                                                 \n",
      " max_pooling2d_6 (MaxPooling  (None, 28, 1, 50)        0         \n",
      " 2D)                                                             \n",
      "                                                                 \n",
      " batch_normalization_7 (Batc  (None, 28, 1, 50)        200       \n",
      " hNormalization)                                                 \n",
      "                                                                 \n",
      " dropout_9 (Dropout)         (None, 28, 1, 50)         0         \n",
      "                                                                 \n",
      " flatten_2 (Flatten)         (None, 1400)              0         \n",
      "                                                                 \n",
      " dense_3 (Dense)             (None, 100)               140100    \n",
      "                                                                 \n",
      " reshape_1 (Reshape)         (None, 100, 1)            0         \n",
      "                                                                 \n",
      " gru_3 (GRU)                 (None, 100, 64)           12864     \n",
      "                                                                 \n",
      " dropout_10 (Dropout)        (None, 100, 64)           0         \n",
      "                                                                 \n",
      " gru_4 (GRU)                 (None, 100, 32)           9408      \n",
      "                                                                 \n",
      " dropout_11 (Dropout)        (None, 100, 32)           0         \n",
      "                                                                 \n",
      " gru_5 (GRU)                 (None, 10)                1320      \n",
      "                                                                 \n",
      " dense_4 (Dense)             (None, 4)                 44        \n",
      "                                                                 \n",
      "=================================================================\n",
      "Total params: 182,111\n",
      "Trainable params: 181,961\n",
      "Non-trainable params: 150\n",
      "_________________________________________________________________\n",
      "Epoch 1/50\n",
      "111/111 [==============================] - 48s 372ms/step - loss: 1.2536 - accuracy: 0.3990 - val_loss: 1.2145 - val_accuracy: 0.4476 - lr: 0.0010\n",
      "Epoch 2/50\n",
      "111/111 [==============================] - 43s 389ms/step - loss: 1.0919 - accuracy: 0.5125 - val_loss: 1.1895 - val_accuracy: 0.4922 - lr: 0.0010\n",
      "Epoch 3/50\n",
      "111/111 [==============================] - 44s 392ms/step - loss: 1.0244 - accuracy: 0.5441 - val_loss: 1.1500 - val_accuracy: 0.4823 - lr: 0.0010\n",
      "Epoch 4/50\n",
      "111/111 [==============================] - 44s 398ms/step - loss: 0.9810 - accuracy: 0.5741 - val_loss: 1.1561 - val_accuracy: 0.4752 - lr: 0.0010\n",
      "Epoch 5/50\n",
      "111/111 [==============================] - 44s 395ms/step - loss: 0.9061 - accuracy: 0.6264 - val_loss: 1.1031 - val_accuracy: 0.5489 - lr: 0.0010\n",
      "Epoch 6/50\n",
      "  5/111 [>.............................] - ETA: 37s - loss: 0.9063 - accuracy: 0.6313"
     ]
    },
    {
     "ename": "KeyboardInterrupt",
     "evalue": "",
     "output_type": "error",
     "traceback": [
      "\u001b[0;31m---------------------------------------------------------------------------\u001b[0m",
      "\u001b[0;31mKeyboardInterrupt\u001b[0m                         Traceback (most recent call last)",
      "Cell \u001b[0;32mIn[12], line 50\u001b[0m\n\u001b[1;32m     47\u001b[0m lr_callback \u001b[38;5;241m=\u001b[39m tf\u001b[38;5;241m.\u001b[39mkeras\u001b[38;5;241m.\u001b[39mcallbacks\u001b[38;5;241m.\u001b[39mReduceLROnPlateau(patience \u001b[38;5;241m=\u001b[39m \u001b[38;5;241m10\u001b[39m, factor \u001b[38;5;241m=\u001b[39m \u001b[38;5;241m0.5\u001b[39m)  \u001b[38;5;66;03m# reduces by a factor of 0.5 if validation loss doesn't improve for 10 epochs\u001b[39;00m\n\u001b[1;32m     49\u001b[0m \u001b[38;5;66;03m# Training and validating the model\u001b[39;00m\n\u001b[0;32m---> 50\u001b[0m model_results \u001b[38;5;241m=\u001b[39m \u001b[43mmodel\u001b[49m\u001b[38;5;241;43m.\u001b[39;49m\u001b[43mfit\u001b[49m\u001b[43m(\u001b[49m\u001b[43mx_train\u001b[49m\u001b[43m,\u001b[49m\n\u001b[1;32m     51\u001b[0m \u001b[43m             \u001b[49m\u001b[43my_train\u001b[49m\u001b[43m,\u001b[49m\n\u001b[1;32m     52\u001b[0m \u001b[43m             \u001b[49m\u001b[43mbatch_size\u001b[49m\u001b[38;5;241;43m=\u001b[39;49m\u001b[38;5;241;43m64\u001b[39;49m\u001b[43m,\u001b[49m\n\u001b[1;32m     53\u001b[0m \u001b[43m             \u001b[49m\u001b[43mepochs\u001b[49m\u001b[38;5;241;43m=\u001b[39;49m\u001b[43mepochs\u001b[49m\u001b[43m,\u001b[49m\n\u001b[1;32m     54\u001b[0m \u001b[43m             \u001b[49m\u001b[43mvalidation_data\u001b[49m\u001b[38;5;241;43m=\u001b[39;49m\u001b[43m(\u001b[49m\u001b[43mx_valid\u001b[49m\u001b[43m,\u001b[49m\u001b[43m \u001b[49m\u001b[43my_valid\u001b[49m\u001b[43m)\u001b[49m\u001b[43m,\u001b[49m\u001b[43m \u001b[49m\n\u001b[1;32m     55\u001b[0m \u001b[43m             \u001b[49m\u001b[43mcallbacks\u001b[49m\u001b[38;5;241;43m=\u001b[39;49m\u001b[43m[\u001b[49m\u001b[43mlr_callback\u001b[49m\u001b[43m]\u001b[49m\u001b[43m,\u001b[49m\n\u001b[1;32m     56\u001b[0m \u001b[43m             \u001b[49m\u001b[43mverbose\u001b[49m\u001b[38;5;241;43m=\u001b[39;49m\u001b[38;5;28;43;01mTrue\u001b[39;49;00m\u001b[43m)\u001b[49m\n\u001b[1;32m     58\u001b[0m \u001b[38;5;66;03m# Plotting accuracy trajectory\u001b[39;00m\n\u001b[1;32m     59\u001b[0m plt\u001b[38;5;241m.\u001b[39mplot(model_results\u001b[38;5;241m.\u001b[39mhistory[\u001b[38;5;124m'\u001b[39m\u001b[38;5;124maccuracy\u001b[39m\u001b[38;5;124m'\u001b[39m])\n",
      "File \u001b[0;32m/usr/local/lib/python3.10/dist-packages/keras/utils/traceback_utils.py:65\u001b[0m, in \u001b[0;36mfilter_traceback.<locals>.error_handler\u001b[0;34m(*args, **kwargs)\u001b[0m\n\u001b[1;32m     63\u001b[0m filtered_tb \u001b[38;5;241m=\u001b[39m \u001b[38;5;28;01mNone\u001b[39;00m\n\u001b[1;32m     64\u001b[0m \u001b[38;5;28;01mtry\u001b[39;00m:\n\u001b[0;32m---> 65\u001b[0m     \u001b[38;5;28;01mreturn\u001b[39;00m \u001b[43mfn\u001b[49m\u001b[43m(\u001b[49m\u001b[38;5;241;43m*\u001b[39;49m\u001b[43margs\u001b[49m\u001b[43m,\u001b[49m\u001b[43m \u001b[49m\u001b[38;5;241;43m*\u001b[39;49m\u001b[38;5;241;43m*\u001b[39;49m\u001b[43mkwargs\u001b[49m\u001b[43m)\u001b[49m\n\u001b[1;32m     66\u001b[0m \u001b[38;5;28;01mexcept\u001b[39;00m \u001b[38;5;167;01mException\u001b[39;00m \u001b[38;5;28;01mas\u001b[39;00m e:\n\u001b[1;32m     67\u001b[0m     filtered_tb \u001b[38;5;241m=\u001b[39m _process_traceback_frames(e\u001b[38;5;241m.\u001b[39m__traceback__)\n",
      "File \u001b[0;32m/usr/local/lib/python3.10/dist-packages/keras/engine/training.py:1650\u001b[0m, in \u001b[0;36mModel.fit\u001b[0;34m(self, x, y, batch_size, epochs, verbose, callbacks, validation_split, validation_data, shuffle, class_weight, sample_weight, initial_epoch, steps_per_epoch, validation_steps, validation_batch_size, validation_freq, max_queue_size, workers, use_multiprocessing)\u001b[0m\n\u001b[1;32m   1642\u001b[0m \u001b[38;5;28;01mwith\u001b[39;00m tf\u001b[38;5;241m.\u001b[39mprofiler\u001b[38;5;241m.\u001b[39mexperimental\u001b[38;5;241m.\u001b[39mTrace(\n\u001b[1;32m   1643\u001b[0m     \u001b[38;5;124m\"\u001b[39m\u001b[38;5;124mtrain\u001b[39m\u001b[38;5;124m\"\u001b[39m,\n\u001b[1;32m   1644\u001b[0m     epoch_num\u001b[38;5;241m=\u001b[39mepoch,\n\u001b[0;32m   (...)\u001b[0m\n\u001b[1;32m   1647\u001b[0m     _r\u001b[38;5;241m=\u001b[39m\u001b[38;5;241m1\u001b[39m,\n\u001b[1;32m   1648\u001b[0m ):\n\u001b[1;32m   1649\u001b[0m     callbacks\u001b[38;5;241m.\u001b[39mon_train_batch_begin(step)\n\u001b[0;32m-> 1650\u001b[0m     tmp_logs \u001b[38;5;241m=\u001b[39m \u001b[38;5;28;43mself\u001b[39;49m\u001b[38;5;241;43m.\u001b[39;49m\u001b[43mtrain_function\u001b[49m\u001b[43m(\u001b[49m\u001b[43miterator\u001b[49m\u001b[43m)\u001b[49m\n\u001b[1;32m   1651\u001b[0m     \u001b[38;5;28;01mif\u001b[39;00m data_handler\u001b[38;5;241m.\u001b[39mshould_sync:\n\u001b[1;32m   1652\u001b[0m         context\u001b[38;5;241m.\u001b[39masync_wait()\n",
      "File \u001b[0;32m/usr/local/lib/python3.10/dist-packages/tensorflow/python/util/traceback_utils.py:150\u001b[0m, in \u001b[0;36mfilter_traceback.<locals>.error_handler\u001b[0;34m(*args, **kwargs)\u001b[0m\n\u001b[1;32m    148\u001b[0m filtered_tb \u001b[38;5;241m=\u001b[39m \u001b[38;5;28;01mNone\u001b[39;00m\n\u001b[1;32m    149\u001b[0m \u001b[38;5;28;01mtry\u001b[39;00m:\n\u001b[0;32m--> 150\u001b[0m   \u001b[38;5;28;01mreturn\u001b[39;00m \u001b[43mfn\u001b[49m\u001b[43m(\u001b[49m\u001b[38;5;241;43m*\u001b[39;49m\u001b[43margs\u001b[49m\u001b[43m,\u001b[49m\u001b[43m \u001b[49m\u001b[38;5;241;43m*\u001b[39;49m\u001b[38;5;241;43m*\u001b[39;49m\u001b[43mkwargs\u001b[49m\u001b[43m)\u001b[49m\n\u001b[1;32m    151\u001b[0m \u001b[38;5;28;01mexcept\u001b[39;00m \u001b[38;5;167;01mException\u001b[39;00m \u001b[38;5;28;01mas\u001b[39;00m e:\n\u001b[1;32m    152\u001b[0m   filtered_tb \u001b[38;5;241m=\u001b[39m _process_traceback_frames(e\u001b[38;5;241m.\u001b[39m__traceback__)\n",
      "File \u001b[0;32m/usr/local/lib/python3.10/dist-packages/tensorflow/python/eager/polymorphic_function/polymorphic_function.py:880\u001b[0m, in \u001b[0;36mFunction.__call__\u001b[0;34m(self, *args, **kwds)\u001b[0m\n\u001b[1;32m    877\u001b[0m compiler \u001b[38;5;241m=\u001b[39m \u001b[38;5;124m\"\u001b[39m\u001b[38;5;124mxla\u001b[39m\u001b[38;5;124m\"\u001b[39m \u001b[38;5;28;01mif\u001b[39;00m \u001b[38;5;28mself\u001b[39m\u001b[38;5;241m.\u001b[39m_jit_compile \u001b[38;5;28;01melse\u001b[39;00m \u001b[38;5;124m\"\u001b[39m\u001b[38;5;124mnonXla\u001b[39m\u001b[38;5;124m\"\u001b[39m\n\u001b[1;32m    879\u001b[0m \u001b[38;5;28;01mwith\u001b[39;00m OptionalXlaContext(\u001b[38;5;28mself\u001b[39m\u001b[38;5;241m.\u001b[39m_jit_compile):\n\u001b[0;32m--> 880\u001b[0m   result \u001b[38;5;241m=\u001b[39m \u001b[38;5;28;43mself\u001b[39;49m\u001b[38;5;241;43m.\u001b[39;49m\u001b[43m_call\u001b[49m\u001b[43m(\u001b[49m\u001b[38;5;241;43m*\u001b[39;49m\u001b[43margs\u001b[49m\u001b[43m,\u001b[49m\u001b[43m \u001b[49m\u001b[38;5;241;43m*\u001b[39;49m\u001b[38;5;241;43m*\u001b[39;49m\u001b[43mkwds\u001b[49m\u001b[43m)\u001b[49m\n\u001b[1;32m    882\u001b[0m new_tracing_count \u001b[38;5;241m=\u001b[39m \u001b[38;5;28mself\u001b[39m\u001b[38;5;241m.\u001b[39mexperimental_get_tracing_count()\n\u001b[1;32m    883\u001b[0m without_tracing \u001b[38;5;241m=\u001b[39m (tracing_count \u001b[38;5;241m==\u001b[39m new_tracing_count)\n",
      "File \u001b[0;32m/usr/local/lib/python3.10/dist-packages/tensorflow/python/eager/polymorphic_function/polymorphic_function.py:912\u001b[0m, in \u001b[0;36mFunction._call\u001b[0;34m(self, *args, **kwds)\u001b[0m\n\u001b[1;32m    909\u001b[0m   \u001b[38;5;28mself\u001b[39m\u001b[38;5;241m.\u001b[39m_lock\u001b[38;5;241m.\u001b[39mrelease()\n\u001b[1;32m    910\u001b[0m   \u001b[38;5;66;03m# In this case we have created variables on the first call, so we run the\u001b[39;00m\n\u001b[1;32m    911\u001b[0m   \u001b[38;5;66;03m# defunned version which is guaranteed to never create variables.\u001b[39;00m\n\u001b[0;32m--> 912\u001b[0m   \u001b[38;5;28;01mreturn\u001b[39;00m \u001b[38;5;28;43mself\u001b[39;49m\u001b[38;5;241;43m.\u001b[39;49m\u001b[43m_no_variable_creation_fn\u001b[49m\u001b[43m(\u001b[49m\u001b[38;5;241;43m*\u001b[39;49m\u001b[43margs\u001b[49m\u001b[43m,\u001b[49m\u001b[43m \u001b[49m\u001b[38;5;241;43m*\u001b[39;49m\u001b[38;5;241;43m*\u001b[39;49m\u001b[43mkwds\u001b[49m\u001b[43m)\u001b[49m  \u001b[38;5;66;03m# pylint: disable=not-callable\u001b[39;00m\n\u001b[1;32m    913\u001b[0m \u001b[38;5;28;01melif\u001b[39;00m \u001b[38;5;28mself\u001b[39m\u001b[38;5;241m.\u001b[39m_variable_creation_fn \u001b[38;5;129;01mis\u001b[39;00m \u001b[38;5;129;01mnot\u001b[39;00m \u001b[38;5;28;01mNone\u001b[39;00m:\n\u001b[1;32m    914\u001b[0m   \u001b[38;5;66;03m# Release the lock early so that multiple threads can perform the call\u001b[39;00m\n\u001b[1;32m    915\u001b[0m   \u001b[38;5;66;03m# in parallel.\u001b[39;00m\n\u001b[1;32m    916\u001b[0m   \u001b[38;5;28mself\u001b[39m\u001b[38;5;241m.\u001b[39m_lock\u001b[38;5;241m.\u001b[39mrelease()\n",
      "File \u001b[0;32m/usr/local/lib/python3.10/dist-packages/tensorflow/python/eager/polymorphic_function/tracing_compiler.py:134\u001b[0m, in \u001b[0;36mTracingCompiler.__call__\u001b[0;34m(self, *args, **kwargs)\u001b[0m\n\u001b[1;32m    131\u001b[0m \u001b[38;5;28;01mwith\u001b[39;00m \u001b[38;5;28mself\u001b[39m\u001b[38;5;241m.\u001b[39m_lock:\n\u001b[1;32m    132\u001b[0m   (concrete_function,\n\u001b[1;32m    133\u001b[0m    filtered_flat_args) \u001b[38;5;241m=\u001b[39m \u001b[38;5;28mself\u001b[39m\u001b[38;5;241m.\u001b[39m_maybe_define_function(args, kwargs)\n\u001b[0;32m--> 134\u001b[0m \u001b[38;5;28;01mreturn\u001b[39;00m \u001b[43mconcrete_function\u001b[49m\u001b[38;5;241;43m.\u001b[39;49m\u001b[43m_call_flat\u001b[49m\u001b[43m(\u001b[49m\n\u001b[1;32m    135\u001b[0m \u001b[43m    \u001b[49m\u001b[43mfiltered_flat_args\u001b[49m\u001b[43m,\u001b[49m\u001b[43m \u001b[49m\u001b[43mcaptured_inputs\u001b[49m\u001b[38;5;241;43m=\u001b[39;49m\u001b[43mconcrete_function\u001b[49m\u001b[38;5;241;43m.\u001b[39;49m\u001b[43mcaptured_inputs\u001b[49m\u001b[43m)\u001b[49m\n",
      "File \u001b[0;32m/usr/local/lib/python3.10/dist-packages/tensorflow/python/eager/polymorphic_function/monomorphic_function.py:1745\u001b[0m, in \u001b[0;36mConcreteFunction._call_flat\u001b[0;34m(self, args, captured_inputs, cancellation_manager)\u001b[0m\n\u001b[1;32m   1741\u001b[0m possible_gradient_type \u001b[38;5;241m=\u001b[39m gradients_util\u001b[38;5;241m.\u001b[39mPossibleTapeGradientTypes(args)\n\u001b[1;32m   1742\u001b[0m \u001b[38;5;28;01mif\u001b[39;00m (possible_gradient_type \u001b[38;5;241m==\u001b[39m gradients_util\u001b[38;5;241m.\u001b[39mPOSSIBLE_GRADIENT_TYPES_NONE\n\u001b[1;32m   1743\u001b[0m     \u001b[38;5;129;01mand\u001b[39;00m executing_eagerly):\n\u001b[1;32m   1744\u001b[0m   \u001b[38;5;66;03m# No tape is watching; skip to running the function.\u001b[39;00m\n\u001b[0;32m-> 1745\u001b[0m   \u001b[38;5;28;01mreturn\u001b[39;00m \u001b[38;5;28mself\u001b[39m\u001b[38;5;241m.\u001b[39m_build_call_outputs(\u001b[38;5;28;43mself\u001b[39;49m\u001b[38;5;241;43m.\u001b[39;49m\u001b[43m_inference_function\u001b[49m\u001b[38;5;241;43m.\u001b[39;49m\u001b[43mcall\u001b[49m\u001b[43m(\u001b[49m\n\u001b[1;32m   1746\u001b[0m \u001b[43m      \u001b[49m\u001b[43mctx\u001b[49m\u001b[43m,\u001b[49m\u001b[43m \u001b[49m\u001b[43margs\u001b[49m\u001b[43m,\u001b[49m\u001b[43m \u001b[49m\u001b[43mcancellation_manager\u001b[49m\u001b[38;5;241;43m=\u001b[39;49m\u001b[43mcancellation_manager\u001b[49m\u001b[43m)\u001b[49m)\n\u001b[1;32m   1747\u001b[0m forward_backward \u001b[38;5;241m=\u001b[39m \u001b[38;5;28mself\u001b[39m\u001b[38;5;241m.\u001b[39m_select_forward_and_backward_functions(\n\u001b[1;32m   1748\u001b[0m     args,\n\u001b[1;32m   1749\u001b[0m     possible_gradient_type,\n\u001b[1;32m   1750\u001b[0m     executing_eagerly)\n\u001b[1;32m   1751\u001b[0m forward_function, args_with_tangents \u001b[38;5;241m=\u001b[39m forward_backward\u001b[38;5;241m.\u001b[39mforward()\n",
      "File \u001b[0;32m/usr/local/lib/python3.10/dist-packages/tensorflow/python/eager/polymorphic_function/monomorphic_function.py:378\u001b[0m, in \u001b[0;36m_EagerDefinedFunction.call\u001b[0;34m(self, ctx, args, cancellation_manager)\u001b[0m\n\u001b[1;32m    376\u001b[0m \u001b[38;5;28;01mwith\u001b[39;00m _InterpolateFunctionError(\u001b[38;5;28mself\u001b[39m):\n\u001b[1;32m    377\u001b[0m   \u001b[38;5;28;01mif\u001b[39;00m cancellation_manager \u001b[38;5;129;01mis\u001b[39;00m \u001b[38;5;28;01mNone\u001b[39;00m:\n\u001b[0;32m--> 378\u001b[0m     outputs \u001b[38;5;241m=\u001b[39m \u001b[43mexecute\u001b[49m\u001b[38;5;241;43m.\u001b[39;49m\u001b[43mexecute\u001b[49m\u001b[43m(\u001b[49m\n\u001b[1;32m    379\u001b[0m \u001b[43m        \u001b[49m\u001b[38;5;28;43mstr\u001b[39;49m\u001b[43m(\u001b[49m\u001b[38;5;28;43mself\u001b[39;49m\u001b[38;5;241;43m.\u001b[39;49m\u001b[43msignature\u001b[49m\u001b[38;5;241;43m.\u001b[39;49m\u001b[43mname\u001b[49m\u001b[43m)\u001b[49m\u001b[43m,\u001b[49m\n\u001b[1;32m    380\u001b[0m \u001b[43m        \u001b[49m\u001b[43mnum_outputs\u001b[49m\u001b[38;5;241;43m=\u001b[39;49m\u001b[38;5;28;43mself\u001b[39;49m\u001b[38;5;241;43m.\u001b[39;49m\u001b[43m_num_outputs\u001b[49m\u001b[43m,\u001b[49m\n\u001b[1;32m    381\u001b[0m \u001b[43m        \u001b[49m\u001b[43minputs\u001b[49m\u001b[38;5;241;43m=\u001b[39;49m\u001b[43margs\u001b[49m\u001b[43m,\u001b[49m\n\u001b[1;32m    382\u001b[0m \u001b[43m        \u001b[49m\u001b[43mattrs\u001b[49m\u001b[38;5;241;43m=\u001b[39;49m\u001b[43mattrs\u001b[49m\u001b[43m,\u001b[49m\n\u001b[1;32m    383\u001b[0m \u001b[43m        \u001b[49m\u001b[43mctx\u001b[49m\u001b[38;5;241;43m=\u001b[39;49m\u001b[43mctx\u001b[49m\u001b[43m)\u001b[49m\n\u001b[1;32m    384\u001b[0m   \u001b[38;5;28;01melse\u001b[39;00m:\n\u001b[1;32m    385\u001b[0m     outputs \u001b[38;5;241m=\u001b[39m execute\u001b[38;5;241m.\u001b[39mexecute_with_cancellation(\n\u001b[1;32m    386\u001b[0m         \u001b[38;5;28mstr\u001b[39m(\u001b[38;5;28mself\u001b[39m\u001b[38;5;241m.\u001b[39msignature\u001b[38;5;241m.\u001b[39mname),\n\u001b[1;32m    387\u001b[0m         num_outputs\u001b[38;5;241m=\u001b[39m\u001b[38;5;28mself\u001b[39m\u001b[38;5;241m.\u001b[39m_num_outputs,\n\u001b[0;32m   (...)\u001b[0m\n\u001b[1;32m    390\u001b[0m         ctx\u001b[38;5;241m=\u001b[39mctx,\n\u001b[1;32m    391\u001b[0m         cancellation_manager\u001b[38;5;241m=\u001b[39mcancellation_manager)\n",
      "File \u001b[0;32m/usr/local/lib/python3.10/dist-packages/tensorflow/python/eager/execute.py:52\u001b[0m, in \u001b[0;36mquick_execute\u001b[0;34m(op_name, num_outputs, inputs, attrs, ctx, name)\u001b[0m\n\u001b[1;32m     50\u001b[0m \u001b[38;5;28;01mtry\u001b[39;00m:\n\u001b[1;32m     51\u001b[0m   ctx\u001b[38;5;241m.\u001b[39mensure_initialized()\n\u001b[0;32m---> 52\u001b[0m   tensors \u001b[38;5;241m=\u001b[39m \u001b[43mpywrap_tfe\u001b[49m\u001b[38;5;241;43m.\u001b[39;49m\u001b[43mTFE_Py_Execute\u001b[49m\u001b[43m(\u001b[49m\u001b[43mctx\u001b[49m\u001b[38;5;241;43m.\u001b[39;49m\u001b[43m_handle\u001b[49m\u001b[43m,\u001b[49m\u001b[43m \u001b[49m\u001b[43mdevice_name\u001b[49m\u001b[43m,\u001b[49m\u001b[43m \u001b[49m\u001b[43mop_name\u001b[49m\u001b[43m,\u001b[49m\n\u001b[1;32m     53\u001b[0m \u001b[43m                                      \u001b[49m\u001b[43minputs\u001b[49m\u001b[43m,\u001b[49m\u001b[43m \u001b[49m\u001b[43mattrs\u001b[49m\u001b[43m,\u001b[49m\u001b[43m \u001b[49m\u001b[43mnum_outputs\u001b[49m\u001b[43m)\u001b[49m\n\u001b[1;32m     54\u001b[0m \u001b[38;5;28;01mexcept\u001b[39;00m core\u001b[38;5;241m.\u001b[39m_NotOkStatusException \u001b[38;5;28;01mas\u001b[39;00m e:\n\u001b[1;32m     55\u001b[0m   \u001b[38;5;28;01mif\u001b[39;00m name \u001b[38;5;129;01mis\u001b[39;00m \u001b[38;5;129;01mnot\u001b[39;00m \u001b[38;5;28;01mNone\u001b[39;00m:\n",
      "\u001b[0;31mKeyboardInterrupt\u001b[0m: "
     ]
    }
   ],
   "source": [
    "## Preprocess the entire dataset \n",
    "y_train, y_valid, y_test, x_train, x_valid, x_test = preprocessing(X_train_valid, Y_train_valid, X_test, Y_test)\n",
    "\n",
    "# Building the CNN model using sequential class\n",
    "model = Sequential()\n",
    "\n",
    "# Conv. block 1\n",
    "model.add(Conv2D(filters=25, kernel_size=(10,1), padding='same', activation='elu', input_shape=(250,1,22)))\n",
    "model.add(MaxPooling2D(pool_size=(3,1), padding='same')) # Read the keras documentation\n",
    "model.add(BatchNormalization())\n",
    "model.add(Dropout(0.5))\n",
    "\n",
    "# Conv. block 2\n",
    "model.add(Conv2D(filters=50, kernel_size=(10,1), padding='same', activation='elu'))\n",
    "model.add(MaxPooling2D(pool_size=(3,1), padding='same'))\n",
    "model.add(BatchNormalization())\n",
    "model.add(Dropout(0.5))\n",
    "\n",
    "# Stacked GRUs \n",
    "model.add(Flatten()) \n",
    "model.add(Dense(100))\n",
    "model.add(Reshape((100,1)))\n",
    "model.add(GRU(64, return_sequences=True, recurrent_dropout=0.1, input_shape=(100,1))) \n",
    "model.add(Dropout(0.2))\n",
    "model.add(GRU(32, return_sequences=True, recurrent_dropout=0.1)) \n",
    "model.add(Dropout(0.2))\n",
    "model.add(GRU(10))\n",
    "\n",
    "# Output Layer with Softmax Activation\n",
    "model.add(Dense(4, activation='softmax')) # Output FC layer with softmax activation\n",
    "\n",
    "model.summary()\n",
    "\n",
    "lr = 1e-3\n",
    "epochs = 50\n",
    "model_optimizer = keras.optimizers.Adam(learning_rate=lr)\n",
    "\n",
    "# Compiling the model\n",
    "model.compile(loss='categorical_crossentropy',\n",
    "                 optimizer=model_optimizer,\n",
    "                 metrics=['accuracy'])\n",
    "\n",
    "# Use checkpoints to save best validation accuracy model \n",
    "#checkpoint_filepath = r\"C:\\Users\\zacha\\OneDrive - UCLA IT Services\\Documents\\ZW - Academic\\UCLA\\UCLA MAE GRAD CLASSES\\ECE C247 - Deep Learning\\Final_Project\\project\\tmp\\checkpoint\"\n",
    "#model_checkpoint_callback = tf.keras.callbacks.ModelCheckpoint(filepath=checkpoint_filepath, save_weights_only=True, monitor='val_accuracy', mode='max', save_best_only=True)\n",
    "\n",
    "lr_callback = tf.keras.callbacks.ReduceLROnPlateau(patience = 10, factor = 0.5)  # reduces by a factor of 0.5 if validation loss doesn't improve for 10 epochs\n",
    "\n",
    "# Training and validating the model\n",
    "model_results = model.fit(x_train,\n",
    "             y_train,\n",
    "             batch_size=64,\n",
    "             epochs=epochs,\n",
    "             validation_data=(x_valid, y_valid), \n",
    "             callbacks=[lr_callback],\n",
    "             verbose=True)\n",
    "\n",
    "# Plotting accuracy trajectory\n",
    "plt.plot(model_results.history['accuracy'])\n",
    "plt.plot(model_results.history['val_accuracy'])\n",
    "plt.title('Model accuracy trajectory')\n",
    "plt.ylabel('accuracy')\n",
    "plt.xlabel('epoch')\n",
    "plt.legend(['train', 'val'], loc='upper left')\n",
    "plt.show()\n",
    "\n",
    "# Plotting loss trajectory\n",
    "plt.plot(model_results.history['loss'],'o')\n",
    "plt.plot(model_results.history['val_loss'],'o')\n",
    "plt.title('Model loss trajectory')\n",
    "plt.ylabel('loss')\n",
    "plt.xlabel('epoch')\n",
    "plt.legend(['train', 'val'], loc='upper left')\n",
    "plt.show()\n",
    "\n",
    "# Testing model \n",
    "model_score = model.evaluate(x_test, y_test, verbose=0)\n",
    "print('Test accuracy of the hybrid CNN-LSTM model:',model_score[1])"
   ]
  },
  {
   "cell_type": "markdown",
   "metadata": {
    "lc_cell_meme": {
     "current": "58475e65-c5a1-11ed-bb18-c0335e65711e-1-a772",
     "history": [
      {
       "current": "58475e65-c5a1-11ed-bb18-c0335e65711e",
       "next": "58475e66-c5a1-11ed-8432-c0335e65711e",
       "previous": "e9d33420-c59f-11ed-a137-c0335e65711e"
      },
      {
       "current": "58475e65-c5a1-11ed-bb18-c0335e65711e",
       "next": "4916f584-c5aa-11ed-8b3a-c0335e65711e",
       "previous": "e9d33420-c59f-11ed-a137-c0335e65711e"
      },
      {
       "current": "58475e65-c5a1-11ed-bb18-c0335e65711e",
       "next": "4916f584-c5aa-11ed-8b3a-c0335e65711e-1-f1ec",
       "previous": "e9d33420-c59f-11ed-a137-c0335e65711e"
      },
      {
       "current": "58475e65-c5a1-11ed-bb18-c0335e65711e",
       "next": "eb6cde56-c5c5-11ed-837d-c0335e65711e",
       "previous": "e9d33420-c59f-11ed-a137-c0335e65711e"
      },
      {
       "current": "58475e65-c5a1-11ed-bb18-c0335e65711e-1-a772",
       "next": "58475e66-c5a1-11ed-8432-c0335e65711e",
       "previous": "e9d33420-c59f-11ed-a137-c0335e65711e"
      }
     ],
     "next": "58475e66-c5a1-11ed-8432-c0335e65711e-1-ecf5",
     "previous": "e9d33420-c59f-11ed-a137-c0335e65711e-1-5eb8"
    }
   },
   "source": [
    "## Loop for Building and Running Models "
   ]
  },
  {
   "cell_type": "code",
   "execution_count": null,
   "metadata": {
    "lc_cell_meme": {
     "current": "58475e66-c5a1-11ed-8432-c0335e65711e-1-ecf5",
     "execution_end_time": "2023-03-18T19:47:43.862353Z",
     "history": [
      {
       "current": "58475e66-c5a1-11ed-8432-c0335e65711e",
       "next": null,
       "previous": "58475e65-c5a1-11ed-bb18-c0335e65711e"
      },
      {
       "current": "58475e66-c5a1-11ed-8432-c0335e65711e",
       "next": null,
       "previous": "4916f584-c5aa-11ed-8b3a-c0335e65711e"
      },
      {
       "current": "58475e66-c5a1-11ed-8432-c0335e65711e",
       "next": "a3c6a874-c5ad-11ed-8727-c0335e65711e",
       "previous": "4916f584-c5aa-11ed-8b3a-c0335e65711e"
      },
      {
       "current": "58475e66-c5a1-11ed-8432-c0335e65711e",
       "next": "a3c6a874-c5ad-11ed-8727-c0335e65711e-1-92bf",
       "previous": "4916f584-c5aa-11ed-8b3a-c0335e65711e"
      },
      {
       "current": "58475e66-c5a1-11ed-8432-c0335e65711e",
       "next": "a3c6a874-c5ad-11ed-8727-c0335e65711e-1-92bf",
       "previous": "4916f584-c5aa-11ed-8b3a-c0335e65711e-1-f1ec"
      },
      {
       "current": "58475e66-c5a1-11ed-8432-c0335e65711e-1-ecf5",
       "next": "a99f83b8-c5c7-11ed-92b1-c0335e65711e",
       "previous": "58475e65-c5a1-11ed-bb18-c0335e65711e"
      }
     ],
     "next": "a99f83b8-c5c7-11ed-92b1-c0335e65711e-1-2783",
     "previous": "58475e65-c5a1-11ed-bb18-c0335e65711e-1-a772"
    }
   },
   "outputs": [],
   "source": [
    "def NN_model(num, Xtv, Ytv, Xt, Yt, lr=1e-3, epochs=50, batch=64, dropout=0.2):\n",
    "    ## Preprocess the dataset \n",
    "    y_train, y_valid, y_test, x_train, x_valid, x_test = preprocessing(Xtv, Ytv, Xt, Yt)\n",
    "    \n",
    "    ## Build the Model \n",
    "    model = Sequential() \n",
    "    \n",
    "    #Insert Model HERE \n",
    "    # Conv. block 1\n",
    "    model.add(Conv2D(filters=25, kernel_size=(10,1), padding='same', activation='elu', input_shape=(250,1,22)))\n",
    "    model.add(MaxPooling2D(pool_size=(3,1), padding='same')) # Read the keras documentation\n",
    "    model.add(BatchNormalization())\n",
    "    model.add(Dropout(0.5))\n",
    "    \n",
    "    # Conv. block 2\n",
    "    model.add(Conv2D(filters=50, kernel_size=(10,1), padding='same', activation='elu'))\n",
    "    model.add(MaxPooling2D(pool_size=(3,1), padding='same'))\n",
    "    model.add(BatchNormalization())\n",
    "    model.add(Dropout(0.5))\n",
    "    \n",
    "    # Stacked GRUs \n",
    "    model.add(Flatten()) \n",
    "    model.add(Dense(100))\n",
    "    model.add(Reshape((100,1)))\n",
    "    model.add(GRU(64, return_sequences=True, recurrent_dropout=0.1, input_shape=(100,1))) \n",
    "    model.add(Dropout(dropout))\n",
    "    model.add(GRU(32, return_sequences=True, recurrent_dropout=0.1)) \n",
    "    model.add(Dropout(dropout))\n",
    "    model.add(GRU(10))\n",
    "    \n",
    "    # Output Layer with Softmax Activation\n",
    "    model.add(Dense(4, activation='softmax')) # Output FC layer with softmax activation\n",
    "    \n",
    "    model.summary() \n",
    "    \n",
    "    ## Specify Model Parameters \n",
    "    model_optimizer = keras.optimizers.Adam(learning_rate = lr) \n",
    "    \n",
    "    ## Compiling, Training, and Validating the Model \n",
    "    model.compile(loss='categorical_crossentropy', optimizer=model_optimizer, metrics=['accuracy'])\n",
    "    \n",
    "    checkpoint_filepath = r'C:\\Users\\zacha\\OneDrive - UCLA IT Services\\Documents\\ZW - Academic\\UCLA\\UCLA MAE GRAD CLASSES\\ECE C247 - Deep Learning\\Final_Project\\project\\tmp\\checkpoint{0}'.format(num)\n",
    "    valacc_callback = tf.keras.callbacks.ModelCheckpoint(filepath=checkpoint_filepath, save_weights_only=True, monitor='val_accuracy', mode='max', save_best_only=True)\n",
    "    lr_callback = tf.keras.callbacks.ReduceLROnPlateau(patience = 10, factor = 0.5)  # reduces by a factor of 0.5 if validation loss doesn't improve for 10 epochs\n",
    "    model_results = model.fit(x_train, y_train,\n",
    "                    batch_size=batch,  #Default is 64\n",
    "                    epochs=epochs,\n",
    "                    validation_data=(x_valid, y_valid), \n",
    "                    callbacks=[valacc_callback, lr_callback], verbose=True)\n",
    "    \n",
    "    ## Visualizing the Accuracy and Loss Trajectory \n",
    "    # Plotting accuracy trajectory\n",
    "    plt.plot(model_results.history['accuracy'])\n",
    "    plt.plot(model_results.history['val_accuracy'])\n",
    "    plt.title('Model accuracy trajectory')\n",
    "    plt.ylabel('accuracy')\n",
    "    plt.xlabel('epoch')\n",
    "    plt.legend(['train', 'val'], loc='upper left')\n",
    "    plt.show()\n",
    "    \n",
    "    # Plotting loss trajectory\n",
    "    plt.plot(model_results.history['loss'],'o')\n",
    "    plt.plot(model_results.history['val_loss'],'o')\n",
    "    plt.title('Hybrid CNN-LSTM model loss trajectory')\n",
    "    plt.ylabel('loss')\n",
    "    plt.xlabel('epoch')\n",
    "    plt.legend(['train', 'val'], loc='upper left')\n",
    "    plt.show()\n",
    "    \n",
    "    ## Testing Performance of the Model \n",
    "    model_score = model.evaluate(x_test, y_test, verbose=0)\n",
    "    print('Test accuracy of the hybrid CNN-LSTM model:',model_score[1])\n",
    "    \n",
    "    # Load best validation accuracy weights \n",
    "    model.load_weights(checkpoint_filepath)\n",
    "    \n",
    "    model_score = model.evaluate(x_test, y_test, verbose=0)\n",
    "    print('Test accuracy of the hybrid CNN-LSTM model:',model_score[1])"
   ]
  },
  {
   "cell_type": "code",
   "execution_count": null,
   "metadata": {
    "code_folding": [],
    "lc_cell_meme": {
     "current": "a99f83b8-c5c7-11ed-92b1-c0335e65711e-1-2783",
     "history": [
      {
       "current": "a99f83b8-c5c7-11ed-92b1-c0335e65711e-1-2783",
       "next": "a3c6a874-c5ad-11ed-8727-c0335e65711e-1-92bf",
       "previous": "58475e66-c5a1-11ed-8432-c0335e65711e"
      }
     ],
     "next": "a3c6a874-c5ad-11ed-8727-c0335e65711e-2-92bf-d3c1",
     "previous": "58475e66-c5a1-11ed-8432-c0335e65711e-1-ecf5"
    }
   },
   "outputs": [],
   "source": [
    "num = 0 \n",
    "\n",
    "batch = [32,64,128]  #256, 512\n",
    "dropout = [0.1, 0.3, 0.6] \n",
    "\n",
    "for b in batch:\n",
    "    for d in dropout: \n",
    "        NN_model(num, X_train_valid, Y_train_valid, X_test, Y_test, batch=b, dropout=d)\n",
    "        num += 1 "
   ]
  },
  {
   "cell_type": "markdown",
   "metadata": {
    "lc_cell_meme": {
     "current": "a3c6a874-c5ad-11ed-8727-c0335e65711e-2-92bf-d3c1",
     "history": [
      {
       "current": "a3c6a874-c5ad-11ed-8727-c0335e65711e-1-92bf",
       "next": null,
       "previous": "58475e66-c5a1-11ed-8432-c0335e65711e"
      },
      {
       "current": "a3c6a874-c5ad-11ed-8727-c0335e65711e-1-92bf",
       "next": null,
       "previous": "58475e66-c5a1-11ed-8432-c0335e65711e"
      },
      {
       "current": "a3c6a874-c5ad-11ed-8727-c0335e65711e-2-92bf-d3c1",
       "next": null,
       "previous": "a99f83b8-c5c7-11ed-92b1-c0335e65711e"
      }
     ],
     "next": null,
     "previous": "a99f83b8-c5c7-11ed-92b1-c0335e65711e-1-2783"
    }
   },
   "source": [
    "|Model#|Batch|Dropout|Epochs|LR|ValAcc|TestAcc| \n",
    "|------|-----|-------|------|--|------|-------|\n",
    "|0|32 |0.1|50|1e-3|\n",
    "|1|32 |0.3|50|1e-3|\n",
    "|2|32 |0.6|50|1e-3|\n",
    "|3|64 |0.1|50|1e-3|\n",
    "|4|64 |0.3|50|1e-3|\n",
    "|5|64 |0.6|50|1e-3|\n",
    "|6|128|0.1|50|1e-3|\n",
    "|7|128|0.3|50|1e-3|\n",
    "|8|128|0.6|50|1e-3|"
   ]
  }
 ],
 "metadata": {
  "kernelspec": {
   "display_name": "Python 3",
   "language": "python",
   "name": "python3"
  },
  "language_info": {
   "codemirror_mode": {
    "name": "ipython",
    "version": 3
   },
   "file_extension": ".py",
   "mimetype": "text/x-python",
   "name": "python",
   "nbconvert_exporter": "python",
   "pygments_lexer": "ipython3",
   "version": "3.8.5"
  },
  "lc_notebook_meme": {
   "current": "568d6af0-c29c-11ed-ae6a-c0335e65711e",
   "lc_server_signature": {
    "current": {
     "notebook_dir": "C:\\Users\\zacha",
     "notebook_path": "/OneDrive - UCLA IT Services/Documents/ZW - Academic/UCLA/UCLA MAE GRAD CLASSES/ECE C247 - Deep Learning/Final_Project",
     "server_url": "http://localhost:8888/",
     "signature_id": "bb4c616e-a571-11eb-ac70-c0335e65711e"
    },
    "history": [
     {
      "notebook_dir": "C:\\Users\\zacha",
      "notebook_path": "/OneDrive - UCLA IT Services/Documents/ZW - Academic/UCLA/UCLA MAE GRAD CLASSES/ECE C247 - Deep Learning/Final_Project/project",
      "server_url": "http://localhost:8888/",
      "signature_id": "bb4c616e-a571-11eb-ac70-c0335e65711e"
     }
    ]
   }
  }
 },
 "nbformat": 4,
 "nbformat_minor": 2
}
