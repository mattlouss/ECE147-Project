{
 "cells": [
  {
   "cell_type": "markdown",
   "metadata": {},
   "source": [
    "## In this discussion, we will build a basic hybrid CNN-LSTM model for classification on the EEG dataset"
   ]
  },
  {
   "cell_type": "markdown",
   "metadata": {},
   "source": [
    "#### This notebook has been created by Tonmoy."
   ]
  },
  {
   "cell_type": "markdown",
   "metadata": {},
   "source": [
    "## (i) Importing the necessary packages"
   ]
  },
  {
   "cell_type": "code",
   "execution_count": 1,
   "metadata": {},
   "outputs": [
    {
     "name": "stderr",
     "output_type": "stream",
     "text": [
      "2023-03-11 18:07:59.033585: I tensorflow/core/platform/cpu_feature_guard.cc:193] This TensorFlow binary is optimized with oneAPI Deep Neural Network Library (oneDNN) to use the following CPU instructions in performance-critical operations:  AVX2 FMA\n",
      "To enable them in other operations, rebuild TensorFlow with the appropriate compiler flags.\n"
     ]
    }
   ],
   "source": [
    "import numpy as np\n",
    "import pandas as pd\n",
    "import keras\n",
    "from keras.models import Sequential\n",
    "from keras.layers import Dense, Activation, Flatten,Dropout\n",
    "from keras.layers import Conv2D,LSTM,BatchNormalization,MaxPooling2D,Reshape\n",
    "from keras.utils import to_categorical\n",
    "import matplotlib.pyplot as plt"
   ]
  },
  {
   "cell_type": "markdown",
   "metadata": {},
   "source": [
    "## (ii) Preprocessing the dataset and preparing the training, validation, and test datasets"
   ]
  },
  {
   "cell_type": "code",
   "execution_count": 2,
   "metadata": {},
   "outputs": [],
   "source": [
    "def data_prep(X,y,sub_sample,average,noise):\n",
    "    \n",
    "    total_X = None\n",
    "    total_y = None\n",
    "    \n",
    "    # Trimming the data (sample,22,1000) -> (sample,22,500)\n",
    "    X = X[:,:,0:500]\n",
    "    print('Shape of X after trimming:',X.shape)\n",
    "    \n",
    "    # Maxpooling the data (sample,22,1000) -> (sample,22,500/sub_sample)\n",
    "    X_max = np.max(X.reshape(X.shape[0], X.shape[1], -1, sub_sample), axis=3)\n",
    "    \n",
    "    \n",
    "    total_X = X_max\n",
    "    total_y = y\n",
    "    print('Shape of X after maxpooling:',total_X.shape)\n",
    "    \n",
    "    # Averaging + noise \n",
    "    X_average = np.mean(X.reshape(X.shape[0], X.shape[1], -1, average),axis=3)\n",
    "    X_average = X_average + np.random.normal(0.0, 0.5, X_average.shape)\n",
    "    \n",
    "    total_X = np.vstack((total_X, X_average))\n",
    "    total_y = np.hstack((total_y, y))\n",
    "    print('Shape of X after averaging+noise and concatenating:',total_X.shape)\n",
    "    \n",
    "    # Subsampling\n",
    "    \n",
    "    for i in range(sub_sample):\n",
    "        \n",
    "        X_subsample = X[:, :, i::sub_sample] + \\\n",
    "                            (np.random.normal(0.0, 0.5, X[:, :,i::sub_sample].shape) if noise else 0.0)\n",
    "            \n",
    "        total_X = np.vstack((total_X, X_subsample))\n",
    "        total_y = np.hstack((total_y, y))\n",
    "        \n",
    "    \n",
    "    print('Shape of X after subsampling and concatenating:',total_X.shape)\n",
    "    return total_X,total_y\n",
    "\n"
   ]
  },
  {
   "cell_type": "code",
   "execution_count": 3,
   "metadata": {},
   "outputs": [
    {
     "name": "stdout",
     "output_type": "stream",
     "text": [
      "Shape of X after trimming: (1740, 22, 500)\n",
      "Shape of X after maxpooling: (1740, 22, 250)\n",
      "Shape of X after averaging+noise and concatenating: (3480, 22, 250)\n",
      "Shape of X after subsampling and concatenating: (6960, 22, 250)\n",
      "Shape of X after trimming: (375, 22, 500)\n",
      "Shape of X after maxpooling: (375, 22, 250)\n",
      "Shape of X after averaging+noise and concatenating: (750, 22, 250)\n",
      "Shape of X after subsampling and concatenating: (1500, 22, 250)\n",
      "Shape of X after trimming: (443, 22, 500)\n",
      "Shape of X after maxpooling: (443, 22, 250)\n",
      "Shape of X after averaging+noise and concatenating: (886, 22, 250)\n",
      "Shape of X after subsampling and concatenating: (1772, 22, 250)\n",
      "Shape of training set: (6960, 22, 250)\n",
      "Shape of validation set: (1500, 22, 250)\n",
      "Shape of training labels: (6960,)\n",
      "Shape of validation labels: (1500,)\n",
      "Shape of testing set: (1772, 22, 250)\n",
      "Shape of testing labels: (1772,)\n",
      "Shape of training labels after categorical conversion: (6960, 4)\n",
      "Shape of validation labels after categorical conversion: (1500, 4)\n",
      "Shape of test labels after categorical conversion: (1772, 4)\n",
      "Shape of training set after adding width info: (6960, 22, 250, 1)\n",
      "Shape of validation set after adding width info: (1500, 22, 250, 1)\n",
      "Shape of test set after adding width info: (1772, 22, 250, 1)\n",
      "Shape of training set after dimension reshaping: (6960, 250, 1, 22)\n",
      "Shape of validation set after dimension reshaping: (1500, 250, 1, 22)\n",
      "Shape of test set after dimension reshaping: (1772, 250, 1, 22)\n"
     ]
    }
   ],
   "source": [
    "## Loading the dataset\n",
    "\n",
    "\n",
    "X_test = np.load(\"X_test.npy\")\n",
    "y_test = np.load(\"y_test.npy\")\n",
    "person_train_valid = np.load(\"person_train_valid.npy\")\n",
    "X_train_valid = np.load(\"X_train_valid.npy\")\n",
    "y_train_valid = np.load(\"y_train_valid.npy\")\n",
    "person_test = np.load(\"person_test.npy\")\n",
    "\n",
    "## Adjusting the labels so that \n",
    "\n",
    "# Cue onset left - 0\n",
    "# Cue onset right - 1\n",
    "# Cue onset foot - 2\n",
    "# Cue onset tongue - 3\n",
    "\n",
    "y_train_valid -= 769\n",
    "y_test -= 769\n",
    "\n",
    "\n",
    "## Random splitting and reshaping the data\n",
    "# First generating the training and validation indices using random splitting\n",
    "\n",
    "ind_valid = np.random.choice(2115, 375, replace=False)\n",
    "ind_train = np.array(list(set(range(2115)).difference(set(ind_valid))))\n",
    "\n",
    "# Creating the training and validation sets using the generated indices\n",
    "(X_train, X_valid) = X_train_valid[ind_train], X_train_valid[ind_valid] \n",
    "(y_train, y_valid) = y_train_valid[ind_train], y_train_valid[ind_valid]\n",
    "\n",
    "\n",
    "## Preprocessing the dataset\n",
    "x_train,y_train = data_prep(X_train,y_train,2,2,True)\n",
    "x_valid,y_valid = data_prep(X_valid,y_valid,2,2,True)\n",
    "X_test_prep,y_test_prep = data_prep(X_test,y_test,2,2,True)\n",
    "\n",
    "\n",
    "print('Shape of training set:',x_train.shape)\n",
    "print('Shape of validation set:',x_valid.shape)\n",
    "print('Shape of training labels:',y_train.shape)\n",
    "print('Shape of validation labels:',y_valid.shape)\n",
    "print('Shape of testing set:',X_test_prep.shape)\n",
    "print('Shape of testing labels:',y_test_prep.shape)\n",
    "\n",
    "\n",
    "# Converting the labels to categorical variables for multiclass classification\n",
    "y_train = to_categorical(y_train, 4)\n",
    "y_valid = to_categorical(y_valid, 4)\n",
    "y_test = to_categorical(y_test_prep, 4)\n",
    "print('Shape of training labels after categorical conversion:',y_train.shape)\n",
    "print('Shape of validation labels after categorical conversion:',y_valid.shape)\n",
    "print('Shape of test labels after categorical conversion:',y_test.shape)\n",
    "\n",
    "# Adding width of the segment to be 1\n",
    "x_train = x_train.reshape(x_train.shape[0], x_train.shape[1], x_train.shape[2], 1)\n",
    "x_valid = x_valid.reshape(x_valid.shape[0], x_valid.shape[1], x_train.shape[2], 1)\n",
    "x_test = X_test_prep.reshape(X_test_prep.shape[0], X_test_prep.shape[1], X_test_prep.shape[2], 1)\n",
    "print('Shape of training set after adding width info:',x_train.shape)\n",
    "print('Shape of validation set after adding width info:',x_valid.shape)\n",
    "print('Shape of test set after adding width info:',x_test.shape)\n",
    "\n",
    "\n",
    "# Reshaping the training and validation dataset\n",
    "x_train = np.swapaxes(x_train, 1,3)\n",
    "x_train = np.swapaxes(x_train, 1,2)\n",
    "x_valid = np.swapaxes(x_valid, 1,3)\n",
    "x_valid = np.swapaxes(x_valid, 1,2)\n",
    "x_test = np.swapaxes(x_test, 1,3)\n",
    "x_test = np.swapaxes(x_test, 1,2)\n",
    "print('Shape of training set after dimension reshaping:',x_train.shape)\n",
    "print('Shape of validation set after dimension reshaping:',x_valid.shape)\n",
    "print('Shape of test set after dimension reshaping:',x_test.shape)\n",
    "\n",
    "\n"
   ]
  },
  {
   "cell_type": "markdown",
   "metadata": {},
   "source": [
    "## (iii)(CNN-LSTM) Defining the architecture of the hybrid CNN-LSTM model"
   ]
  },
  {
   "cell_type": "code",
   "execution_count": 4,
   "metadata": {},
   "outputs": [
    {
     "name": "stderr",
     "output_type": "stream",
     "text": [
      "2023-03-11 18:16:57.060079: I tensorflow/core/platform/cpu_feature_guard.cc:193] This TensorFlow binary is optimized with oneAPI Deep Neural Network Library (oneDNN) to use the following CPU instructions in performance-critical operations:  AVX2 FMA\n",
      "To enable them in other operations, rebuild TensorFlow with the appropriate compiler flags.\n"
     ]
    },
    {
     "name": "stdout",
     "output_type": "stream",
     "text": [
      "Model: \"sequential\"\n",
      "_________________________________________________________________\n",
      " Layer (type)                Output Shape              Param #   \n",
      "=================================================================\n",
      " conv2d (Conv2D)             (None, 250, 1, 25)        5525      \n",
      "                                                                 \n",
      " max_pooling2d (MaxPooling2D  (None, 84, 1, 25)        0         \n",
      " )                                                               \n",
      "                                                                 \n",
      " batch_normalization (BatchN  (None, 84, 1, 25)        100       \n",
      " ormalization)                                                   \n",
      "                                                                 \n",
      " dropout (Dropout)           (None, 84, 1, 25)         0         \n",
      "                                                                 \n",
      " conv2d_1 (Conv2D)           (None, 84, 1, 50)         12550     \n",
      "                                                                 \n",
      " max_pooling2d_1 (MaxPooling  (None, 28, 1, 50)        0         \n",
      " 2D)                                                             \n",
      "                                                                 \n",
      " batch_normalization_1 (Batc  (None, 28, 1, 50)        200       \n",
      " hNormalization)                                                 \n",
      "                                                                 \n",
      " dropout_1 (Dropout)         (None, 28, 1, 50)         0         \n",
      "                                                                 \n",
      " conv2d_2 (Conv2D)           (None, 28, 1, 100)        50100     \n",
      "                                                                 \n",
      " max_pooling2d_2 (MaxPooling  (None, 10, 1, 100)       0         \n",
      " 2D)                                                             \n",
      "                                                                 \n",
      " batch_normalization_2 (Batc  (None, 10, 1, 100)       400       \n",
      " hNormalization)                                                 \n",
      "                                                                 \n",
      " dropout_2 (Dropout)         (None, 10, 1, 100)        0         \n",
      "                                                                 \n",
      " conv2d_3 (Conv2D)           (None, 10, 1, 200)        200200    \n",
      "                                                                 \n",
      " max_pooling2d_3 (MaxPooling  (None, 4, 1, 200)        0         \n",
      " 2D)                                                             \n",
      "                                                                 \n",
      " batch_normalization_3 (Batc  (None, 4, 1, 200)        800       \n",
      " hNormalization)                                                 \n",
      "                                                                 \n",
      " dropout_3 (Dropout)         (None, 4, 1, 200)         0         \n",
      "                                                                 \n",
      " flatten (Flatten)           (None, 800)               0         \n",
      "                                                                 \n",
      " dense (Dense)               (None, 100)               80100     \n",
      "                                                                 \n",
      " reshape (Reshape)           (None, 100, 1)            0         \n",
      "                                                                 \n",
      " lstm (LSTM)                 (None, 10)                480       \n",
      "                                                                 \n",
      " dense_1 (Dense)             (None, 4)                 44        \n",
      "                                                                 \n",
      "=================================================================\n",
      "Total params: 350,499\n",
      "Trainable params: 349,749\n",
      "Non-trainable params: 750\n",
      "_________________________________________________________________\n"
     ]
    }
   ],
   "source": [
    "# Building the CNN model using sequential class\n",
    "hybrid_cnn_lstm_model = Sequential()\n",
    "\n",
    "# Conv. block 1\n",
    "hybrid_cnn_lstm_model.add(Conv2D(filters=25, kernel_size=(10,1), padding='same', activation='elu', input_shape=(250,1,22)))\n",
    "hybrid_cnn_lstm_model.add(MaxPooling2D(pool_size=(3,1), padding='same')) # Read the keras documentation\n",
    "hybrid_cnn_lstm_model.add(BatchNormalization())\n",
    "hybrid_cnn_lstm_model.add(Dropout(0.5))\n",
    "\n",
    "# Conv. block 2\n",
    "hybrid_cnn_lstm_model.add(Conv2D(filters=50, kernel_size=(10,1), padding='same', activation='elu'))\n",
    "hybrid_cnn_lstm_model.add(MaxPooling2D(pool_size=(3,1), padding='same'))\n",
    "hybrid_cnn_lstm_model.add(BatchNormalization())\n",
    "hybrid_cnn_lstm_model.add(Dropout(0.5))\n",
    "\n",
    "# Conv. block 3\n",
    "hybrid_cnn_lstm_model.add(Conv2D(filters=100, kernel_size=(10,1), padding='same', activation='elu'))\n",
    "hybrid_cnn_lstm_model.add(MaxPooling2D(pool_size=(3,1), padding='same'))\n",
    "hybrid_cnn_lstm_model.add(BatchNormalization())\n",
    "hybrid_cnn_lstm_model.add(Dropout(0.5))\n",
    "\n",
    "# Conv. block 4\n",
    "hybrid_cnn_lstm_model.add(Conv2D(filters=200, kernel_size=(10,1), padding='same', activation='elu'))\n",
    "hybrid_cnn_lstm_model.add(MaxPooling2D(pool_size=(3,1), padding='same'))\n",
    "hybrid_cnn_lstm_model.add(BatchNormalization())\n",
    "hybrid_cnn_lstm_model.add(Dropout(0.5))\n",
    "\n",
    "# FC+LSTM layers\n",
    "hybrid_cnn_lstm_model.add(Flatten()) # Adding a flattening operation to the output of CNN block\n",
    "hybrid_cnn_lstm_model.add(Dense((100))) # FC layer with 100 units\n",
    "hybrid_cnn_lstm_model.add(Reshape((100,1))) # Reshape my output of FC layer so that it's compatible\n",
    "hybrid_cnn_lstm_model.add(LSTM(10, dropout=0.6, recurrent_dropout=0.1, input_shape=(100,1), return_sequences=False))\n",
    "\n",
    "\n",
    "# Output layer with Softmax activation \n",
    "hybrid_cnn_lstm_model.add(Dense(4, activation='softmax')) # Output FC layer with softmax activation\n",
    "\n",
    "\n",
    "# Printing the model summary\n",
    "hybrid_cnn_lstm_model.summary()\n",
    "\n",
    "\n",
    "\n",
    "\n",
    "\n"
   ]
  },
  {
   "cell_type": "markdown",
   "metadata": {},
   "source": [
    "## (iv)(CNN-LSTM) Defining the hyperparameters of the hybrid CNN-LSTM model"
   ]
  },
  {
   "cell_type": "code",
   "execution_count": 5,
   "metadata": {},
   "outputs": [
    {
     "name": "stderr",
     "output_type": "stream",
     "text": [
      "/Users/shivampatel/miniconda3/envs/ta4/lib/python3.10/site-packages/keras/optimizers/optimizer_v2/adam.py:117: UserWarning: The `lr` argument is deprecated, use `learning_rate` instead.\n",
      "  super().__init__(name, **kwargs)\n"
     ]
    }
   ],
   "source": [
    "# Model parameters\n",
    "learning_rate = 1e-3\n",
    "epochs = 50\n",
    "hybrid_cnn_lstm_optimizer = keras.optimizers.Adam(lr=learning_rate)"
   ]
  },
  {
   "cell_type": "markdown",
   "metadata": {},
   "source": [
    "## (v)(CNN-LSTM) Compiling, training and validating the model"
   ]
  },
  {
   "cell_type": "code",
   "execution_count": 6,
   "metadata": {},
   "outputs": [
    {
     "name": "stdout",
     "output_type": "stream",
     "text": [
      "Epoch 1/50\n",
      "109/109 [==============================] - 26s 175ms/step - loss: 1.3848 - accuracy: 0.2728 - val_loss: 1.3840 - val_accuracy: 0.2707\n",
      "Epoch 2/50\n",
      "109/109 [==============================] - 13s 119ms/step - loss: 1.3716 - accuracy: 0.2987 - val_loss: 1.3405 - val_accuracy: 0.3187\n",
      "Epoch 3/50\n",
      "109/109 [==============================] - 13s 119ms/step - loss: 1.3398 - accuracy: 0.3514 - val_loss: 1.2872 - val_accuracy: 0.3707\n",
      "Epoch 4/50\n",
      "109/109 [==============================] - 13s 121ms/step - loss: 1.2738 - accuracy: 0.4152 - val_loss: 1.2826 - val_accuracy: 0.3953\n",
      "Epoch 5/50\n",
      "109/109 [==============================] - 13s 119ms/step - loss: 1.2236 - accuracy: 0.4549 - val_loss: 1.2220 - val_accuracy: 0.4313\n",
      "Epoch 6/50\n",
      "109/109 [==============================] - 13s 120ms/step - loss: 1.1848 - accuracy: 0.4806 - val_loss: 1.2146 - val_accuracy: 0.4393\n",
      "Epoch 7/50\n",
      "109/109 [==============================] - 13s 122ms/step - loss: 1.1542 - accuracy: 0.4915 - val_loss: 1.1943 - val_accuracy: 0.4360\n",
      "Epoch 8/50\n",
      "109/109 [==============================] - 13s 121ms/step - loss: 1.1136 - accuracy: 0.5159 - val_loss: 1.2546 - val_accuracy: 0.4427\n",
      "Epoch 9/50\n",
      "109/109 [==============================] - 13s 119ms/step - loss: 1.0953 - accuracy: 0.5243 - val_loss: 1.1556 - val_accuracy: 0.4553\n",
      "Epoch 10/50\n",
      "109/109 [==============================] - 13s 122ms/step - loss: 1.0678 - accuracy: 0.5457 - val_loss: 1.1658 - val_accuracy: 0.4560\n",
      "Epoch 11/50\n",
      "109/109 [==============================] - 13s 121ms/step - loss: 1.0372 - accuracy: 0.5536 - val_loss: 1.1821 - val_accuracy: 0.4813\n",
      "Epoch 12/50\n",
      "109/109 [==============================] - 13s 122ms/step - loss: 1.0143 - accuracy: 0.5726 - val_loss: 1.1937 - val_accuracy: 0.4807\n",
      "Epoch 13/50\n",
      "109/109 [==============================] - 16s 146ms/step - loss: 0.9807 - accuracy: 0.5881 - val_loss: 1.1329 - val_accuracy: 0.5080\n",
      "Epoch 14/50\n",
      "109/109 [==============================] - 13s 121ms/step - loss: 0.9494 - accuracy: 0.6043 - val_loss: 1.1733 - val_accuracy: 0.5020\n",
      "Epoch 15/50\n",
      "109/109 [==============================] - 13s 121ms/step - loss: 0.9418 - accuracy: 0.6068 - val_loss: 1.1328 - val_accuracy: 0.5467\n",
      "Epoch 16/50\n",
      "109/109 [==============================] - 13s 123ms/step - loss: 0.9251 - accuracy: 0.6208 - val_loss: 1.0781 - val_accuracy: 0.5633\n",
      "Epoch 17/50\n",
      "109/109 [==============================] - 13s 122ms/step - loss: 0.9028 - accuracy: 0.6345 - val_loss: 1.0916 - val_accuracy: 0.5553\n",
      "Epoch 18/50\n",
      "109/109 [==============================] - 13s 122ms/step - loss: 0.8691 - accuracy: 0.6497 - val_loss: 1.0723 - val_accuracy: 0.5840\n",
      "Epoch 19/50\n",
      "109/109 [==============================] - 14s 126ms/step - loss: 0.8409 - accuracy: 0.6730 - val_loss: 1.0732 - val_accuracy: 0.5927\n",
      "Epoch 20/50\n",
      "109/109 [==============================] - 14s 125ms/step - loss: 0.8386 - accuracy: 0.6747 - val_loss: 1.0681 - val_accuracy: 0.5687\n",
      "Epoch 21/50\n",
      "109/109 [==============================] - 14s 126ms/step - loss: 0.7857 - accuracy: 0.7020 - val_loss: 1.0512 - val_accuracy: 0.6080\n",
      "Epoch 22/50\n",
      "109/109 [==============================] - 13s 123ms/step - loss: 0.7685 - accuracy: 0.7042 - val_loss: 1.0369 - val_accuracy: 0.6280\n",
      "Epoch 23/50\n",
      "109/109 [==============================] - 14s 126ms/step - loss: 0.7510 - accuracy: 0.7228 - val_loss: 0.9916 - val_accuracy: 0.6573\n",
      "Epoch 24/50\n",
      "109/109 [==============================] - 14s 128ms/step - loss: 0.7147 - accuracy: 0.7364 - val_loss: 0.9746 - val_accuracy: 0.6380\n",
      "Epoch 25/50\n",
      "109/109 [==============================] - 14s 127ms/step - loss: 0.6937 - accuracy: 0.7486 - val_loss: 0.9669 - val_accuracy: 0.6300\n",
      "Epoch 26/50\n",
      "109/109 [==============================] - 14s 126ms/step - loss: 0.6816 - accuracy: 0.7484 - val_loss: 0.9779 - val_accuracy: 0.6560\n",
      "Epoch 27/50\n",
      "109/109 [==============================] - 14s 127ms/step - loss: 0.6612 - accuracy: 0.7603 - val_loss: 0.9779 - val_accuracy: 0.6680\n",
      "Epoch 28/50\n",
      "109/109 [==============================] - 14s 128ms/step - loss: 0.6470 - accuracy: 0.7612 - val_loss: 0.9955 - val_accuracy: 0.6553\n",
      "Epoch 29/50\n",
      "109/109 [==============================] - 14s 126ms/step - loss: 0.6102 - accuracy: 0.7789 - val_loss: 0.9883 - val_accuracy: 0.6493\n",
      "Epoch 30/50\n",
      "109/109 [==============================] - 14s 127ms/step - loss: 0.6023 - accuracy: 0.7799 - val_loss: 0.9939 - val_accuracy: 0.6580\n",
      "Epoch 31/50\n",
      "109/109 [==============================] - 14s 124ms/step - loss: 0.5854 - accuracy: 0.7927 - val_loss: 1.0291 - val_accuracy: 0.6433\n",
      "Epoch 32/50\n",
      "109/109 [==============================] - 13s 123ms/step - loss: 0.5939 - accuracy: 0.7874 - val_loss: 0.9895 - val_accuracy: 0.6647\n",
      "Epoch 33/50\n",
      "109/109 [==============================] - 13s 122ms/step - loss: 0.5545 - accuracy: 0.8014 - val_loss: 0.9998 - val_accuracy: 0.6607\n",
      "Epoch 34/50\n",
      "109/109 [==============================] - 13s 122ms/step - loss: 0.5305 - accuracy: 0.8075 - val_loss: 0.9939 - val_accuracy: 0.6593\n",
      "Epoch 35/50\n",
      "109/109 [==============================] - 14s 125ms/step - loss: 0.5165 - accuracy: 0.8167 - val_loss: 0.9779 - val_accuracy: 0.6673\n",
      "Epoch 36/50\n",
      "109/109 [==============================] - 14s 124ms/step - loss: 0.5251 - accuracy: 0.8106 - val_loss: 0.9749 - val_accuracy: 0.6740\n",
      "Epoch 37/50\n",
      "109/109 [==============================] - 14s 124ms/step - loss: 0.5124 - accuracy: 0.8165 - val_loss: 1.0055 - val_accuracy: 0.6540\n",
      "Epoch 38/50\n",
      "109/109 [==============================] - 13s 123ms/step - loss: 0.4919 - accuracy: 0.8279 - val_loss: 0.9689 - val_accuracy: 0.6820\n",
      "Epoch 39/50\n",
      "109/109 [==============================] - 13s 123ms/step - loss: 0.4885 - accuracy: 0.8246 - val_loss: 1.0095 - val_accuracy: 0.6720\n",
      "Epoch 40/50\n",
      "109/109 [==============================] - 13s 122ms/step - loss: 0.4630 - accuracy: 0.8353 - val_loss: 0.9566 - val_accuracy: 0.6833\n",
      "Epoch 41/50\n",
      "109/109 [==============================] - 13s 122ms/step - loss: 0.4680 - accuracy: 0.8351 - val_loss: 0.9948 - val_accuracy: 0.6987\n",
      "Epoch 42/50\n",
      "109/109 [==============================] - 13s 123ms/step - loss: 0.4761 - accuracy: 0.8310 - val_loss: 0.9651 - val_accuracy: 0.6887\n",
      "Epoch 43/50\n",
      "109/109 [==============================] - 13s 123ms/step - loss: 0.4514 - accuracy: 0.8417 - val_loss: 1.0133 - val_accuracy: 0.6733\n",
      "Epoch 44/50\n",
      "109/109 [==============================] - 14s 126ms/step - loss: 0.4426 - accuracy: 0.8418 - val_loss: 0.9781 - val_accuracy: 0.6827\n",
      "Epoch 45/50\n",
      "109/109 [==============================] - 14s 124ms/step - loss: 0.4408 - accuracy: 0.8441 - val_loss: 0.9635 - val_accuracy: 0.6960\n",
      "Epoch 46/50\n",
      "109/109 [==============================] - 13s 123ms/step - loss: 0.4299 - accuracy: 0.8454 - val_loss: 0.9876 - val_accuracy: 0.7007\n",
      "Epoch 47/50\n",
      "109/109 [==============================] - 14s 125ms/step - loss: 0.4240 - accuracy: 0.8500 - val_loss: 0.9720 - val_accuracy: 0.6900\n",
      "Epoch 48/50\n",
      "109/109 [==============================] - 15s 133ms/step - loss: 0.4246 - accuracy: 0.8477 - val_loss: 0.9572 - val_accuracy: 0.6907\n",
      "Epoch 49/50\n",
      "109/109 [==============================] - 14s 125ms/step - loss: 0.4131 - accuracy: 0.8497 - val_loss: 0.9554 - val_accuracy: 0.7033\n",
      "Epoch 50/50\n",
      "109/109 [==============================] - 13s 121ms/step - loss: 0.3853 - accuracy: 0.8588 - val_loss: 1.0962 - val_accuracy: 0.6680\n"
     ]
    }
   ],
   "source": [
    "# Compiling the model\n",
    "hybrid_cnn_lstm_model.compile(loss='categorical_crossentropy',\n",
    "                 optimizer=hybrid_cnn_lstm_optimizer,\n",
    "                 metrics=['accuracy'])\n",
    "\n",
    "# Training and validating the model\n",
    "hybrid_cnn_lstm_model_results = hybrid_cnn_lstm_model.fit(x_train,\n",
    "             y_train,\n",
    "             batch_size=64,\n",
    "             epochs=epochs,\n",
    "             validation_data=(x_valid, y_valid), verbose=True)\n",
    "\n"
   ]
  },
  {
   "cell_type": "markdown",
   "metadata": {},
   "source": [
    "## (vi)(CNN-LSTM) Visualizing the accuracy and loss trajectory"
   ]
  },
  {
   "cell_type": "code",
   "execution_count": 7,
   "metadata": {},
   "outputs": [
    {
     "data": {
      "image/png": "[encoded data removed]",
      "text/plain": [
       "<Figure size 640x480 with 1 Axes>"
      ]
     },
     "metadata": {},
     "output_type": "display_data"
    },
    {
     "data": {
      "image/png": "[encoded data removed]",
      "text/plain": [
       "<Figure size 640x480 with 1 Axes>"
      ]
     },
     "metadata": {},
     "output_type": "display_data"
    }
   ],
   "source": [
    "import matplotlib.pyplot as plt\n",
    "\n",
    "# Plotting accuracy trajectory\n",
    "plt.plot(hybrid_cnn_lstm_model_results.history['accuracy'])\n",
    "plt.plot(hybrid_cnn_lstm_model_results.history['val_accuracy'])\n",
    "plt.title('Hybrid CNN-LSTM model accuracy trajectory')\n",
    "plt.ylabel('accuracy')\n",
    "plt.xlabel('epoch')\n",
    "plt.legend(['train', 'val'], loc='upper left')\n",
    "plt.show()\n",
    "\n",
    "# Plotting loss trajectory\n",
    "plt.plot(hybrid_cnn_lstm_model_results.history['loss'],'o')\n",
    "plt.plot(hybrid_cnn_lstm_model_results.history['val_loss'],'o')\n",
    "plt.title('Hybrid CNN-LSTM model loss trajectory')\n",
    "plt.ylabel('loss')\n",
    "plt.xlabel('epoch')\n",
    "plt.legend(['train', 'val'], loc='upper left')\n",
    "plt.show()"
   ]
  },
  {
   "cell_type": "markdown",
   "metadata": {},
   "source": [
    "## (vii)(CNN-LSTM) Testing the performance of the hybrid CNN-LSTM model on the held out test set"
   ]
  },
  {
   "cell_type": "code",
   "execution_count": 8,
   "metadata": {},
   "outputs": [
    {
     "name": "stdout",
     "output_type": "stream",
     "text": [
      "Test accuracy of the hybrid CNN-LSTM model: 0.6591421961784363\n"
     ]
    }
   ],
   "source": [
    "## Testing the hybrid CNN-LSTM model\n",
    "\n",
    "hybrid_cnn_lstm_score = hybrid_cnn_lstm_model.evaluate(x_test, y_test, verbose=0)\n",
    "print('Test accuracy of the hybrid CNN-LSTM model:',hybrid_cnn_lstm_score[1])"
   ]
  },
  {
   "cell_type": "code",
   "execution_count": null,
   "metadata": {},
   "outputs": [],
   "source": []
  }
 ],
 "metadata": {
  "kernelspec": {
   "display_name": "Python 3 (ipykernel)",
   "language": "python",
   "name": "python3"
  },
  "language_info": {
   "codemirror_mode": {
    "name": "ipython",
    "version": 3
   },
   "file_extension": ".py",
   "mimetype": "text/x-python",
   "name": "python",
   "nbconvert_exporter": "python",
   "pygments_lexer": "ipython3",
   "version": "3.10.9"
  }
 },
 "nbformat": 4,
 "nbformat_minor": 2
}
