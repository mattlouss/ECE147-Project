{
 "cells": [
  {
   "cell_type": "code",
   "execution_count": 130,
   "metadata": {},
   "outputs": [],
   "source": [
    "import os\n",
    "os.environ['TF_CPP_MIN_LOG_LEVEL'] = '3' \n",
    "\n",
    "import numpy as np\n",
    "import tensorflow as tf                  \n",
    "import tensorflow.nn as nn               # nn contains useful neural network functions like softmax, relu, tanh\n",
    "from tensorflow import keras             # high level API for TensorFlow\n",
    "import tensorflow.keras.layers as layers # contains layers like RNN, CNN, LSTM\n",
    "from sklearn.model_selection import train_test_split\n",
    "from matplotlib import pyplot as plt"
   ]
  },
  {
   "cell_type": "code",
   "execution_count": 131,
   "metadata": {},
   "outputs": [],
   "source": [
    "X_test = np.load(\"X_test.npy\")\n",
    "y_test = np.load(\"y_test.npy\")\n",
    "person_train_valid = np.load(\"person_train_valid.npy\")\n",
    "X_train_valid = np.load(\"X_train_valid.npy\")\n",
    "y_train_valid = np.load(\"y_train_valid.npy\")\n",
    "person_test = np.load(\"person_test.npy\")\n"
   ]
  },
  {
   "cell_type": "markdown",
   "metadata": {},
   "source": [
    "### Shape of data"
   ]
  },
  {
   "cell_type": "code",
   "execution_count": 132,
   "metadata": {},
   "outputs": [
    {
     "name": "stdout",
     "output_type": "stream",
     "text": [
      "Training/Valid data shape: (2115, 22, 1000)\n",
      "Test data shape: (443, 22, 1000)\n",
      "Training/Valid target shape: (2115,)\n",
      "Test target shape: (443,)\n",
      "Person train/valid shape: (2115, 1)\n",
      "Person test shape: (443, 1)\n"
     ]
    }
   ],
   "source": [
    "print ('Training/Valid data shape: {}'.format(X_train_valid.shape))\n",
    "print ('Test data shape: {}'.format(X_test.shape))\n",
    "print ('Training/Valid target shape: {}'.format(y_train_valid.shape))\n",
    "print ('Test target shape: {}'.format(y_test.shape))\n",
    "print ('Person train/valid shape: {}'.format(person_train_valid.shape))\n",
    "print ('Person test shape: {}'.format(person_test.shape))\n"
   ]
  },
  {
   "cell_type": "markdown",
   "metadata": {},
   "source": [
    "### RNN"
   ]
  },
  {
   "cell_type": "code",
   "execution_count": 36,
   "metadata": {
    "scrolled": true
   },
   "outputs": [
    {
     "name": "stdout",
     "output_type": "stream",
     "text": [
      "Model: \"sequential_6\"\n",
      "_________________________________________________________________\n",
      " Layer (type)                Output Shape              Param #   \n",
      "=================================================================\n",
      " LSTM-1 (LSTM)               (None, 1000, 16)          2496      \n",
      "                                                                 \n",
      " LSTM-2 (LSTM)               (None, 8)                 800       \n",
      "                                                                 \n",
      " class-probs (Dense)         (None, 4)                 36        \n",
      "                                                                 \n",
      "=================================================================\n",
      "Total params: 3,332\n",
      "Trainable params: 3,332\n",
      "Non-trainable params: 0\n",
      "_________________________________________________________________\n"
     ]
    }
   ],
   "source": [
    "rnn_clf = keras.Sequential([keras.layers.LSTM(16, input_shape=(1000, 22), return_sequences=True,\n",
    "                                              dropout=0.5, name=\"LSTM-1\"),\n",
    "                            keras.layers.LSTM(8, dropout=0.5, name=\"LSTM-2\"),\n",
    "                            keras.layers.Dense(4, activation=nn.softmax, name=\"class-probs\")\n",
    "                           ])\n",
    "rnn_clf.summary()"
   ]
  },
  {
   "cell_type": "code",
   "execution_count": 60,
   "metadata": {},
   "outputs": [],
   "source": [
    "y_train_valid[y_train_valid==769] = 0  # cue onset left\n",
    "y_train_valid[y_train_valid==770] = 1  # cue onset right\n",
    "y_train_valid[y_train_valid==771] = 2  # cue onset foot\n",
    "y_train_valid[y_train_valid==772] = 3  # cue onset tongue\n",
    "\n",
    "y_test[y_test==769] = 0  # cue onset left\n",
    "y_test[y_test==770] = 1  # cue onset right\n",
    "y_test[y_test==771] = 2  # cue onset foot\n",
    "y_test[y_test==772] = 3  # cue onset tongue"
   ]
  },
  {
   "cell_type": "code",
   "execution_count": 96,
   "metadata": {},
   "outputs": [],
   "source": [
    "# split the training and validation\n",
    "X_train, X_valid, y_train, y_valid = train_test_split(X_train_valid, y_train_valid, test_size=0.2, random_state=12345)"
   ]
  },
  {
   "cell_type": "code",
   "execution_count": 97,
   "metadata": {},
   "outputs": [],
   "source": [
    "# construct the dataset from the NumPy arrays\n",
    "X_train = tf.data.Dataset.from_tensor_slices((X_train, y_train))\n",
    "X_valid = tf.data.Dataset.from_tensor_slices((X_valid, y_valid))\n",
    "# X_test = tf.data.Dataset.from_tensor_slices((X_test, y_test))\n",
    "\n",
    "# batch and shuffle\n",
    "X_train = X_train.shuffle(1024).batch(32)\n",
    "X_valid = X_valid.shuffle(1024).batch(32)\n",
    "# X_test = X_test.shuffle(1024).batch(32)\n",
    "\n",
    "# print(X_train)"
   ]
  },
  {
   "cell_type": "code",
   "execution_count": 122,
   "metadata": {},
   "outputs": [],
   "source": [
    "# using the built in sparse categorical cross entropy loss\n",
    "loss_fn = keras.losses.SparseCategoricalCrossentropy()\n",
    "\n",
    "# choose an optimizer\n",
    "opt = keras.optimizers.Adam(learning_rate=0.0001)\n",
    "# there are some other optimizers you can choose from\n",
    "#opt = keras.optimizers.Adamax()\n",
    "#opt = keras.optimizers.RMSprop()\n",
    "#opt = keras.optimizers.SGD()"
   ]
  },
  {
   "cell_type": "code",
   "execution_count": 57,
   "metadata": {},
   "outputs": [
    {
     "data": {
      "text/plain": [
       "[]"
      ]
     },
     "execution_count": 57,
     "metadata": {},
     "output_type": "execute_result"
    }
   ],
   "source": [
    "tf.config.list_physical_devices('GPU')  # if this returns empty enable GPU in collab"
   ]
  },
  {
   "cell_type": "code",
   "execution_count": 123,
   "metadata": {},
   "outputs": [
    {
     "name": "stdout",
     "output_type": "stream",
     "text": [
      "Epoch 1/10\n",
      "53/53 [==============================] - 85s 1s/step - loss: 1.3807 - accuracy: 0.2855 - val_loss: 1.3968 - val_accuracy: 0.2577\n",
      "Epoch 2/10\n",
      "53/53 [==============================] - 71s 1s/step - loss: 1.3785 - accuracy: 0.2920 - val_loss: 1.3972 - val_accuracy: 0.2553\n",
      "Epoch 3/10\n",
      "53/53 [==============================] - 70s 1s/step - loss: 1.3806 - accuracy: 0.2725 - val_loss: 1.3970 - val_accuracy: 0.2530\n",
      "Epoch 4/10\n",
      "53/53 [==============================] - 77s 1s/step - loss: 1.3777 - accuracy: 0.2843 - val_loss: 1.3971 - val_accuracy: 0.2553\n",
      "Epoch 5/10\n",
      "53/53 [==============================] - 76s 1s/step - loss: 1.3819 - accuracy: 0.2813 - val_loss: 1.3971 - val_accuracy: 0.2553\n",
      "Epoch 6/10\n",
      "53/53 [==============================] - 77s 1s/step - loss: 1.3802 - accuracy: 0.2713 - val_loss: 1.3968 - val_accuracy: 0.2600\n",
      "Epoch 7/10\n",
      "53/53 [==============================] - 76s 1s/step - loss: 1.3799 - accuracy: 0.2760 - val_loss: 1.3966 - val_accuracy: 0.2600\n",
      "Epoch 8/10\n",
      "53/53 [==============================] - 77s 1s/step - loss: 1.3826 - accuracy: 0.2524 - val_loss: 1.3967 - val_accuracy: 0.2553\n",
      "Epoch 9/10\n",
      "53/53 [==============================] - 74s 1s/step - loss: 1.3791 - accuracy: 0.2695 - val_loss: 1.3972 - val_accuracy: 0.2506\n",
      "Epoch 10/10\n",
      "53/53 [==============================] - 79s 1s/step - loss: 1.3807 - accuracy: 0.2772 - val_loss: 1.3969 - val_accuracy: 0.2459\n"
     ]
    }
   ],
   "source": [
    "rnn_clf.compile(optimizer=opt, loss=loss_fn, metrics='accuracy')\n",
    "history = rnn_clf.fit(x=X_train, validation_data=X_valid, epochs=10)"
   ]
  },
  {
   "cell_type": "code",
   "execution_count": 103,
   "metadata": {},
   "outputs": [],
   "source": [
    "# plt.plot(history.history[\"accuracy\"], label=\"training accuracy\")\n",
    "# plt.plot(history.history[\"val_accuracy\"], label=\"validation accuracy\")\n",
    "# plt.legend()\n",
    "# plt.show()"
   ]
  },
  {
   "cell_type": "markdown",
   "metadata": {},
   "source": [
    "### CNN"
   ]
  },
  {
   "cell_type": "code",
   "execution_count": 124,
   "metadata": {},
   "outputs": [
    {
     "name": "stdout",
     "output_type": "stream",
     "text": [
      "Model: \"sequential_8\"\n",
      "_________________________________________________________________\n",
      " Layer (type)                Output Shape              Param #   \n",
      "=================================================================\n",
      " conv1 (Conv2D)              (None, 39, 22, 6)         306       \n",
      "                                                                 \n",
      " conv2d_1 (Conv2D)           (None, 39, 10, 6)         150       \n",
      "                                                                 \n",
      " average_pooling2d_5 (Averag  (None, 3, 5, 6)          0         \n",
      " ePooling2D)                                                     \n",
      "                                                                 \n",
      " flatten_5 (Flatten)         (None, 90)                0         \n",
      "                                                                 \n",
      " dense_1 (Dense)             (None, 32)                2912      \n",
      "                                                                 \n",
      " class-probs (Dense)         (None, 4)                 132       \n",
      "                                                                 \n",
      "=================================================================\n",
      "Total params: 3,500\n",
      "Trainable params: 3,500\n",
      "Non-trainable params: 0\n",
      "_________________________________________________________________\n"
     ]
    }
   ],
   "source": [
    "cnn_clf = tf.keras.Sequential(\n",
    "    [\n",
    "        keras.layers.Conv2D(6, (50,1), strides=(25,1), input_shape=(1000,22,1), name=\"conv1\"),\n",
    "        keras.layers.Conv2D(6, (1, 4), strides=(1,2)),\n",
    "        keras.layers.AveragePooling2D(pool_size=(10,2)),\n",
    "        keras.layers.Flatten(),\n",
    "        keras.layers.Dense(32),\n",
    "        keras.layers.Dense(4, activation=nn.softmax, name=\"class-probs\")\n",
    "    ])\n",
    "cnn_clf.summary()"
   ]
  },
  {
   "cell_type": "code",
   "execution_count": 129,
   "metadata": {},
   "outputs": [
    {
     "name": "stdout",
     "output_type": "stream",
     "text": [
      "Epoch 1/10\n",
      "53/53 [==============================] - 3s 22ms/step - loss: 2.1331 - accuracy: 0.2630 - val_loss: 1.8233 - val_accuracy: 0.3002\n",
      "Epoch 2/10\n",
      "53/53 [==============================] - 1s 15ms/step - loss: 1.8320 - accuracy: 0.2671 - val_loss: 1.6509 - val_accuracy: 0.2931\n",
      "Epoch 3/10\n",
      "53/53 [==============================] - 1s 15ms/step - loss: 1.6746 - accuracy: 0.2648 - val_loss: 1.5529 - val_accuracy: 0.3097\n",
      "Epoch 4/10\n",
      "53/53 [==============================] - 1s 15ms/step - loss: 1.5825 - accuracy: 0.2713 - val_loss: 1.4972 - val_accuracy: 0.3002\n",
      "Epoch 5/10\n",
      "53/53 [==============================] - 1s 16ms/step - loss: 1.5248 - accuracy: 0.2766 - val_loss: 1.4607 - val_accuracy: 0.2979\n",
      "Epoch 6/10\n",
      "53/53 [==============================] - 1s 15ms/step - loss: 1.4857 - accuracy: 0.2861 - val_loss: 1.4407 - val_accuracy: 0.2955\n",
      "Epoch 7/10\n",
      "53/53 [==============================] - 1s 15ms/step - loss: 1.4589 - accuracy: 0.2837 - val_loss: 1.4240 - val_accuracy: 0.2931\n",
      "Epoch 8/10\n",
      "53/53 [==============================] - 1s 16ms/step - loss: 1.4376 - accuracy: 0.2961 - val_loss: 1.4142 - val_accuracy: 0.3073\n",
      "Epoch 9/10\n",
      "53/53 [==============================] - 1s 16ms/step - loss: 1.4214 - accuracy: 0.3079 - val_loss: 1.4060 - val_accuracy: 0.3168\n",
      "Epoch 10/10\n",
      "53/53 [==============================] - 1s 15ms/step - loss: 1.4078 - accuracy: 0.3032 - val_loss: 1.4012 - val_accuracy: 0.3168\n"
     ]
    }
   ],
   "source": [
    "opt = keras.optimizers.Adam(learning_rate=0.0001)\n",
    "cnn_clf.compile(optimizer=opt, loss=loss_fn, metrics='accuracy')\n",
    "history = cnn_clf.fit(x=X_train, validation_data=X_valid, epochs=10)"
   ]
  },
  {
   "cell_type": "markdown",
   "metadata": {},
   "source": [
    "### CNN with Residual Connections"
   ]
  },
  {
   "cell_type": "code",
   "execution_count": 127,
   "metadata": {},
   "outputs": [
    {
     "name": "stdout",
     "output_type": "stream",
     "text": [
      "Model: \"eeg_resnet\"\n",
      "__________________________________________________________________________________________________\n",
      " Layer (type)                   Output Shape         Param #     Connected to                     \n",
      "==================================================================================================\n",
      " eeg (InputLayer)               [(None, 1000, 22, 1  0           []                               \n",
      "                                )]                                                                \n",
      "                                                                                                  \n",
      " conv1 (Conv2D)                 (None, 39, 22, 6)    306         ['eeg[0][0]']                    \n",
      "                                                                                                  \n",
      " conv2 (Conv2D)                 (None, 39, 22, 6)    150         ['conv1[0][0]']                  \n",
      "                                                                                                  \n",
      " add_4 (Add)                    (None, 39, 22, 6)    0           ['conv1[0][0]',                  \n",
      "                                                                  'conv2[0][0]']                  \n",
      "                                                                                                  \n",
      " average_pooling2d_6 (AveragePo  (None, 3, 11, 6)    0           ['add_4[0][0]']                  \n",
      " oling2D)                                                                                         \n",
      "                                                                                                  \n",
      " flatten_6 (Flatten)            (None, 198)          0           ['average_pooling2d_6[0][0]']    \n",
      "                                                                                                  \n",
      " fully-connected-1 (Dense)      (None, 32)           6368        ['flatten_6[0][0]']              \n",
      "                                                                                                  \n",
      " class-probs (Dense)            (None, 4)            132         ['fully-connected-1[0][0]']      \n",
      "                                                                                                  \n",
      "==================================================================================================\n",
      "Total params: 6,956\n",
      "Trainable params: 6,956\n",
      "Non-trainable params: 0\n",
      "__________________________________________________________________________________________________\n"
     ]
    }
   ],
   "source": [
    "inputs = keras.Input(shape=(1000,22,1), name='eeg')\n",
    "\n",
    "block_1_output = keras.layers.Conv2D(6, (50,1), strides=(25,1), name='conv1')(inputs)\n",
    "block_2_output = keras.layers.Conv2D(6, (1, 4), strides=(1,1), padding='same', name='conv2')(block_1_output)\n",
    "\n",
    "x = keras.layers.add([block_1_output, block_2_output])\n",
    "x = keras.layers.AveragePooling2D(pool_size=(10,2))(x)\n",
    "x = keras.layers.Flatten()(x)\n",
    "x = keras.layers.Dense(32, name='fully-connected-1')(x)\n",
    "class_probs = keras.layers.Dense(4, activation=nn.softmax, name='class-probs')(x)\n",
    "\n",
    "cnn_res_clf = keras.Model(inputs=inputs, outputs=class_probs, name=\"eeg_resnet\")\n",
    "cnn_res_clf.summary()"
   ]
  },
  {
   "cell_type": "code",
   "execution_count": 128,
   "metadata": {},
   "outputs": [
    {
     "name": "stdout",
     "output_type": "stream",
     "text": [
      "Epoch 1/10\n",
      "53/53 [==============================] - 3s 23ms/step - loss: 2.0564 - accuracy: 0.2896 - val_loss: 1.6298 - val_accuracy: 0.2931\n",
      "Epoch 2/10\n",
      "53/53 [==============================] - 1s 17ms/step - loss: 1.5028 - accuracy: 0.3174 - val_loss: 1.4864 - val_accuracy: 0.3310\n",
      "Epoch 3/10\n",
      "53/53 [==============================] - 1s 18ms/step - loss: 1.4178 - accuracy: 0.3481 - val_loss: 1.4126 - val_accuracy: 0.3546\n",
      "Epoch 4/10\n",
      "53/53 [==============================] - 1s 17ms/step - loss: 1.3723 - accuracy: 0.3593 - val_loss: 1.3885 - val_accuracy: 0.3357\n",
      "Epoch 5/10\n",
      "53/53 [==============================] - 1s 17ms/step - loss: 1.3372 - accuracy: 0.3800 - val_loss: 1.3860 - val_accuracy: 0.3641\n",
      "Epoch 6/10\n",
      "53/53 [==============================] - 1s 17ms/step - loss: 1.3217 - accuracy: 0.3735 - val_loss: 1.3467 - val_accuracy: 0.3735\n",
      "Epoch 7/10\n",
      "53/53 [==============================] - 1s 17ms/step - loss: 1.2938 - accuracy: 0.4119 - val_loss: 1.3424 - val_accuracy: 0.3877\n",
      "Epoch 8/10\n",
      "53/53 [==============================] - 1s 17ms/step - loss: 1.2804 - accuracy: 0.4137 - val_loss: 1.3413 - val_accuracy: 0.3853\n",
      "Epoch 9/10\n",
      "53/53 [==============================] - 1s 17ms/step - loss: 1.2674 - accuracy: 0.4279 - val_loss: 1.3335 - val_accuracy: 0.3924\n",
      "Epoch 10/10\n",
      "53/53 [==============================] - 1s 17ms/step - loss: 1.2532 - accuracy: 0.4137 - val_loss: 1.2999 - val_accuracy: 0.4043\n"
     ]
    }
   ],
   "source": [
    "opt = keras.optimizers.Adamax()\n",
    "cnn_res_clf.compile(optimizer=opt, loss=loss_fn, metrics='accuracy')\n",
    "history = cnn_res_clf.fit(x=X_train, validation_data=X_valid, epochs=10)"
   ]
  }
 ],
 "metadata": {
  "kernelspec": {
   "display_name": "Python 3 (ipykernel)",
   "language": "python",
   "name": "python3"
  },
  "language_info": {
   "codemirror_mode": {
    "name": "ipython",
    "version": 3
   },
   "file_extension": ".py",
   "mimetype": "text/x-python",
   "name": "python",
   "nbconvert_exporter": "python",
   "pygments_lexer": "ipython3",
   "version": "3.10.6"
  }
 },
 "nbformat": 4,
 "nbformat_minor": 2
}
