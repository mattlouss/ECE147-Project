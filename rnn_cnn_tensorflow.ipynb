{
 "cells": [
  {
   "attachments": {},
   "cell_type": "markdown",
   "metadata": {},
   "source": [
    "RNN with Tensorflow"
   ]
  },
  {
   "cell_type": "code",
   "execution_count": null,
   "metadata": {},
   "outputs": [],
   "source": [
    "rnn_clf = keras.Sequential([keras.layers.LSTM(16, input_shape=(1000, 22), return_sequences=True,\n",
    "                                              dropout=0.5, name=\"LSTM-1\"),\n",
    "                            keras.layers.LSTM(8, dropout=0.5, name=\"LSTM-2\"),\n",
    "                            keras.layers.Dense(4, activation=nn.softmax, name=\"class-probs\")\n",
    "                           ])\n",
    "rnn_clf.summary()"
   ]
  },
  {
   "cell_type": "code",
   "execution_count": null,
   "metadata": {},
   "outputs": [],
   "source": [
    "rnn_clf = tf.keras.Sequential()   # initialize a model with no layers\n",
    "rnn_clf.add(keras.layers.LSTM(16, input_shape=(1000, 22), return_sequences=True,\n",
    "                                              dropout=0.5, name=\"LSTM-1\"))\n",
    "rnn_clf.summary()"
   ]
  },
  {
   "cell_type": "code",
   "execution_count": null,
   "metadata": {},
   "outputs": [],
   "source": [
    "rnn_clf.add(keras.layers.LSTM(8, dropout=0.5, name=\"LSTM-2\"))\n",
    "rnn_clf.summary()"
   ]
  },
  {
   "cell_type": "code",
   "execution_count": null,
   "metadata": {},
   "outputs": [],
   "source": [
    "# add the final fully connected layer\n",
    "rnn_clf.add(keras.layers.Dense(4, activation=nn.softmax, name=\"class-probs\"))\n",
    "\n",
    "# print the summary again\n",
    "rnn_clf.summary()"
   ]
  },
  {
   "attachments": {},
   "cell_type": "markdown",
   "metadata": {},
   "source": [
    "CNN with Tensorflow"
   ]
  },
  {
   "cell_type": "code",
   "execution_count": null,
   "metadata": {},
   "outputs": [],
   "source": [
    "# Define an input layer for grayscale image\n",
    "inputs = keras.Input(shape=(1000,22,1), name=\"EEG\")"
   ]
  },
  {
   "cell_type": "code",
   "execution_count": null,
   "metadata": {},
   "outputs": [],
   "source": [
    "# define a sequence of operations on tensors\n",
    "x = keras.layers.Conv2D(6, (50,1), strides=(25,1), name=\"conv1\")(inputs)\n",
    "x = keras.layers.Conv2D(6, (1, 4), strides=(1,2), name=\"conv2\")(x)\n",
    "x = keras.layers.AveragePooling2D(pool_size=(10,2))(x)\n",
    "x = keras.layers.Flatten()(x)\n",
    "x = keras.layers.Dense(32, name=\"fully-connected-1\")(x)\n",
    "class_probs = keras.layers.Dense(4, activation=nn.softmax, name=\"class-probs\")(x)"
   ]
  },
  {
   "cell_type": "code",
   "execution_count": null,
   "metadata": {},
   "outputs": [],
   "source": [
    "# now wrap the model inputs and outputs\n",
    "cnn_clf = keras.Model(inputs=inputs, outputs=class_probs, name=\"eeg_cnn\")\n",
    "\n",
    "# we can now print a summary of the model as before\n",
    "cnn_clf.summary()"
   ]
  },
  {
   "cell_type": "code",
   "execution_count": null,
   "metadata": {},
   "outputs": [],
   "source": [
    "# create an input layer for grayscale image\n",
    "inputs = keras.Input(shape=(1000,22,1), name='eeg')\n",
    "\n",
    "# define a sequence of operations on tensors\n",
    "block_1_output = keras.layers.Conv2D(6, (50,1), strides=(25,1), name='conv1')(inputs)\n",
    "# block_2_output must have same shape so change the padding to same and strides=1\n",
    "block_2_output = keras.layers.Conv2D(6, (1, 4), strides=(1,1), padding='same', \n",
    "                                     name='conv2')(block_1_output)\n",
    "# add the outputs from block 1 and block 2 together\n",
    "x = keras.layers.add([block_1_output, block_2_output])\n",
    "\n",
    "# continue with the rest of the model\n",
    "x = keras.layers.AveragePooling2D(pool_size=(10,2))(x)\n",
    "x = keras.layers.Flatten()(x)\n",
    "x = keras.layers.Dense(32, name='fully-connected-1')(x)\n",
    "class_probs = keras.layers.Dense(4, activation=nn.softmax, name='class-probs')(x)\n",
    "\n",
    "# now wrap the model inputs and outputs\n",
    "res_clf = keras.Model(inputs=inputs, outputs=class_probs, name=\"eeg_resnet\")\n",
    "\n",
    "# we can now print a summary of the model as before\n",
    "res_clf.summary()"
   ]
  }
 ],
 "metadata": {
  "language_info": {
   "name": "python"
  },
  "orig_nbformat": 4
 },
 "nbformat": 4,
 "nbformat_minor": 2
}
